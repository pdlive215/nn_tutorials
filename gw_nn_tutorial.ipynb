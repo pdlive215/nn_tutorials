{
 "cells": [
  {
   "cell_type": "markdown",
   "metadata": {},
   "source": [
    "**AN INTRODUCTION TO NEURAL NETWORKS**\n",
    "\n",
    "*Patrick Donnelly, Groupware Technology*\n",
    "\n",
    "This lab will introduce the basic operations of training neural networks. We will examine matrix multiplications, additions, softmax, cross-entropy, convolutions, and activation functions in pure Python, NumPy, and PyTorch. By the end of this lab, you will be able to code a neural network for image classification in PyTorch and understand the mathematics behind deep learning."
   ]
  },
  {
   "cell_type": "markdown",
   "metadata": {},
   "source": [
    "We can think of the simplest network as consisting of an **input node** and an **output node**.\n",
    "\n",
    "We can then apply a **weight** to the input to generate the output.\n",
    "\n",
    "The weight multiplies the input $x$ by a constant $w$ to generate the output. We'll call this output $a$.\n",
    "\n",
    "If $w=1$, the output is simply the input\n",
    "\n",
    "Let's begin by defining an input node $x$ and an output node $Y$\n",
    "\n",
    "Going forward, we will use $Y$ to denote our output (or model prediction) and $y$ to denote our label (or ground truth)"
   ]
  },
  {
   "cell_type": "code",
   "execution_count": 1,
   "metadata": {},
   "outputs": [],
   "source": [
    "def output (x, w):\n",
    "    return w*x"
   ]
  },
  {
   "cell_type": "markdown",
   "metadata": {},
   "source": [
    "For example, with $x=1$ and $w=1$:"
   ]
  },
  {
   "cell_type": "code",
   "execution_count": 2,
   "metadata": {},
   "outputs": [
    {
     "data": {
      "text/plain": [
       "1"
      ]
     },
     "execution_count": 2,
     "metadata": {},
     "output_type": "execute_result"
    }
   ],
   "source": [
    "output (1, 1)"
   ]
  },
  {
   "cell_type": "markdown",
   "metadata": {},
   "source": [
    "We can also add a **bias**, or constant value $b$ added to the input\n",
    "\n",
    "By convention, we represent biases as nodes\n",
    "\n",
    "If $b=1$, we add one to our weighted input to generate our output"
   ]
  },
  {
   "cell_type": "code",
   "execution_count": 3,
   "metadata": {},
   "outputs": [],
   "source": [
    "def output_with_bias (x, w, b):\n",
    "    return w*x + b"
   ]
  },
  {
   "cell_type": "markdown",
   "metadata": {},
   "source": [
    "For example, with $x=1$, $w=1$, and $b=1$: "
   ]
  },
  {
   "cell_type": "code",
   "execution_count": 4,
   "metadata": {},
   "outputs": [
    {
     "data": {
      "text/plain": [
       "2"
      ]
     },
     "execution_count": 4,
     "metadata": {},
     "output_type": "execute_result"
    }
   ],
   "source": [
    "output_with_bias (1, 1, 1)"
   ]
  },
  {
   "cell_type": "markdown",
   "metadata": {},
   "source": [
    "We've now defined a line. However, when training a neural network, we don't know the values of $w$ or $b$ \n",
    "\n",
    "We need to use our inputs, outputs, and a **learning algorithm** to learn $w$ and $b$\n",
    "\n",
    "If we have one input/output pair, and our output is equal to $2 * input + 1$, then our output will be $1$ when the input is $0$:"
   ]
  },
  {
   "cell_type": "code",
   "execution_count": 5,
   "metadata": {},
   "outputs": [
    {
     "data": {
      "text/plain": [
       "1"
      ]
     },
     "execution_count": 5,
     "metadata": {},
     "output_type": "execute_result"
    }
   ],
   "source": [
    "output_with_bias (0, 2, 1)"
   ]
  },
  {
   "cell_type": "markdown",
   "metadata": {},
   "source": [
    "However, we don't \"know\" $w$ or $b$, and there are an infinite number of pairs of $(w, b)$ that satisfy $f(0) = 1$. Make sense?\n",
    "\n",
    "With two input/output pairs, we can solve for our weight and bias:"
   ]
  },
  {
   "cell_type": "code",
   "execution_count": 6,
   "metadata": {},
   "outputs": [],
   "source": [
    "def linear_solver (x1, y1, x2, y2):\n",
    "    w = (y2 - y1)/(x2 - x1)\n",
    "    b = y1 - w*x1\n",
    "    return \"w={}\".format(w), \"b={}\".format(b)"
   ]
  },
  {
   "cell_type": "code",
   "execution_count": 7,
   "metadata": {},
   "outputs": [
    {
     "name": "stdout",
     "output_type": "stream",
     "text": [
      "w=2.0\n",
      "b=1.0\n"
     ]
    }
   ],
   "source": [
    "print(linear_solver (0, 1, 1, 3)[0])\n",
    "print(linear_solver (0, 1, 1, 3)[1])"
   ]
  },
  {
   "cell_type": "markdown",
   "metadata": {},
   "source": [
    "However, this isn't how neural networks work. Neural networks don't solve linear models analytically (which is super inefficient in our two-variable example lol). NNs use something called **backpropagation**, modifying the value of the weights and biases to minimize the discrepancy between actual and predicted outputs\n",
    "\n",
    "Let's go back to our example with $(x,y) = (0,1)$. Our **loss function**, $L(y, Y)$ tells us how well our network is performing. The loss function measures the discrepancy between actual loss $y$ and predicted loss $Y$\n",
    "\n",
    "Let's start with an obvious loss function: absolute difference, $L(y, Y) = |y - Y|$"
   ]
  },
  {
   "cell_type": "code",
   "execution_count": 8,
   "metadata": {},
   "outputs": [],
   "source": [
    "def absolute_difference (y, Y):\n",
    "    return abs(y - Y)"
   ]
  },
  {
   "cell_type": "markdown",
   "metadata": {},
   "source": [
    "Now we need initial values of $w$ and $b$ to generate predicted outputs. We'll start with zero initialization (which is generally a terrible idea, but that's okay for now). If $(w, b) = (0, 0)$, then our input $0$ will generate output $0$, and our loss is $|1-0| = |1| = 1$"
   ]
  },
  {
   "cell_type": "code",
   "execution_count": 9,
   "metadata": {},
   "outputs": [],
   "source": [
    "Y = output_with_bias (0, 0, 0)"
   ]
  },
  {
   "cell_type": "markdown",
   "metadata": {},
   "source": [
    "However, the \"true\" value of $y$ is generated (deterministically) from $y = 2x + 1$"
   ]
  },
  {
   "cell_type": "code",
   "execution_count": 10,
   "metadata": {},
   "outputs": [],
   "source": [
    "y = output_with_bias (0, 2, 1)"
   ]
  },
  {
   "cell_type": "markdown",
   "metadata": {},
   "source": [
    "Now we can compute our loss from our actual output $y$ and predicted output $Y$"
   ]
  },
  {
   "cell_type": "code",
   "execution_count": 11,
   "metadata": {},
   "outputs": [
    {
     "data": {
      "text/plain": [
       "1"
      ]
     },
     "execution_count": 11,
     "metadata": {},
     "output_type": "execute_result"
    }
   ],
   "source": [
    "absolute_difference(y, Y)"
   ]
  },
  {
   "cell_type": "markdown",
   "metadata": {},
   "source": [
    "Once we calculate our loss, we will need to update our weight and bias. We will update our \"network\" by taking the derivatives of the loss function with respect to our weight and bias. We call these derivatives the **gradients** of our error function with respect to our weight and bias.\n",
    "\n",
    "However, there's a problem with our loss function $L(x)$: it's not differentiable when $|y - Y| = 0$. Think about the absolute value function: it's $f(x) = -x$ when $x < 0$, $f(x) = x$ when $x > 0$, and $f(x) = 0$ when $x = 0$\n",
    "\n",
    "So for $f(x) = |x|$, $f'(x) = -1$ when $x < 0$ and $f'(x) = 1$ when $x > 0$. But at $f'(x) = 0$ we can't really tell if the function is going up or down; it's kind of a \"hard inflection point\" (is that a mathematically precise term?)\n",
    "\n",
    "We need a loss function that is continuously differentiable. Why not just square $|y - Y|$?. Now $L(y, Y) = (y - Y)^2$:"
   ]
  },
  {
   "cell_type": "code",
   "execution_count": 12,
   "metadata": {},
   "outputs": [],
   "source": [
    "def squared_difference (y, Y):\n",
    "    return (y - Y)**2"
   ]
  },
  {
   "cell_type": "code",
   "execution_count": 13,
   "metadata": {},
   "outputs": [
    {
     "data": {
      "text/plain": [
       "1"
      ]
     },
     "execution_count": 13,
     "metadata": {},
     "output_type": "execute_result"
    }
   ],
   "source": [
    "squared_difference(y=1, Y=0)"
   ]
  },
  {
   "cell_type": "markdown",
   "metadata": {},
   "source": [
    "Now let's differentiate $L(y, Y) = (y - Y)^2$ with respect to our weight $w$\n",
    "\n",
    "For $w$,\n",
    "\n",
    "$\\partial L(x)/\\partial w = \\partial/\\partial w (y - Y)^2 =$\n",
    "\n",
    "$\\partial/\\partial w (y - (wx + b))^2 =$\n",
    "\n",
    "$\\partial/\\partial w (y - wx - b)^2 =$\n",
    "\n",
    "$2(y - wx - b)(-x) =$\n",
    "\n",
    "$-2x(y - wx - b)$\n",
    "\n",
    "We can use this to build a function to compute $\\partial L(x)/\\partial w$. Since $L(y, Y)$ is a function of our actual (ground truth) output $y$ and model (prediction) output $Y$, and $Y = wx + b$, we can use the input to our loss function $L(y, Y) = L(y, (x, (w, x, b))) = L(x, y, w, b)$ to update our weight (and subsequently bias):"
   ]
  },
  {
   "cell_type": "code",
   "execution_count": 14,
   "metadata": {},
   "outputs": [],
   "source": [
    "def dL_dw (x, y, w, b):\n",
    "    return -2*x*(y - w*x - b)"
   ]
  },
  {
   "cell_type": "markdown",
   "metadata": {},
   "source": [
    "For our example with $(x, y) = (0, 1)$, and zero initialization: $(w, b) = (0, 0)$, compute $\\partial L(y, Y)/ \\partial w$:"
   ]
  },
  {
   "cell_type": "code",
   "execution_count": 15,
   "metadata": {},
   "outputs": [
    {
     "data": {
      "text/plain": [
       "0"
      ]
     },
     "execution_count": 15,
     "metadata": {},
     "output_type": "execute_result"
    }
   ],
   "source": [
    "dL_dw (0, 1, 0, 0)"
   ]
  },
  {
   "cell_type": "markdown",
   "metadata": {},
   "source": [
    "Let's also differentiate $L(x) = (y - Y)^2$ with respect to our bias $b$\n",
    "\n",
    "For $b$,\n",
    "\n",
    "$\\partial L(x)/\\partial b = \\partial/\\partial$b $(y - Y)^2 =$\n",
    "\n",
    "$\\partial/\\partial b (y - (wx + b))^2 =$\n",
    "\n",
    "$\\partial/\\partial b (y - wx - b)^2 =$\n",
    "\n",
    "$2(y - wx - b)(-1) =$\n",
    "\n",
    "$-2(y - wx - b)$\n",
    "\n",
    "Just as we did with our weight $w$, we can use this to build a function to compute $\\partial L(y, Y)/\\partial b$."
   ]
  },
  {
   "cell_type": "code",
   "execution_count": 16,
   "metadata": {},
   "outputs": [],
   "source": [
    "def dL_db (x, y, w, b):\n",
    "    return -2*(y - w*x - b)"
   ]
  },
  {
   "cell_type": "markdown",
   "metadata": {},
   "source": [
    "For the same example with $(x, y) = (0, 1)$, and zero initialization: $(w, b) = (0, 0)$, we can also compute $\\partial L(y, Y)/\\partial b$:"
   ]
  },
  {
   "cell_type": "code",
   "execution_count": 17,
   "metadata": {},
   "outputs": [
    {
     "data": {
      "text/plain": [
       "-2"
      ]
     },
     "execution_count": 17,
     "metadata": {},
     "output_type": "execute_result"
    }
   ],
   "source": [
    "dL_db (0, 1, 0, 0)"
   ]
  },
  {
   "cell_type": "markdown",
   "metadata": {},
   "source": [
    "Cool, let's now use these gradients to update our weights and biases. We'll use something called **gradient descent**:\n",
    "\n",
    "$w_{t+1} = w_{t} - \\alpha (\\partial L(y, Y)/\\partial w_{t})$\n",
    "\n",
    "Here we are updating our weight from $w_{t}$ to $w_{t+1}$ by subtracting the scaled gradient of the loss function with respect to the weight. We scale the gradient by something called the **learning rate**, conventionally represented by $\\alpha$\n",
    "\n",
    "We can use augment our **dL_dw** function to update the weight $w_{t}$ to $w_{t+1}$:"
   ]
  },
  {
   "cell_type": "code",
   "execution_count": 18,
   "metadata": {},
   "outputs": [],
   "source": [
    "def gd_weight (x, y, w, b, a):\n",
    "    w = w - a * (-2*x*(y - w*x - b))\n",
    "    return \"w={}\".format(w)"
   ]
  },
  {
   "cell_type": "markdown",
   "metadata": {},
   "source": [
    "Let's use the same example $(x, y) = (0, 1)$ with zero initialization $(w, b) = (0, 0)$, and learning rate $a = 0.1$"
   ]
  },
  {
   "cell_type": "code",
   "execution_count": 19,
   "metadata": {},
   "outputs": [
    {
     "name": "stdout",
     "output_type": "stream",
     "text": [
      "w=0.0\n"
     ]
    }
   ],
   "source": [
    "print(gd_weight (0, 1, 0, 0, 0.1))"
   ]
  },
  {
   "cell_type": "markdown",
   "metadata": {},
   "source": [
    "So our weights don't actually update when $x = 0$ and $L(y, Y)$ is the squared error function $(y - Y)^2$. We'll need another example to update the weights. However, we can use this example to update the bias $b_{t}$ to $b_{t+1}$:\n",
    "\n",
    "$b_{t+1}$ = $b_{t}$ - $\\alpha$ ($\\partial$E(y, Y)/$\\partial$$b_{t}$)\n",
    "\n",
    "In Python:"
   ]
  },
  {
   "cell_type": "code",
   "execution_count": 20,
   "metadata": {},
   "outputs": [],
   "source": [
    "def gd_bias (x, y, w, b, a):\n",
    "    b = b - a * (-2*(y - w*x - b))\n",
    "    return \"b={}\".format(b)"
   ]
  },
  {
   "cell_type": "markdown",
   "metadata": {},
   "source": [
    "For $(x, y) = (0, 1)$, zero initialization, and learning rate $a = 0.1$:"
   ]
  },
  {
   "cell_type": "code",
   "execution_count": 21,
   "metadata": {},
   "outputs": [
    {
     "name": "stdout",
     "output_type": "stream",
     "text": [
      "b=0.2\n"
     ]
    }
   ],
   "source": [
    "print(gd_bias(x=0, y=1, w=0, b=0, a=0.1))"
   ]
  },
  {
   "cell_type": "markdown",
   "metadata": {},
   "source": [
    "We can now feed a second datum generated from the line $y = 2x + 1$. When $x = 1$, $y = 2(1) + 1 = 3$. We use this to compute our new output $Y$:"
   ]
  },
  {
   "cell_type": "code",
   "execution_count": 22,
   "metadata": {},
   "outputs": [],
   "source": [
    "Y = output_with_bias (x=1, w=0, b=0.2)"
   ]
  },
  {
   "cell_type": "code",
   "execution_count": 23,
   "metadata": {},
   "outputs": [
    {
     "data": {
      "text/plain": [
       "0.2"
      ]
     },
     "execution_count": 23,
     "metadata": {},
     "output_type": "execute_result"
    }
   ],
   "source": [
    "Y"
   ]
  },
  {
   "cell_type": "markdown",
   "metadata": {},
   "source": [
    "Our loss for this example is the squared difference between $y=3$ and $Y=0.2$:"
   ]
  },
  {
   "cell_type": "code",
   "execution_count": 24,
   "metadata": {},
   "outputs": [
    {
     "data": {
      "text/plain": [
       "7.839999999999999"
      ]
     },
     "execution_count": 24,
     "metadata": {},
     "output_type": "execute_result"
    }
   ],
   "source": [
    "squared_difference(y=3, Y=0.2)"
   ]
  },
  {
   "cell_type": "markdown",
   "metadata": {},
   "source": [
    "This might look worse than when $y=1$ and $Y=0$. However, consider if we had fed the $(1, 3)$ example first. Our loss would have been greater:"
   ]
  },
  {
   "cell_type": "code",
   "execution_count": 25,
   "metadata": {},
   "outputs": [
    {
     "data": {
      "text/plain": [
       "9"
      ]
     },
     "execution_count": 25,
     "metadata": {},
     "output_type": "execute_result"
    }
   ],
   "source": [
    "Y = output_with_bias (x=1, w=0, b=0)\n",
    "squared_difference(y=3, Y=Y)"
   ]
  },
  {
   "cell_type": "markdown",
   "metadata": {},
   "source": [
    "So our loss is decreasing, and if we update our weights and biases again, we'll see our loss continue to decrease:"
   ]
  },
  {
   "cell_type": "code",
   "execution_count": 26,
   "metadata": {},
   "outputs": [
    {
     "name": "stdout",
     "output_type": "stream",
     "text": [
      "w=0.5599999999999999\n"
     ]
    }
   ],
   "source": [
    "print(gd_weight (x=1, y=3, w=0, b=0.2, a=0.1))"
   ]
  },
  {
   "cell_type": "markdown",
   "metadata": {},
   "source": [
    "We can also update our bias (using the weight before our update):"
   ]
  },
  {
   "cell_type": "code",
   "execution_count": 27,
   "metadata": {},
   "outputs": [
    {
     "name": "stdout",
     "output_type": "stream",
     "text": [
      "b=0.76\n"
     ]
    }
   ],
   "source": [
    "print(gd_bias (x=1, y=3, w=0, b=0.2, a=0.1))"
   ]
  },
  {
   "cell_type": "markdown",
   "metadata": {},
   "source": [
    "Let's do one more \"forward pass\" with $(x, y) = (0, 1)$ and the weights and biases updated to $0.56$ and $0$:"
   ]
  },
  {
   "cell_type": "code",
   "execution_count": 28,
   "metadata": {},
   "outputs": [
    {
     "data": {
      "text/plain": [
       "0.76"
      ]
     },
     "execution_count": 28,
     "metadata": {},
     "output_type": "execute_result"
    }
   ],
   "source": [
    "Y = output_with_bias (x=0, w=0.56, b=0.76)\n",
    "Y"
   ]
  },
  {
   "cell_type": "markdown",
   "metadata": {},
   "source": [
    "Now we can see the loss continue to decrease, not only compared to the loss computed for $(1, 3)$, but also compared to the prior weights and biases applied to $(0, 1)$:"
   ]
  },
  {
   "cell_type": "code",
   "execution_count": 29,
   "metadata": {},
   "outputs": [
    {
     "name": "stdout",
     "output_type": "stream",
     "text": [
      "1\n",
      "0.6400000000000001\n",
      "0.0576\n"
     ]
    }
   ],
   "source": [
    "print(squared_difference(y=1, Y=output_with_bias (x=0, w=0, b=0)))\n",
    "print(squared_difference(y=1, Y=output_with_bias (x=0, w=0, b=0.2)))\n",
    "print(squared_difference(y=1, Y=output_with_bias (x=0, w=0.56, b=0.76)))             "
   ]
  },
  {
   "cell_type": "markdown",
   "metadata": {},
   "source": [
    "We'll do one final weight and bias update:"
   ]
  },
  {
   "cell_type": "code",
   "execution_count": 30,
   "metadata": {},
   "outputs": [
    {
     "name": "stdout",
     "output_type": "stream",
     "text": [
      "w=0.56\n",
      "b=0.808\n"
     ]
    }
   ],
   "source": [
    "print(gd_weight (x=0, y=1, w=0.56, b=0.76, a=0.1))\n",
    "print(gd_bias (x=0, y=1, w=0.56, b=0.76, a=0.1))"
   ]
  },
  {
   "cell_type": "markdown",
   "metadata": {},
   "source": [
    "We can now view our updated output for $(1, 3)$:"
   ]
  },
  {
   "cell_type": "code",
   "execution_count": 31,
   "metadata": {},
   "outputs": [
    {
     "data": {
      "text/plain": [
       "1.37"
      ]
     },
     "execution_count": 31,
     "metadata": {},
     "output_type": "execute_result"
    }
   ],
   "source": [
    "Y = output_with_bias (x=1, w=0.56, b=0.81)\n",
    "Y"
   ]
  },
  {
   "cell_type": "markdown",
   "metadata": {},
   "source": [
    "We also see the loss decrease for $(1, 3)$:"
   ]
  },
  {
   "cell_type": "code",
   "execution_count": 32,
   "metadata": {},
   "outputs": [
    {
     "name": "stdout",
     "output_type": "stream",
     "text": [
      "9\n",
      "7.839999999999999\n",
      "5.017600000000001\n",
      "4.7961\n"
     ]
    }
   ],
   "source": [
    "print(squared_difference(y=3, Y=output_with_bias (x=0, w=0, b=0)))\n",
    "print(squared_difference(y=3, Y=output_with_bias (x=0, w=0, b=0.2)))\n",
    "print(squared_difference(y=3, Y=output_with_bias (x=0, w=0.56, b=0.76)))\n",
    "print(squared_difference(y=3, Y=output_with_bias (x=0, w=0.56, b=0.81)))"
   ]
  },
  {
   "cell_type": "markdown",
   "metadata": {},
   "source": [
    "And similarly if we pass $(0, 1)$ through without a subsequent update:"
   ]
  },
  {
   "cell_type": "code",
   "execution_count": 33,
   "metadata": {},
   "outputs": [
    {
     "name": "stdout",
     "output_type": "stream",
     "text": [
      "1\n",
      "0.6400000000000001\n",
      "0.0576\n",
      "0.03609999999999998\n"
     ]
    }
   ],
   "source": [
    "print(squared_difference(y=1, Y=output_with_bias (x=0, w=0, b=0)))\n",
    "print(squared_difference(y=1, Y=output_with_bias (x=0, w=0, b=0.2)))\n",
    "print(squared_difference(y=1, Y=output_with_bias (x=0, w=0.56, b=0.76)))\n",
    "print(squared_difference(y=1, Y=output_with_bias (x=0, w=0.56, b=0.81)))"
   ]
  },
  {
   "cell_type": "markdown",
   "metadata": {},
   "source": [
    "So by now, you're probably wondering, \"why in the world would we use a neural network for linear regression with one weight and bias and two examples?\" Good question.\n",
    "\n",
    "Let's try a less artificial (but still very artificial) example. Why are we keeping this artificial? Well, if it got any more \"real,\" it'd be hard to examine the mechanisms at work in training the network. We'd be dealing with two many parameters. Am I being too abstract already?\n",
    "\n",
    "Consider image classification. Neural networks are really good at this. However, if we started with 256 x 256 x 3 images, we'd have too many parameters to visualize what's going on. Similarly, if we let each pixel take values between 0 and 255, it'll be harder to wrap our heads around the math.\n",
    "\n",
    "So we'll start with another artificial example. Consider a 5x5 \"image.\" This \"image\" can take pixel values of either 0 or 1. Think of it as a \"true\" black-and-white image (no grayscale). We can then use this 5x5 image to represent \"images\" of digits (0 to 9). What would such an image look like? Picture an old-school scoreboard. How about a \"0\"?"
   ]
  },
  {
   "cell_type": "code",
   "execution_count": 34,
   "metadata": {},
   "outputs": [
    {
     "data": {
      "text/plain": [
       "[[0, 1, 1, 1, 0],\n",
       " [1, 0, 0, 0, 1],\n",
       " [1, 0, 0, 0, 1],\n",
       " [1, 0, 0, 0, 1],\n",
       " [0, 1, 1, 1, 0]]"
      ]
     },
     "execution_count": 34,
     "metadata": {},
     "output_type": "execute_result"
    }
   ],
   "source": [
    "a_zero = [[0,1,1,1,0],[1,0,0,0,1],[1,0,0,0,1],[1,0,0,0,1],[0,1,1,1,0]]\n",
    "a_zero"
   ]
  },
  {
   "cell_type": "markdown",
   "metadata": {},
   "source": [
    "Or maybe a \"4\"?"
   ]
  },
  {
   "cell_type": "code",
   "execution_count": 35,
   "metadata": {},
   "outputs": [
    {
     "data": {
      "text/plain": [
       "[[1, 0, 1, 0, 0],\n",
       " [1, 0, 1, 0, 0],\n",
       " [1, 1, 1, 1, 1],\n",
       " [0, 0, 1, 0, 0],\n",
       " [0, 0, 1, 0, 0]]"
      ]
     },
     "execution_count": 35,
     "metadata": {},
     "output_type": "execute_result"
    }
   ],
   "source": [
    "a_four = [[1,0,1,0,0],[1,0,1,0,0],[1,1,1,1,1],[0,0,1,0,0],[0,0,1,0,0]]\n",
    "a_four"
   ]
  },
  {
   "cell_type": "markdown",
   "metadata": {},
   "source": [
    "How about another \"4\"?"
   ]
  },
  {
   "cell_type": "code",
   "execution_count": 36,
   "metadata": {},
   "outputs": [
    {
     "data": {
      "text/plain": [
       "[[0, 0, 1, 0, 0],\n",
       " [0, 1, 1, 0, 0],\n",
       " [1, 1, 1, 1, 1],\n",
       " [0, 0, 1, 0, 0],\n",
       " [0, 0, 1, 0, 0]]"
      ]
     },
     "execution_count": 36,
     "metadata": {},
     "output_type": "execute_result"
    }
   ],
   "source": [
    "another_four = [[0,0,1,0,0],[0,1,1,0,0],[1,1,1,1,1],[0,0,1,0,0],[0,0,1,0,0]]\n",
    "another_four"
   ]
  },
  {
   "cell_type": "markdown",
   "metadata": {},
   "source": [
    "So now we can envision a neural network that could tell us \"that's a four,\" or \"that one's an eight.\" We call this task **image classification**. But before we go any further, we're going to import our first library. I know, I like doing everything in pure Python, and I'm sure someone reading this is like, \"whatever noob, I backprop in assembly.\" Well whatever right back at you, we're using NumPy. It supports all that matrix stuff that we're gonna need. It's got this thing called a \"NumPy array\" that's just better for numerical computation, especially with vectors and matrices.\n",
    "\n",
    "By convention:"
   ]
  },
  {
   "cell_type": "code",
   "execution_count": 37,
   "metadata": {},
   "outputs": [],
   "source": [
    "import numpy as np"
   ]
  },
  {
   "cell_type": "markdown",
   "metadata": {},
   "source": [
    "Now let's reencode our \"zero\" in NumPy:"
   ]
  },
  {
   "cell_type": "code",
   "execution_count": 38,
   "metadata": {},
   "outputs": [
    {
     "data": {
      "text/plain": [
       "array([[0, 1, 1, 1, 0],\n",
       "       [1, 0, 0, 0, 1],\n",
       "       [1, 0, 0, 0, 1],\n",
       "       [1, 0, 0, 0, 1],\n",
       "       [0, 1, 1, 1, 0]])"
      ]
     },
     "execution_count": 38,
     "metadata": {},
     "output_type": "execute_result"
    }
   ],
   "source": [
    "a_zero_array = np.array([[0,1,1,1,0],[1,0,0,0,1],[1,0,0,0,1],[1,0,0,0,1],[0,1,1,1,0]])\n",
    "a_zero_array"
   ]
  },
  {
   "cell_type": "markdown",
   "metadata": {},
   "source": [
    "Or we can just pass our **a_zero** list of lists to np.array:"
   ]
  },
  {
   "cell_type": "code",
   "execution_count": 39,
   "metadata": {},
   "outputs": [
    {
     "data": {
      "text/plain": [
       "array([[0, 1, 1, 1, 0],\n",
       "       [1, 0, 0, 0, 1],\n",
       "       [1, 0, 0, 0, 1],\n",
       "       [1, 0, 0, 0, 1],\n",
       "       [0, 1, 1, 1, 0]])"
      ]
     },
     "execution_count": 39,
     "metadata": {},
     "output_type": "execute_result"
    }
   ],
   "source": [
    "also_a_zero_array = np.array(a_zero)\n",
    "also_a_zero_array"
   ]
  },
  {
   "cell_type": "markdown",
   "metadata": {},
   "source": [
    "We also need a **label** for our array of zeroes, something that will tell us that our array of zeroes is a 0 and not a 1 or a 2. This is analogous to the \"true value\" of $y$ in our simple regression example.\n",
    "\n",
    "For classification, we typically use a **one-hot encoding** for each observation. A one-hot encoding is a vector equal in length to the number of classes. In the case of digits, we have 10 classes from 0 to 9. We index the one-hot encoding by these classes, with the \"true\" class equal to 1 and the others equal to zero. So for a 0, our encoding is (in pure Python and NumPy):"
   ]
  },
  {
   "cell_type": "code",
   "execution_count": 40,
   "metadata": {},
   "outputs": [
    {
     "name": "stdout",
     "output_type": "stream",
     "text": [
      "[1, 0, 0, 0, 0, 0, 0, 0, 0, 0]\n",
      "[1 0 0 0 0 0 0 0 0 0]\n"
     ]
    },
    {
     "data": {
      "text/plain": [
       "array([1, 0, 0, 0, 0, 0, 0, 0, 0, 0])"
      ]
     },
     "execution_count": 40,
     "metadata": {},
     "output_type": "execute_result"
    }
   ],
   "source": [
    "python_zero_encoding = [1,0,0,0,0,0,0,0,0,0]\n",
    "numpy_zero_encoding = np.array(python_zero_encoding)\n",
    "print(python_zero_encoding)\n",
    "print(numpy_zero_encoding)\n",
    "numpy_zero_encoding"
   ]
  },
  {
   "cell_type": "markdown",
   "metadata": {},
   "source": [
    "Let's stick with NumPy for here on! (Until we get to PyTorch...)"
   ]
  },
  {
   "cell_type": "code",
   "execution_count": 41,
   "metadata": {},
   "outputs": [
    {
     "data": {
      "text/plain": [
       "array([0, 0, 0, 0, 1, 0, 0, 0, 0, 0])"
      ]
     },
     "execution_count": 41,
     "metadata": {},
     "output_type": "execute_result"
    }
   ],
   "source": [
    "numpy_four_encoding = np.array([0,0,0,0,1,0,0,0,0,0])\n",
    "numpy_four_encoding"
   ]
  },
  {
   "cell_type": "markdown",
   "metadata": {},
   "source": [
    "Now let's return to our simple regression example. We can reconceptualize this as a (ridiculously simple) 1x1 matrix mutiplication and addition. Let's take the example of $(0,1)$ with zero-initialized weights and biases. $x$ is our 1x1 input, $y$ is our 1x1 output, $W$ is our 1x1 zero-initialized weight \"matrix,\" and $b$ is our bias \"vector\":"
   ]
  },
  {
   "cell_type": "code",
   "execution_count": 42,
   "metadata": {},
   "outputs": [
    {
     "data": {
      "text/plain": [
       "(array([0]), array([1]), array([0]), array([0]))"
      ]
     },
     "execution_count": 42,
     "metadata": {},
     "output_type": "execute_result"
    }
   ],
   "source": [
    "x = np.array([0])\n",
    "y = np.array([1])\n",
    "W = np.array([0])\n",
    "b = np.array([0])\n",
    "x, y, W, b"
   ]
  },
  {
   "cell_type": "markdown",
   "metadata": {},
   "source": [
    "To compute our model output, we do matrix multiplication in NumPy:"
   ]
  },
  {
   "cell_type": "code",
   "execution_count": 43,
   "metadata": {},
   "outputs": [
    {
     "data": {
      "text/plain": [
       "array([0])"
      ]
     },
     "execution_count": 43,
     "metadata": {},
     "output_type": "execute_result"
    }
   ],
   "source": [
    "Y = np.matmul(W, x) + b\n",
    "Y"
   ]
  },
  {
   "cell_type": "markdown",
   "metadata": {},
   "source": [
    "We can also compute loss:"
   ]
  },
  {
   "cell_type": "code",
   "execution_count": 44,
   "metadata": {},
   "outputs": [
    {
     "data": {
      "text/plain": [
       "array([1])"
      ]
     },
     "execution_count": 44,
     "metadata": {},
     "output_type": "execute_result"
    }
   ],
   "source": [
    "se_loss = (y - Y)**2\n",
    "se_loss"
   ]
  },
  {
   "cell_type": "markdown",
   "metadata": {},
   "source": [
    "We can update our weights too:"
   ]
  },
  {
   "cell_type": "code",
   "execution_count": 45,
   "metadata": {},
   "outputs": [],
   "source": [
    "def gd_weight_mat (x, y, W, b, a):\n",
    "    W = W - a * (-2*x*(y - np.matmul(W, x) - b))\n",
    "    return \"W={}\".format(W)"
   ]
  },
  {
   "cell_type": "code",
   "execution_count": 46,
   "metadata": {},
   "outputs": [
    {
     "name": "stdout",
     "output_type": "stream",
     "text": [
      "w=[0.]\n"
     ]
    }
   ],
   "source": [
    "print(gd_weight (x, y, W, b, 0.1))"
   ]
  },
  {
   "cell_type": "markdown",
   "metadata": {},
   "source": [
    "As well as our bias:"
   ]
  },
  {
   "cell_type": "code",
   "execution_count": 47,
   "metadata": {},
   "outputs": [],
   "source": [
    "def gd_bias_mat (x, y, W, b, a):\n",
    "    b = b - a * (-2*(y - W*x - b))\n",
    "    return \"b={}\".format(b)"
   ]
  },
  {
   "cell_type": "code",
   "execution_count": 48,
   "metadata": {},
   "outputs": [
    {
     "name": "stdout",
     "output_type": "stream",
     "text": [
      "b=[0.2]\n"
     ]
    }
   ],
   "source": [
    "print(gd_bias (x, y, W, b, 0.1))"
   ]
  },
  {
   "cell_type": "markdown",
   "metadata": {},
   "source": [
    "Good stuff! Now what happens if we apply the same logic to our 5x5 \"image\" and 10x1 10-class output? Well, we already got our image and output. Now we need to initialize weight and bias matrices. What size do we need? This might seem confusing at first - don't we have a dimentional mismatch between our 5x5 input and 10x1 output? We need to multiply an $n x m$ matrix by an $m x p$ matrix to get an $n x p$ matrix, and we can't even do this with the transpose of our 5 x 5 input...\n",
    "\n",
    "Ok, the solution is actually simple. We flatten our input matrix into a vector of length 5 x 5 = 25. In NumPy, this is as straightforward as removing the brackets that defined our array as a two-dimensional matrix. Let's use the **shape** attribute to examine our initial array:"
   ]
  },
  {
   "cell_type": "code",
   "execution_count": 49,
   "metadata": {},
   "outputs": [],
   "source": [
    "import numpy as np"
   ]
  },
  {
   "cell_type": "code",
   "execution_count": 50,
   "metadata": {},
   "outputs": [
    {
     "name": "stdout",
     "output_type": "stream",
     "text": [
      "(5, 5)\n",
      "2\n"
     ]
    }
   ],
   "source": [
    "a_zero_array = np.array([[0,1,1,1,0],[1,0,0,0,1],[1,0,0,0,1],[1,0,0,0,1],[0,1,1,1,0]])\n",
    "print(a_zero_array.shape)\n",
    "print(len(a_zero_array.shape))"
   ]
  },
  {
   "cell_type": "markdown",
   "metadata": {},
   "source": [
    "Now let's change the shape to a one-dimensional array (vector):"
   ]
  },
  {
   "cell_type": "code",
   "execution_count": 51,
   "metadata": {},
   "outputs": [
    {
     "name": "stdout",
     "output_type": "stream",
     "text": [
      "(25,)\n",
      "1\n"
     ]
    }
   ],
   "source": [
    "a_zero_vector = np.array([0,1,1,1,0,1,0,0,0,1,1,0,0,0,1,1,0,0,0,1,0,1,1,1,0])\n",
    "print(a_zero_vector.shape)\n",
    "print(len(a_zero_vector.shape))"
   ]
  },
  {
   "cell_type": "markdown",
   "metadata": {},
   "source": [
    "One other thing. We actually want the shape of our vector to be (25,1), not (25,). So we can reshape the vector using **reshape**. We could have done this to our 5x5 matrix, but whatever. Also, we're gonna call it $x$ since that's what we've been calling our input:"
   ]
  },
  {
   "cell_type": "code",
   "execution_count": 52,
   "metadata": {},
   "outputs": [
    {
     "data": {
      "text/plain": [
       "array([[0],\n",
       "       [1],\n",
       "       [1],\n",
       "       [1],\n",
       "       [0],\n",
       "       [1],\n",
       "       [0],\n",
       "       [0],\n",
       "       [0],\n",
       "       [1],\n",
       "       [1],\n",
       "       [0],\n",
       "       [0],\n",
       "       [0],\n",
       "       [1],\n",
       "       [1],\n",
       "       [0],\n",
       "       [0],\n",
       "       [0],\n",
       "       [1],\n",
       "       [0],\n",
       "       [1],\n",
       "       [1],\n",
       "       [1],\n",
       "       [0]])"
      ]
     },
     "execution_count": 52,
     "metadata": {},
     "output_type": "execute_result"
    }
   ],
   "source": [
    "x = a_zero_vector.reshape(25, 1)\n",
    "x"
   ]
  },
  {
   "cell_type": "markdown",
   "metadata": {},
   "source": [
    "Now let's define our weights matrix and bias vector. We need something to multiply our (25, 1) vector by to get something of shape (10, 1). Sounds like we need a (10, 25) matrix! Also, we'll have to add a vector to that for bias, and it'll need to be the same shape, so we also need a (10, 1) vector. We'll start with zero initialization, which is stupid but we'll get to that later. **zeros** is a nice built-in function in NumPy that does the trick for us:"
   ]
  },
  {
   "cell_type": "code",
   "execution_count": 53,
   "metadata": {},
   "outputs": [],
   "source": [
    "W = np.zeros((10, 25))\n",
    "b = np.zeros((10, 1))"
   ]
  },
  {
   "cell_type": "code",
   "execution_count": 54,
   "metadata": {},
   "outputs": [
    {
     "data": {
      "text/plain": [
       "array([[0., 0., 0., 0., 0., 0., 0., 0., 0., 0., 0., 0., 0., 0., 0., 0.,\n",
       "        0., 0., 0., 0., 0., 0., 0., 0., 0.],\n",
       "       [0., 0., 0., 0., 0., 0., 0., 0., 0., 0., 0., 0., 0., 0., 0., 0.,\n",
       "        0., 0., 0., 0., 0., 0., 0., 0., 0.],\n",
       "       [0., 0., 0., 0., 0., 0., 0., 0., 0., 0., 0., 0., 0., 0., 0., 0.,\n",
       "        0., 0., 0., 0., 0., 0., 0., 0., 0.],\n",
       "       [0., 0., 0., 0., 0., 0., 0., 0., 0., 0., 0., 0., 0., 0., 0., 0.,\n",
       "        0., 0., 0., 0., 0., 0., 0., 0., 0.],\n",
       "       [0., 0., 0., 0., 0., 0., 0., 0., 0., 0., 0., 0., 0., 0., 0., 0.,\n",
       "        0., 0., 0., 0., 0., 0., 0., 0., 0.],\n",
       "       [0., 0., 0., 0., 0., 0., 0., 0., 0., 0., 0., 0., 0., 0., 0., 0.,\n",
       "        0., 0., 0., 0., 0., 0., 0., 0., 0.],\n",
       "       [0., 0., 0., 0., 0., 0., 0., 0., 0., 0., 0., 0., 0., 0., 0., 0.,\n",
       "        0., 0., 0., 0., 0., 0., 0., 0., 0.],\n",
       "       [0., 0., 0., 0., 0., 0., 0., 0., 0., 0., 0., 0., 0., 0., 0., 0.,\n",
       "        0., 0., 0., 0., 0., 0., 0., 0., 0.],\n",
       "       [0., 0., 0., 0., 0., 0., 0., 0., 0., 0., 0., 0., 0., 0., 0., 0.,\n",
       "        0., 0., 0., 0., 0., 0., 0., 0., 0.],\n",
       "       [0., 0., 0., 0., 0., 0., 0., 0., 0., 0., 0., 0., 0., 0., 0., 0.,\n",
       "        0., 0., 0., 0., 0., 0., 0., 0., 0.]])"
      ]
     },
     "execution_count": 54,
     "metadata": {},
     "output_type": "execute_result"
    }
   ],
   "source": [
    "W"
   ]
  },
  {
   "cell_type": "code",
   "execution_count": 55,
   "metadata": {},
   "outputs": [
    {
     "data": {
      "text/plain": [
       "array([[0.],\n",
       "       [0.],\n",
       "       [0.],\n",
       "       [0.],\n",
       "       [0.],\n",
       "       [0.],\n",
       "       [0.],\n",
       "       [0.],\n",
       "       [0.],\n",
       "       [0.]])"
      ]
     },
     "execution_count": 55,
     "metadata": {},
     "output_type": "execute_result"
    }
   ],
   "source": [
    "b"
   ]
  },
  {
   "cell_type": "markdown",
   "metadata": {},
   "source": [
    "Cool, now we can compute the output of our model:"
   ]
  },
  {
   "cell_type": "code",
   "execution_count": 56,
   "metadata": {},
   "outputs": [
    {
     "data": {
      "text/plain": [
       "array([[0.],\n",
       "       [0.],\n",
       "       [0.],\n",
       "       [0.],\n",
       "       [0.],\n",
       "       [0.],\n",
       "       [0.],\n",
       "       [0.],\n",
       "       [0.],\n",
       "       [0.]])"
      ]
     },
     "execution_count": 56,
     "metadata": {},
     "output_type": "execute_result"
    }
   ],
   "source": [
    "output = np.matmul(W, x) + b\n",
    "output"
   ]
  },
  {
   "cell_type": "markdown",
   "metadata": {},
   "source": [
    "There's one more thing we need to do before computing our loss. We want to convert our model output into a probability distribution to compare it with our ground truth. For this, we use what's called a **softmax** function. The softmax function first exponentiates each of the outputs (they're outputs of the matrix multiplication and addition, but inputs to the softmax function). Then the function divides by the sum of all the exponentiated inputs. In formal terms, the softmax $S(Y)$ applied to the output vector $Y$ is defined as follows:\n",
    "\n",
    "$S(Y)_{i}$ = $\\frac {e^Y_{i}}{\\sum_{j=1}^K e^Y_{j}}$ for $i = 1, ..., K$ and $Y = (Y_{i}, ... , Y_{k})$\n",
    "\n",
    "That might look scary but it's super simple. We use the **exp** function for $e^{Y}$:"
   ]
  },
  {
   "cell_type": "code",
   "execution_count": 57,
   "metadata": {},
   "outputs": [],
   "source": [
    "def softmax (output):\n",
    "    return np.exp(output)/np.sum(np.exp(output))"
   ]
  },
  {
   "cell_type": "markdown",
   "metadata": {},
   "source": [
    "Now we can compute our loss. We use something called **cross-entropy loss**. We'll apply this loss to the output from our softmax function $Y$ and our ground truth $y$. We'll also need to reshape $y$ so that it's the same shape as $Y$:"
   ]
  },
  {
   "cell_type": "code",
   "execution_count": 58,
   "metadata": {},
   "outputs": [],
   "source": [
    "Y = softmax(output)\n",
    "y = numpy_zero_encoding.reshape(10,1)"
   ]
  },
  {
   "cell_type": "code",
   "execution_count": 59,
   "metadata": {},
   "outputs": [
    {
     "data": {
      "text/plain": [
       "array([[0.1],\n",
       "       [0.1],\n",
       "       [0.1],\n",
       "       [0.1],\n",
       "       [0.1],\n",
       "       [0.1],\n",
       "       [0.1],\n",
       "       [0.1],\n",
       "       [0.1],\n",
       "       [0.1]])"
      ]
     },
     "execution_count": 59,
     "metadata": {},
     "output_type": "execute_result"
    }
   ],
   "source": [
    "Y"
   ]
  },
  {
   "cell_type": "code",
   "execution_count": 60,
   "metadata": {},
   "outputs": [
    {
     "data": {
      "text/plain": [
       "array([[1],\n",
       "       [0],\n",
       "       [0],\n",
       "       [0],\n",
       "       [0],\n",
       "       [0],\n",
       "       [0],\n",
       "       [0],\n",
       "       [0],\n",
       "       [0]])"
      ]
     },
     "execution_count": 60,
     "metadata": {},
     "output_type": "execute_result"
    }
   ],
   "source": [
    "y"
   ]
  },
  {
   "cell_type": "code",
   "execution_count": 61,
   "metadata": {},
   "outputs": [
    {
     "data": {
      "text/plain": [
       "array([[0.1],\n",
       "       [0. ],\n",
       "       [0. ],\n",
       "       [0. ],\n",
       "       [0. ],\n",
       "       [0. ],\n",
       "       [0. ],\n",
       "       [0. ],\n",
       "       [0. ],\n",
       "       [0. ]])"
      ]
     },
     "execution_count": 61,
     "metadata": {},
     "output_type": "execute_result"
    }
   ],
   "source": [
    "Y * y"
   ]
  },
  {
   "cell_type": "markdown",
   "metadata": {},
   "source": [
    "The cross-entropy function is just the negative natural logarithm of the model output for the \"ground truth\" class:\n",
    "\n",
    "$L(y, Y) = - {\\sum_{i=1}^K y_{i}log(Y_{i})}$\n",
    "\n",
    "In other words, we mutiply the ground truth by the natural log (**np.log**) of the model output for each class, sum the results, and flip the sign. Of course, for a one-hot encoding, everything will go to zero except for the ground truth class, so we're just left with the negative natural log of the model output corresponding to the ground truth class:"
   ]
  },
  {
   "cell_type": "code",
   "execution_count": 62,
   "metadata": {},
   "outputs": [],
   "source": [
    "def cross_entropy(Y, y):\n",
    "    return -sum(y * np.log(Y))[0]"
   ]
  },
  {
   "cell_type": "code",
   "execution_count": 63,
   "metadata": {},
   "outputs": [
    {
     "data": {
      "text/plain": [
       "2.3025850929940455"
      ]
     },
     "execution_count": 63,
     "metadata": {},
     "output_type": "execute_result"
    }
   ],
   "source": [
    "cross_entropy(Y, y)"
   ]
  },
  {
   "cell_type": "markdown",
   "metadata": {},
   "source": [
    "Alright, now for some more backprop. We need to take the derivative of our (cross-entropy) loss function with respect to the weights and biases. This will require us to apply the chain rule. If you don't remember that from calculus, or haven't taken calculus, don't worry. It's simple. Let $L = L(S)$ be our (cross-entropy) loss (error) function, which takes the output from our softmax function as an input.\n",
    "\n",
    "Let $S = S(y, Y)$ be our softmax function. $Y = Y(x)$ is the output of our linear transformation $Wx + b$ (for matrix $W$ and vectors $x$ and $b$) or $w_{0}x + b_{0}$ (for a particular weight w_{0} and bias b_{0}). For (relative) simplicity, let's differentiate with respect to a particular weight w_{0} and bias b_{0}:  \n",
    "\n",
    "$\\partial L/\\partial w_{0} = \\partial L/\\partial S * \\partial S/\\partial Y * \\partial Y/\\partial w_{0}$\n",
    "\n",
    "and\n",
    "\n",
    "$\\partial L/\\partial b_{0} = \\partial L/\\partial S * \\partial S/\\partial Y * \\partial Y/\\partial b_{0}$\n",
    "\n",
    "We'll actually start by computing the derivative of the softmax function $S(y, Y)$ with respect to the output of the linear transformation $Y = w_{0}x + b_{0}$\n",
    "\n",
    "We'll use the **quotient rule** to compute the derivative:\n",
    "\n",
    "For $f(x)$ = $\\frac{g(x)}{h(x)}$, $f'(x)$ = $\\frac{g'(x)h'(x) - h'(x)g(x)}{h(x)^2}$\n",
    "\n",
    "Recall the softmax function is $S(Y)_{i}$ = $\\frac {e^Y_{i}}{\\sum_{j=1}^K e^Y_{j}}$\n",
    "\n",
    "Let's simply things a bit further. Let's only backpropagate one of the weights: the weight connecting the zero-index input with the zero-index output. Recall the input, output, and ground truth:"
   ]
  },
  {
   "cell_type": "code",
   "execution_count": 64,
   "metadata": {},
   "outputs": [
    {
     "name": "stdout",
     "output_type": "stream",
     "text": [
      "0\n",
      "0.1\n",
      "1\n"
     ]
    }
   ],
   "source": [
    "print(x[0][0])\n",
    "print(Y[0][0])\n",
    "print(y[0][0])"
   ]
  },
  {
   "cell_type": "markdown",
   "metadata": {},
   "source": [
    "What does this tell us? We take an input 0 (along with 24 other inputs), pass it through a linear function, apply a softmax transformation, and get 0.1 as our model output. The true output is 1. So what is the softmax function as applied to this specific weight?\n",
    "\n",
    "When taking the derivative for the same input and output node (the zero index), as we are doing here, we know that $\\partial$$e^{a(x)}$/$\\partial$$a(x)$ is $e^{a(x)}$. This is just the application of the world's simplest derivative: the derivative of $e^{x}$ is itself.\n",
    "\n",
    "Now we can apply the quotient rule from above. We'll swap in $Y$ for $x$ since our softmax vector takes the \"output\" $Y$ as its input:\n",
    "\n",
    "$g(Y) = e^{a_{i}(Y)}$\n",
    "\n",
    "$h(Y) = \\sum_{k=1}^N e^{a_{k}(Y)}$\n",
    "\n",
    "$g'(Y) = e^{a_{i}(Y)}$\n",
    "\n",
    "$h'(Y) = e^{a_{j}(Y)}$ since $e^{a_{k}(Y)} = e^{a_{j}(Y)}$ when $i = j$, and $e^{a_{k}(Y)} = 0$ when $i \\ne j$. Remember, we're differentiating the softmax function for $i$, $S_{i}$ with respect to our output $a(Y)$ for $j$, $a_{j}(Y)$\n",
    "\n",
    "So $f'(Y) = \\frac{ e^{a_{i}(Y)} \\sum_{j=1}^K e^{a_{j}(Y)} - e^{a_{j}(Y)} e^{a_{i}(Y)} } { (\\sum_{k=1}^N e^{a_{k}(Y)})^2 }$\n",
    "\n",
    "Factoring out an $e^{a_{i}(Y)}$ from the numerator:\n",
    "\n",
    "$f'(Y) = \\frac{ e^{a_{i}(Y)} (\\sum_{j=1}^K e^{a_{j}(Y)} - e^{a_{j}(Y)}) } { (\\sum_{j=1}^K e^{a_{k}(Y)})^2 }$\n",
    "\n",
    "Splitting the expression:\n",
    "\n",
    "$f'(Y) = \\frac{ e^{a_{j}(Y)} } { \\sum_{j=1}^K e^{a_{k}(Y)} } Y \\frac{ \\sum_{k=1}^N e^{a_{k}(Y)} - e^{a_{j}(Y)} } { \\sum_{k=1}^N e^{a_{k}(Y)} }$\n",
    "\n",
    "... which is magically equivalent to $S_{i}(1 - S_{j})$ (again, for our case where $i=j$)\n",
    "\n",
    "Now let's return to our cross-entropy loss:\n",
    "\n",
    "$L = - \\sum_{i=1}^N y_{i} ln(S_{i})$, where $y$ is our \"ground truth\" vector, and thus $y_{i}$ is index $i$ of the \"ground truth\" vector. Again, $S_{i}$ is the softmax function applied to index $i$ of the \"model\" or output vector.\n",
    "\n",
    "If we differentiate our cross-entropy loss with respect to our output for index $i$, we get:\n",
    "\n",
    "$\\partial L/ \\partial Y_{i} = - \\sum_{k=1}^N y_{k} \\frac{ \\partial{ln(S_{k})} } { \\partial{ Y_{i} }}$\n",
    "\n",
    "Applying the chain rule:\n",
    "\n",
    "$\\partial L/ \\partial Y_{i} = - \\sum_{k=1}^N y_{k} \\frac{ \\partial{ln(S_{k})} } { \\partial{ S_{k} }} x \\frac{ \\partial{S_{k}} }{ \\partial{Y_{i}} }$\n",
    "\n",
    "Since $\\frac {\\partial ln(x) }{\\partial{x}} = \\frac{1}{x}$,\n",
    "\n",
    "$\\partial L/ \\partial Y_{i} = - \\sum_{k=1}^N y_{k} \\frac{1}{S_{k}} x \\frac{ \\partial{S_{k}} }{ \\partial{Y_{i}} }$\n",
    "\n",
    "Now let's plug in our softmax derivative. We can decompose the expression into instances where $k=i$ and $k \\ne i$:\n",
    "\n",
    "$\\partial L/ \\partial Y_{i} = - y_{i}(1 - S_{i}) - \\sum_{k \\ne i}^N y_{k} \\frac{1}{S_{k}}(-S_{k} S_{i})$\n",
    "\n",
    "$= - y_{i}(1 - S_{i}) + \\sum_{k \\ne i}^N y_{k} S_{i}$\n",
    "\n",
    "$= - y_{i} + y_{i} S_{i} + \\sum_{k \\ne i}^N y_{k} S_{i}$\n",
    "\n",
    "$= S_{i} (y_{i} + \\sum_{k \\ne i}^N y_{k}) - y_{i}$\n",
    "\n",
    "Since $y$ sums up to 1 (it's one 1 and a bunch of zeroes - a \"one-hot\" encoding), $\\sum_{k = 1}^N y_{k} = 1$ and $y_{i} + \\sum_{k \\ne 1}^N y_{k} = 1$\n",
    "\n",
    "Thus, $\\frac {\\partial L}{\\partial Y_{i}} = S_{i} - y_{i}$\n",
    "\n",
    "Yikes, that's a lot of math. The code is ridiculously simpler:"
   ]
  },
  {
   "cell_type": "code",
   "execution_count": 65,
   "metadata": {},
   "outputs": [],
   "source": [
    "def grad_cross_entropy(Y, y):\n",
    "    return softmax(Y) - y"
   ]
  },
  {
   "cell_type": "code",
   "execution_count": 66,
   "metadata": {},
   "outputs": [
    {
     "data": {
      "text/plain": [
       "array([[-0.9],\n",
       "       [ 0.1],\n",
       "       [ 0.1],\n",
       "       [ 0.1],\n",
       "       [ 0.1],\n",
       "       [ 0.1],\n",
       "       [ 0.1],\n",
       "       [ 0.1],\n",
       "       [ 0.1],\n",
       "       [ 0.1]])"
      ]
     },
     "execution_count": 66,
     "metadata": {},
     "output_type": "execute_result"
    }
   ],
   "source": [
    "grad_cross_entropy(Y, y)"
   ]
  },
  {
   "cell_type": "markdown",
   "metadata": {},
   "source": [
    "We need to take a step further and update our weights $w_{i}$. Applying the chain rule:\n",
    "\n",
    "$\\frac{\\partial L}{\\partial w_{i}} = \\frac{\\partial L}{\\partial Y_{i}} x \\frac{\\partial Y_{i}}{\\partial w_{i}}$\n",
    "\n",
    "$= (S_{i} - y_{i}) x_{i}$\n",
    "\n",
    "We can now update our weights!\n",
    "\n",
    "$w_{i(t+1)} = w_{it} - \\alpha \\frac{\\partial Y}{\\partial w_{it}}$\n",
    "\n",
    "$= w_{it} - \\alpha \\frac{\\partial Y}{\\partial Y_{i}} \\frac{\\partial Y_{i}}{\\partial w_{i}}$\n",
    "\n",
    "Let's first update the single weight $w_{0}$. Recall that $x=0$. We'll keep our learning rate $\\alpha=0.1$"
   ]
  },
  {
   "cell_type": "code",
   "execution_count": 67,
   "metadata": {},
   "outputs": [],
   "source": [
    "def gd_cross_entropy (Y, y, x, w, a):\n",
    "    return w - a*(softmax(Y[0]) - y[0])*x"
   ]
  },
  {
   "cell_type": "code",
   "execution_count": 68,
   "metadata": {},
   "outputs": [
    {
     "data": {
      "text/plain": [
       "array([0.])"
      ]
     },
     "execution_count": 68,
     "metadata": {},
     "output_type": "execute_result"
    }
   ],
   "source": [
    "gd_cross_entropy(Y=Y, y=y, x=0, w=0, a=0.1)"
   ]
  },
  {
   "cell_type": "markdown",
   "metadata": {},
   "source": [
    "Uh oh, looks like our weights aren't going to update again with $x = 0$. \n",
    "\n",
    "We could try with a different observation or different weight, but at this point we should note that zero initialization isn't ideal. Once we start adding activation functions, zero initialization will prevent our neural network from updating weights during backpropagation. More on this once we get to activation functions.\n",
    "\n",
    "Let's try something better: randomly initialized weights (and biases)! Recall that we have a 10x25 weight matrix $W$ and a 10x1 bias vector $b$. We're going to replace those zero initializations with weights randomly sampled from a standard normal distribution (mean 0, variance 1). There's a NumPy function that does this called **numpy.random.randn**:"
   ]
  },
  {
   "cell_type": "code",
   "execution_count": 69,
   "metadata": {},
   "outputs": [],
   "source": [
    "W = np.random.randn(10, 25)\n",
    "b = np.random.randn(10, 1)"
   ]
  },
  {
   "cell_type": "code",
   "execution_count": 70,
   "metadata": {},
   "outputs": [
    {
     "data": {
      "text/plain": [
       "array([[-1.39034828, -0.67957726, -2.41568005, -1.27226266,  1.7470667 ,\n",
       "         0.71753822,  2.31302808, -0.16996814, -1.95256901, -0.84263241,\n",
       "         1.32537258, -0.29984944,  0.48825896, -0.59193708,  0.82429634,\n",
       "        -0.4103009 , -0.98053429, -0.80461158, -0.60942986,  1.5052507 ,\n",
       "        -0.87654875,  0.05472689,  0.20263265,  1.06956287,  1.63478759],\n",
       "       [-0.54516674,  0.33760676, -0.71890905,  1.15396403, -0.05656974,\n",
       "        -0.59545513, -1.32573687,  0.24733135,  0.56342284, -0.82618589,\n",
       "         0.7447483 , -0.95251253,  1.59443104, -0.82059   , -1.14939343,\n",
       "         0.6296382 ,  0.15259901,  0.07533168,  2.74862836,  1.14077698,\n",
       "        -0.62930807,  0.71424729, -1.37596141, -0.27099727, -0.25936514],\n",
       "       [-0.92392046, -0.18172287, -1.36784438,  0.02596364,  0.18422002,\n",
       "        -0.71281268,  1.17279441,  0.64336134, -0.42694305, -0.16124889,\n",
       "        -1.46157292,  0.16871816,  0.80872285,  1.7601712 ,  1.76813282,\n",
       "        -0.29515043, -1.13994948,  1.89243761, -1.47905484,  0.84459097,\n",
       "         1.21786985,  1.12811889,  2.42949686, -0.31609198,  0.75224509],\n",
       "       [-0.10236981, -0.7344488 , -1.18616052, -0.05099405, -1.70265101,\n",
       "         0.78211537,  0.48824137,  1.50523338,  1.11376613,  0.57812308,\n",
       "         0.26015389, -0.93158061, -0.62325435,  0.05347972, -1.56792332,\n",
       "        -0.4758498 ,  0.89337921,  1.2309701 , -1.24361524, -0.08798367,\n",
       "         0.48249245, -0.32196256, -1.50786914, -2.87253466,  0.05569526],\n",
       "       [-0.22508224,  1.23928391,  0.18436747,  0.35943283, -1.80997494,\n",
       "        -0.31361925, -0.18656926, -1.2646061 , -0.71522019,  1.05101545,\n",
       "         0.01898428, -0.0312569 , -0.82502544,  1.22561695, -0.04852158,\n",
       "        -0.51088113,  0.60456869,  0.41149398, -0.44440796, -1.71509832,\n",
       "        -0.79476534,  0.51654991, -1.89348913, -0.30500069,  0.26765747],\n",
       "       [ 0.34732433,  0.85976867, -0.22716085, -0.18909578,  0.87496019,\n",
       "        -0.64451651,  0.47859266, -0.48154957, -2.12605703, -0.70514177,\n",
       "        -1.02355703, -0.21778791,  0.75129202, -0.00662204,  0.07818758,\n",
       "        -0.1158091 , -1.08376289, -1.55800175,  0.58372739, -0.24340675,\n",
       "        -0.72090356,  0.25667223,  1.20190688, -1.01835811,  1.72483765],\n",
       "       [ 1.96999863, -0.51966398, -0.46277275, -0.93007033,  1.37722504,\n",
       "        -1.2897007 , -0.85387248, -0.94176028, -0.31434385, -0.42374503,\n",
       "         0.06722818,  1.49593137, -1.81999484,  2.01753054, -0.04551694,\n",
       "        -0.98603766,  0.49127192,  1.53883309,  1.03382914,  1.40080785,\n",
       "         0.99255087,  0.11120298, -0.24177538,  0.25327708, -0.63631749],\n",
       "       [-0.34318349,  1.03348851,  0.70735615, -0.78092129,  1.19912904,\n",
       "        -0.18402483,  0.45470598, -0.06845252, -0.63149884,  0.29626663,\n",
       "        -0.54056675, -2.01652642,  1.60518958, -1.37035017, -0.3814706 ,\n",
       "         1.82560917, -0.2669034 , -0.88537466, -0.78265179,  0.3550228 ,\n",
       "         0.33579383,  0.6223483 , -0.4838563 ,  0.82485712, -0.38411532],\n",
       "       [-2.68042635, -0.83803629,  0.94760093, -0.5938366 ,  0.20162292,\n",
       "         0.57110315, -0.57098319,  1.37831915,  0.96003141, -0.9897496 ,\n",
       "        -1.3398345 ,  1.15946002,  0.80928685, -0.81672932, -1.33334275,\n",
       "         0.83540475,  0.2553515 , -1.79779952, -2.07677769,  0.26675799,\n",
       "        -0.4166739 ,  2.34157443, -0.01323273, -1.4771726 ,  0.50467332],\n",
       "       [-1.8676955 , -0.73501138, -0.08508629, -1.92027463, -1.10754386,\n",
       "         0.03896441, -0.72158568, -1.25373171, -0.72158638,  0.81199303,\n",
       "        -0.88843314,  1.46099422,  1.10154254, -1.57072464,  0.22561847,\n",
       "        -0.57935523, -0.37158209, -1.48164994, -1.09372268,  1.91126856,\n",
       "        -0.26285919,  0.02940492, -0.686748  ,  1.78798173, -1.26121155]])"
      ]
     },
     "execution_count": 70,
     "metadata": {},
     "output_type": "execute_result"
    }
   ],
   "source": [
    "W"
   ]
  },
  {
   "cell_type": "code",
   "execution_count": 71,
   "metadata": {},
   "outputs": [
    {
     "data": {
      "text/plain": [
       "array([[ 0.7434133 ],\n",
       "       [ 2.2441326 ],\n",
       "       [ 0.19447452],\n",
       "       [ 0.22999156],\n",
       "       [-0.69502484],\n",
       "       [ 0.88670571],\n",
       "       [-0.93282179],\n",
       "       [-0.53547982],\n",
       "       [-0.71836238],\n",
       "       [ 1.47894913]])"
      ]
     },
     "execution_count": 71,
     "metadata": {},
     "output_type": "execute_result"
    }
   ],
   "source": [
    "b"
   ]
  },
  {
   "cell_type": "markdown",
   "metadata": {},
   "source": [
    "Let's compute our outputs again with these randomly initialized weights:"
   ]
  },
  {
   "cell_type": "code",
   "execution_count": 72,
   "metadata": {},
   "outputs": [
    {
     "data": {
      "text/plain": [
       "array([[ 0.82234028],\n",
       "       [ 2.02821198],\n",
       "       [ 1.89433356],\n",
       "       [-6.95534263],\n",
       "       [-2.1120011 ],\n",
       "       [-0.88380482],\n",
       "       [-3.99958847],\n",
       "       [ 2.75862909],\n",
       "       [-2.34112621],\n",
       "       [ 1.38927159]])"
      ]
     },
     "execution_count": 72,
     "metadata": {},
     "output_type": "execute_result"
    }
   ],
   "source": [
    "Y = np.matmul(W, x) + b\n",
    "Y"
   ]
  },
  {
   "cell_type": "markdown",
   "metadata": {},
   "source": [
    "Now let's pass that output through a softmax function:"
   ]
  },
  {
   "cell_type": "code",
   "execution_count": 73,
   "metadata": {},
   "outputs": [
    {
     "data": {
      "text/plain": [
       "array([[6.15681377e-02],\n",
       "       [2.05617201e-01],\n",
       "       [1.79852626e-01],\n",
       "       [2.57959335e-05],\n",
       "       [3.27331460e-03],\n",
       "       [1.11785794e-02],\n",
       "       [4.95700061e-04],\n",
       "       [4.26850273e-01],\n",
       "       [2.60303482e-03],\n",
       "       [1.08535337e-01]])"
      ]
     },
     "execution_count": 73,
     "metadata": {},
     "output_type": "execute_result"
    }
   ],
   "source": [
    "S = softmax(Y)\n",
    "S"
   ]
  },
  {
   "cell_type": "markdown",
   "metadata": {},
   "source": [
    "...and compute cross entropy loss:"
   ]
  },
  {
   "cell_type": "code",
   "execution_count": 74,
   "metadata": {},
   "outputs": [
    {
     "data": {
      "text/plain": [
       "2.787610787306345"
      ]
     },
     "execution_count": 74,
     "metadata": {},
     "output_type": "execute_result"
    }
   ],
   "source": [
    "cross_entropy(S, y)"
   ]
  },
  {
   "cell_type": "markdown",
   "metadata": {},
   "source": [
    "Now backprop is going to get trickier. We have to update a bunch of weights and biases, and pretty soon we're going to be stacking layers. Hopefully by now you have a good idea of what we're doing -- it's just the partial derivative of the loss function with respect to the weights and biases, and we solve for this using the chain rule. Maybe in a future course, we'll do some more backprop in NumPy, but I think this is sufficient for an introduction to neural networks. We got a lot more to cover.\n",
    "\n",
    "Thankfully, we have something called **PyTorch** that makes things a lot easier. PyTorch is a **deep learning framework**, or collection of operations for training neural networks. Also, it looks a lot like NumPy. Let's import it:"
   ]
  },
  {
   "cell_type": "code",
   "execution_count": 75,
   "metadata": {},
   "outputs": [],
   "source": [
    "import torch"
   ]
  },
  {
   "cell_type": "markdown",
   "metadata": {},
   "source": [
    "Just as the basic unit of NumPy is the numpy array, PyTorch has a class called **Tensor**. We'll be performing our operations on Tensors. PyTorch makes it easy to convert NumPy arrays to Tensors using **torch.tensor**, so we're gonna do that for our $W$ matrix, and $b$, $x$, and $y$ vectors.\n",
    "\n",
    "We're also going to pass another parameter to enable computation of gradients, **requires_grad=True**. Note that we don't want to do this for our data -- just our weights and biases. We set **requires_grad=False** for those instead. We'll also need to convert our input datum $x$ to a float using the **float** method (to do math and stuff). \n",
    "\n",
    "Finally, we have to change our encoding of the **target** (ground truth) from a one-hot vector to class indices. "
   ]
  },
  {
   "cell_type": "code",
   "execution_count": 76,
   "metadata": {},
   "outputs": [],
   "source": [
    "y = torch.tensor([0])"
   ]
  },
  {
   "cell_type": "code",
   "execution_count": 77,
   "metadata": {},
   "outputs": [
    {
     "data": {
      "text/plain": [
       "tensor([0])"
      ]
     },
     "execution_count": 77,
     "metadata": {},
     "output_type": "execute_result"
    }
   ],
   "source": [
    "y"
   ]
  },
  {
   "cell_type": "code",
   "execution_count": 78,
   "metadata": {},
   "outputs": [
    {
     "data": {
      "text/plain": [
       "numpy.ndarray"
      ]
     },
     "execution_count": 78,
     "metadata": {},
     "output_type": "execute_result"
    }
   ],
   "source": [
    "type(b)"
   ]
  },
  {
   "cell_type": "code",
   "execution_count": 79,
   "metadata": {},
   "outputs": [
    {
     "name": "stderr",
     "output_type": "stream",
     "text": [
      "/Users/patrickdonnelly/anaconda3/lib/python3.7/site-packages/ipykernel_launcher.py:4: UserWarning: To copy construct from a tensor, it is recommended to use sourceTensor.clone().detach() or sourceTensor.clone().detach().requires_grad_(True), rather than torch.tensor(sourceTensor).\n",
      "  after removing the cwd from sys.path.\n"
     ]
    }
   ],
   "source": [
    "W = torch.tensor(W, requires_grad=True)\n",
    "b = torch.tensor(b, requires_grad=True)\n",
    "x = torch.tensor(x, requires_grad=False).float()\n",
    "y = torch.tensor(y, requires_grad=False)"
   ]
  },
  {
   "cell_type": "code",
   "execution_count": 80,
   "metadata": {},
   "outputs": [
    {
     "data": {
      "text/plain": [
       "tensor([[-1.3903, -0.6796, -2.4157, -1.2723,  1.7471,  0.7175,  2.3130, -0.1700,\n",
       "         -1.9526, -0.8426,  1.3254, -0.2998,  0.4883, -0.5919,  0.8243, -0.4103,\n",
       "         -0.9805, -0.8046, -0.6094,  1.5053, -0.8765,  0.0547,  0.2026,  1.0696,\n",
       "          1.6348],\n",
       "        [-0.5452,  0.3376, -0.7189,  1.1540, -0.0566, -0.5955, -1.3257,  0.2473,\n",
       "          0.5634, -0.8262,  0.7447, -0.9525,  1.5944, -0.8206, -1.1494,  0.6296,\n",
       "          0.1526,  0.0753,  2.7486,  1.1408, -0.6293,  0.7142, -1.3760, -0.2710,\n",
       "         -0.2594],\n",
       "        [-0.9239, -0.1817, -1.3678,  0.0260,  0.1842, -0.7128,  1.1728,  0.6434,\n",
       "         -0.4269, -0.1612, -1.4616,  0.1687,  0.8087,  1.7602,  1.7681, -0.2952,\n",
       "         -1.1399,  1.8924, -1.4791,  0.8446,  1.2179,  1.1281,  2.4295, -0.3161,\n",
       "          0.7522],\n",
       "        [-0.1024, -0.7344, -1.1862, -0.0510, -1.7027,  0.7821,  0.4882,  1.5052,\n",
       "          1.1138,  0.5781,  0.2602, -0.9316, -0.6233,  0.0535, -1.5679, -0.4758,\n",
       "          0.8934,  1.2310, -1.2436, -0.0880,  0.4825, -0.3220, -1.5079, -2.8725,\n",
       "          0.0557],\n",
       "        [-0.2251,  1.2393,  0.1844,  0.3594, -1.8100, -0.3136, -0.1866, -1.2646,\n",
       "         -0.7152,  1.0510,  0.0190, -0.0313, -0.8250,  1.2256, -0.0485, -0.5109,\n",
       "          0.6046,  0.4115, -0.4444, -1.7151, -0.7948,  0.5165, -1.8935, -0.3050,\n",
       "          0.2677],\n",
       "        [ 0.3473,  0.8598, -0.2272, -0.1891,  0.8750, -0.6445,  0.4786, -0.4815,\n",
       "         -2.1261, -0.7051, -1.0236, -0.2178,  0.7513, -0.0066,  0.0782, -0.1158,\n",
       "         -1.0838, -1.5580,  0.5837, -0.2434, -0.7209,  0.2567,  1.2019, -1.0184,\n",
       "          1.7248],\n",
       "        [ 1.9700, -0.5197, -0.4628, -0.9301,  1.3772, -1.2897, -0.8539, -0.9418,\n",
       "         -0.3143, -0.4237,  0.0672,  1.4959, -1.8200,  2.0175, -0.0455, -0.9860,\n",
       "          0.4913,  1.5388,  1.0338,  1.4008,  0.9926,  0.1112, -0.2418,  0.2533,\n",
       "         -0.6363],\n",
       "        [-0.3432,  1.0335,  0.7074, -0.7809,  1.1991, -0.1840,  0.4547, -0.0685,\n",
       "         -0.6315,  0.2963, -0.5406, -2.0165,  1.6052, -1.3704, -0.3815,  1.8256,\n",
       "         -0.2669, -0.8854, -0.7827,  0.3550,  0.3358,  0.6223, -0.4839,  0.8249,\n",
       "         -0.3841],\n",
       "        [-2.6804, -0.8380,  0.9476, -0.5938,  0.2016,  0.5711, -0.5710,  1.3783,\n",
       "          0.9600, -0.9897, -1.3398,  1.1595,  0.8093, -0.8167, -1.3333,  0.8354,\n",
       "          0.2554, -1.7978, -2.0768,  0.2668, -0.4167,  2.3416, -0.0132, -1.4772,\n",
       "          0.5047],\n",
       "        [-1.8677, -0.7350, -0.0851, -1.9203, -1.1075,  0.0390, -0.7216, -1.2537,\n",
       "         -0.7216,  0.8120, -0.8884,  1.4610,  1.1015, -1.5707,  0.2256, -0.5794,\n",
       "         -0.3716, -1.4816, -1.0937,  1.9113, -0.2629,  0.0294, -0.6867,  1.7880,\n",
       "         -1.2612]], dtype=torch.float64, requires_grad=True)"
      ]
     },
     "execution_count": 80,
     "metadata": {},
     "output_type": "execute_result"
    }
   ],
   "source": [
    "W"
   ]
  },
  {
   "cell_type": "code",
   "execution_count": 81,
   "metadata": {},
   "outputs": [
    {
     "data": {
      "text/plain": [
       "tensor([[ 0.7434],\n",
       "        [ 2.2441],\n",
       "        [ 0.1945],\n",
       "        [ 0.2300],\n",
       "        [-0.6950],\n",
       "        [ 0.8867],\n",
       "        [-0.9328],\n",
       "        [-0.5355],\n",
       "        [-0.7184],\n",
       "        [ 1.4789]], dtype=torch.float64, requires_grad=True)"
      ]
     },
     "execution_count": 81,
     "metadata": {},
     "output_type": "execute_result"
    }
   ],
   "source": [
    "b"
   ]
  },
  {
   "cell_type": "code",
   "execution_count": 82,
   "metadata": {},
   "outputs": [
    {
     "data": {
      "text/plain": [
       "tensor([[0.],\n",
       "        [1.],\n",
       "        [1.],\n",
       "        [1.],\n",
       "        [0.],\n",
       "        [1.],\n",
       "        [0.],\n",
       "        [0.],\n",
       "        [0.],\n",
       "        [1.],\n",
       "        [1.],\n",
       "        [0.],\n",
       "        [0.],\n",
       "        [0.],\n",
       "        [1.],\n",
       "        [1.],\n",
       "        [0.],\n",
       "        [0.],\n",
       "        [0.],\n",
       "        [1.],\n",
       "        [0.],\n",
       "        [1.],\n",
       "        [1.],\n",
       "        [1.],\n",
       "        [0.]])"
      ]
     },
     "execution_count": 82,
     "metadata": {},
     "output_type": "execute_result"
    }
   ],
   "source": [
    "x"
   ]
  },
  {
   "cell_type": "code",
   "execution_count": 83,
   "metadata": {},
   "outputs": [
    {
     "data": {
      "text/plain": [
       "tensor([0])"
      ]
     },
     "execution_count": 83,
     "metadata": {},
     "output_type": "execute_result"
    }
   ],
   "source": [
    "y"
   ]
  },
  {
   "cell_type": "markdown",
   "metadata": {},
   "source": [
    "Note that we haven't yet computed gradients:"
   ]
  },
  {
   "cell_type": "code",
   "execution_count": 84,
   "metadata": {},
   "outputs": [
    {
     "name": "stdout",
     "output_type": "stream",
     "text": [
      "None\n",
      "None\n"
     ]
    }
   ],
   "source": [
    "print(W.grad)\n",
    "print(b.grad)"
   ]
  },
  {
   "cell_type": "markdown",
   "metadata": {},
   "source": [
    "Now let's do our linear transformation (matrix multiplication and addition):"
   ]
  },
  {
   "cell_type": "code",
   "execution_count": 85,
   "metadata": {},
   "outputs": [
    {
     "data": {
      "text/plain": [
       "tensor([[ 0.8223],\n",
       "        [ 2.0282],\n",
       "        [ 1.8943],\n",
       "        [-6.9553],\n",
       "        [-2.1120],\n",
       "        [-0.8838],\n",
       "        [-3.9996],\n",
       "        [ 2.7586],\n",
       "        [-2.3411],\n",
       "        [ 1.3893]], dtype=torch.float64, grad_fn=<AddBackward0>)"
      ]
     },
     "execution_count": 85,
     "metadata": {},
     "output_type": "execute_result"
    }
   ],
   "source": [
    "Y = torch.mm(W, x.double())\n",
    "Y = Y.double()\n",
    "Y = Y.add(b)\n",
    "Y"
   ]
  },
  {
   "cell_type": "code",
   "execution_count": 86,
   "metadata": {},
   "outputs": [
    {
     "data": {
      "text/plain": [
       "tensor([[ 0.8223,  2.0282,  1.8943, -6.9553, -2.1120, -0.8838, -3.9996,  2.7586,\n",
       "         -2.3411,  1.3893]], dtype=torch.float64, grad_fn=<ViewBackward>)"
      ]
     },
     "execution_count": 86,
     "metadata": {},
     "output_type": "execute_result"
    }
   ],
   "source": [
    "Y = Y.view(1, -1)\n",
    "Y"
   ]
  },
  {
   "cell_type": "markdown",
   "metadata": {},
   "source": [
    "PyTorch has a built-in softmax function. We can import this from the **torch.nn.functional** module:"
   ]
  },
  {
   "cell_type": "code",
   "execution_count": 87,
   "metadata": {},
   "outputs": [],
   "source": [
    "import torch.nn.functional as F"
   ]
  },
  {
   "cell_type": "markdown",
   "metadata": {},
   "source": [
    "We also have to specify **dim=0** to compute softmax for dimension 0. I don't know why PyTorch requires this:"
   ]
  },
  {
   "cell_type": "code",
   "execution_count": 88,
   "metadata": {},
   "outputs": [],
   "source": [
    "S = F.softmax(Y, dim=0)"
   ]
  },
  {
   "cell_type": "code",
   "execution_count": 89,
   "metadata": {},
   "outputs": [
    {
     "data": {
      "text/plain": [
       "tensor([[1., 1., 1., 1., 1., 1., 1., 1., 1., 1.]], dtype=torch.float64,\n",
       "       grad_fn=<SoftmaxBackward>)"
      ]
     },
     "execution_count": 89,
     "metadata": {},
     "output_type": "execute_result"
    }
   ],
   "source": [
    "S"
   ]
  },
  {
   "cell_type": "markdown",
   "metadata": {},
   "source": [
    "When computing cross-entropy loss in PyTorch, we just use the raw output -- it's not necessary to pass the output through a softmax function first:"
   ]
  },
  {
   "cell_type": "code",
   "execution_count": 90,
   "metadata": {},
   "outputs": [
    {
     "data": {
      "text/plain": [
       "tensor(2.7876, dtype=torch.float64, grad_fn=<NllLossBackward>)"
      ]
     },
     "execution_count": 90,
     "metadata": {},
     "output_type": "execute_result"
    }
   ],
   "source": [
    "E = F.cross_entropy(Y.view(1, -1), y)\n",
    "E"
   ]
  },
  {
   "cell_type": "markdown",
   "metadata": {},
   "source": [
    "Backpropagation is easy in PyTorch! Just use **backward**. We can do this to our linear transformation"
   ]
  },
  {
   "cell_type": "code",
   "execution_count": 91,
   "metadata": {},
   "outputs": [],
   "source": [
    "E.backward()"
   ]
  },
  {
   "cell_type": "markdown",
   "metadata": {},
   "source": [
    "Now let's check out our gradients!"
   ]
  },
  {
   "cell_type": "code",
   "execution_count": 92,
   "metadata": {},
   "outputs": [
    {
     "name": "stdout",
     "output_type": "stream",
     "text": [
      "tensor([[-0.0000e+00, -9.3843e-01, -9.3843e-01, -9.3843e-01, -0.0000e+00,\n",
      "         -9.3843e-01, -0.0000e+00, -0.0000e+00, -0.0000e+00, -9.3843e-01,\n",
      "         -9.3843e-01, -0.0000e+00, -0.0000e+00, -0.0000e+00, -9.3843e-01,\n",
      "         -9.3843e-01, -0.0000e+00, -0.0000e+00, -0.0000e+00, -9.3843e-01,\n",
      "         -0.0000e+00, -9.3843e-01, -9.3843e-01, -9.3843e-01, -0.0000e+00],\n",
      "        [ 0.0000e+00,  2.0562e-01,  2.0562e-01,  2.0562e-01,  0.0000e+00,\n",
      "          2.0562e-01,  0.0000e+00,  0.0000e+00,  0.0000e+00,  2.0562e-01,\n",
      "          2.0562e-01,  0.0000e+00,  0.0000e+00,  0.0000e+00,  2.0562e-01,\n",
      "          2.0562e-01,  0.0000e+00,  0.0000e+00,  0.0000e+00,  2.0562e-01,\n",
      "          0.0000e+00,  2.0562e-01,  2.0562e-01,  2.0562e-01,  0.0000e+00],\n",
      "        [ 0.0000e+00,  1.7985e-01,  1.7985e-01,  1.7985e-01,  0.0000e+00,\n",
      "          1.7985e-01,  0.0000e+00,  0.0000e+00,  0.0000e+00,  1.7985e-01,\n",
      "          1.7985e-01,  0.0000e+00,  0.0000e+00,  0.0000e+00,  1.7985e-01,\n",
      "          1.7985e-01,  0.0000e+00,  0.0000e+00,  0.0000e+00,  1.7985e-01,\n",
      "          0.0000e+00,  1.7985e-01,  1.7985e-01,  1.7985e-01,  0.0000e+00],\n",
      "        [ 0.0000e+00,  2.5796e-05,  2.5796e-05,  2.5796e-05,  0.0000e+00,\n",
      "          2.5796e-05,  0.0000e+00,  0.0000e+00,  0.0000e+00,  2.5796e-05,\n",
      "          2.5796e-05,  0.0000e+00,  0.0000e+00,  0.0000e+00,  2.5796e-05,\n",
      "          2.5796e-05,  0.0000e+00,  0.0000e+00,  0.0000e+00,  2.5796e-05,\n",
      "          0.0000e+00,  2.5796e-05,  2.5796e-05,  2.5796e-05,  0.0000e+00],\n",
      "        [ 0.0000e+00,  3.2733e-03,  3.2733e-03,  3.2733e-03,  0.0000e+00,\n",
      "          3.2733e-03,  0.0000e+00,  0.0000e+00,  0.0000e+00,  3.2733e-03,\n",
      "          3.2733e-03,  0.0000e+00,  0.0000e+00,  0.0000e+00,  3.2733e-03,\n",
      "          3.2733e-03,  0.0000e+00,  0.0000e+00,  0.0000e+00,  3.2733e-03,\n",
      "          0.0000e+00,  3.2733e-03,  3.2733e-03,  3.2733e-03,  0.0000e+00],\n",
      "        [ 0.0000e+00,  1.1179e-02,  1.1179e-02,  1.1179e-02,  0.0000e+00,\n",
      "          1.1179e-02,  0.0000e+00,  0.0000e+00,  0.0000e+00,  1.1179e-02,\n",
      "          1.1179e-02,  0.0000e+00,  0.0000e+00,  0.0000e+00,  1.1179e-02,\n",
      "          1.1179e-02,  0.0000e+00,  0.0000e+00,  0.0000e+00,  1.1179e-02,\n",
      "          0.0000e+00,  1.1179e-02,  1.1179e-02,  1.1179e-02,  0.0000e+00],\n",
      "        [ 0.0000e+00,  4.9570e-04,  4.9570e-04,  4.9570e-04,  0.0000e+00,\n",
      "          4.9570e-04,  0.0000e+00,  0.0000e+00,  0.0000e+00,  4.9570e-04,\n",
      "          4.9570e-04,  0.0000e+00,  0.0000e+00,  0.0000e+00,  4.9570e-04,\n",
      "          4.9570e-04,  0.0000e+00,  0.0000e+00,  0.0000e+00,  4.9570e-04,\n",
      "          0.0000e+00,  4.9570e-04,  4.9570e-04,  4.9570e-04,  0.0000e+00],\n",
      "        [ 0.0000e+00,  4.2685e-01,  4.2685e-01,  4.2685e-01,  0.0000e+00,\n",
      "          4.2685e-01,  0.0000e+00,  0.0000e+00,  0.0000e+00,  4.2685e-01,\n",
      "          4.2685e-01,  0.0000e+00,  0.0000e+00,  0.0000e+00,  4.2685e-01,\n",
      "          4.2685e-01,  0.0000e+00,  0.0000e+00,  0.0000e+00,  4.2685e-01,\n",
      "          0.0000e+00,  4.2685e-01,  4.2685e-01,  4.2685e-01,  0.0000e+00],\n",
      "        [ 0.0000e+00,  2.6030e-03,  2.6030e-03,  2.6030e-03,  0.0000e+00,\n",
      "          2.6030e-03,  0.0000e+00,  0.0000e+00,  0.0000e+00,  2.6030e-03,\n",
      "          2.6030e-03,  0.0000e+00,  0.0000e+00,  0.0000e+00,  2.6030e-03,\n",
      "          2.6030e-03,  0.0000e+00,  0.0000e+00,  0.0000e+00,  2.6030e-03,\n",
      "          0.0000e+00,  2.6030e-03,  2.6030e-03,  2.6030e-03,  0.0000e+00],\n",
      "        [ 0.0000e+00,  1.0854e-01,  1.0854e-01,  1.0854e-01,  0.0000e+00,\n",
      "          1.0854e-01,  0.0000e+00,  0.0000e+00,  0.0000e+00,  1.0854e-01,\n",
      "          1.0854e-01,  0.0000e+00,  0.0000e+00,  0.0000e+00,  1.0854e-01,\n",
      "          1.0854e-01,  0.0000e+00,  0.0000e+00,  0.0000e+00,  1.0854e-01,\n",
      "          0.0000e+00,  1.0854e-01,  1.0854e-01,  1.0854e-01,  0.0000e+00]],\n",
      "       dtype=torch.float64)\n"
     ]
    }
   ],
   "source": [
    "print(W.grad)"
   ]
  },
  {
   "cell_type": "code",
   "execution_count": 93,
   "metadata": {},
   "outputs": [
    {
     "name": "stdout",
     "output_type": "stream",
     "text": [
      "tensor([[-9.3843e-01],\n",
      "        [ 2.0562e-01],\n",
      "        [ 1.7985e-01],\n",
      "        [ 2.5796e-05],\n",
      "        [ 3.2733e-03],\n",
      "        [ 1.1179e-02],\n",
      "        [ 4.9570e-04],\n",
      "        [ 4.2685e-01],\n",
      "        [ 2.6030e-03],\n",
      "        [ 1.0854e-01]], dtype=torch.float64)\n"
     ]
    }
   ],
   "source": [
    "print(b.grad)"
   ]
  },
  {
   "cell_type": "markdown",
   "metadata": {},
   "source": [
    "Isn't this magical? But wait, there's more. We don't even need to define our weights and biases manually. PyTorch gives us (at least) two options: the **torch.nn** module and its **torch.nn.Functional** module. We've already imported nn.Functional and used it for computing softmax and cross-entropy loss. Let's now import torch.nn:"
   ]
  },
  {
   "cell_type": "code",
   "execution_count": 94,
   "metadata": {},
   "outputs": [],
   "source": [
    "import torch.nn as nn"
   ]
  },
  {
   "cell_type": "markdown",
   "metadata": {},
   "source": [
    "We can use the **nn.Linear** function to define our weights and biases matrices. We just need to pass our number of input nodes (**features**) and output nodes, and specify **bias=True** to use biases. This is called a **fully-connected layer** since all of the input nodes are connected to all of the output nodes. Later, we'll encounter another architecture in which weights are shared and each input node is not connected to each output node. By convention, we call our fully-connected layer **fc**:"
   ]
  },
  {
   "cell_type": "code",
   "execution_count": 95,
   "metadata": {},
   "outputs": [],
   "source": [
    "fc = nn.Linear(25, 10)"
   ]
  },
  {
   "cell_type": "code",
   "execution_count": 96,
   "metadata": {},
   "outputs": [
    {
     "data": {
      "text/plain": [
       "Linear(in_features=25, out_features=10, bias=True)"
      ]
     },
     "execution_count": 96,
     "metadata": {},
     "output_type": "execute_result"
    }
   ],
   "source": [
    "fc"
   ]
  },
  {
   "cell_type": "code",
   "execution_count": 97,
   "metadata": {},
   "outputs": [
    {
     "name": "stdout",
     "output_type": "stream",
     "text": [
      "Linear(in_features=25, out_features=10, bias=True)\n"
     ]
    }
   ],
   "source": [
    "print(fc)"
   ]
  },
  {
   "cell_type": "markdown",
   "metadata": {},
   "source": [
    "We can view our weights with **weight**:"
   ]
  },
  {
   "cell_type": "code",
   "execution_count": 98,
   "metadata": {},
   "outputs": [
    {
     "data": {
      "text/plain": [
       "Parameter containing:\n",
       "tensor([[-0.0552,  0.1413,  0.1304, -0.0369,  0.0268,  0.1226,  0.0334,  0.1841,\n",
       "         -0.1907, -0.0070,  0.0090, -0.0334,  0.0523,  0.1723, -0.0986, -0.0379,\n",
       "          0.0608, -0.0207,  0.0587,  0.0799,  0.0634,  0.1556,  0.0576, -0.0793,\n",
       "         -0.0614],\n",
       "        [-0.0152, -0.1079,  0.0221,  0.0299, -0.1812, -0.0040,  0.1797,  0.1682,\n",
       "         -0.0990, -0.1161,  0.0442, -0.0191,  0.0270, -0.1668, -0.1686, -0.1334,\n",
       "         -0.1957,  0.1030, -0.1169, -0.0359,  0.0438,  0.1074, -0.0413, -0.0986,\n",
       "         -0.1269],\n",
       "        [ 0.0429,  0.0726, -0.1991,  0.0045, -0.0507, -0.1451,  0.1407, -0.0438,\n",
       "         -0.1667, -0.0829,  0.1961,  0.1228, -0.1201,  0.1249, -0.0384, -0.0905,\n",
       "         -0.0175,  0.1641, -0.1555, -0.0025, -0.0127, -0.0348,  0.0421, -0.0074,\n",
       "         -0.1993],\n",
       "        [ 0.0559, -0.1996,  0.0255, -0.0145, -0.0525, -0.1819,  0.0757,  0.0956,\n",
       "          0.1474, -0.0580,  0.0370,  0.1382,  0.1894, -0.1287,  0.1693, -0.0200,\n",
       "         -0.1546, -0.0761, -0.1530,  0.0542, -0.1889,  0.1944, -0.1628, -0.1259,\n",
       "         -0.1689],\n",
       "        [ 0.1851,  0.1394, -0.0759, -0.1010, -0.0549, -0.0122, -0.0005,  0.0163,\n",
       "          0.1313, -0.1976, -0.0850,  0.1690,  0.1757,  0.0180,  0.1443,  0.1807,\n",
       "          0.1229,  0.1288, -0.0815, -0.0578, -0.1048,  0.1371, -0.1518,  0.0500,\n",
       "         -0.1849],\n",
       "        [ 0.0987,  0.0901, -0.1869,  0.0401, -0.0485, -0.0937,  0.1536,  0.0956,\n",
       "         -0.1809,  0.1244,  0.1760, -0.1100, -0.0486, -0.1737,  0.0872, -0.0861,\n",
       "          0.1674,  0.0666,  0.1602, -0.1803,  0.1108, -0.1337,  0.0945, -0.0834,\n",
       "         -0.0594],\n",
       "        [-0.1403, -0.0543, -0.0494,  0.1354, -0.0666,  0.1773,  0.0506, -0.0122,\n",
       "         -0.0142,  0.1415,  0.0411, -0.1884,  0.0606,  0.0290,  0.1307,  0.1139,\n",
       "          0.0547,  0.1809, -0.0199, -0.0067,  0.1109, -0.0189, -0.1392,  0.1328,\n",
       "         -0.0994],\n",
       "        [-0.0297,  0.1810, -0.0390,  0.0037, -0.1560, -0.0494,  0.0775, -0.1114,\n",
       "          0.1014, -0.0331, -0.1902,  0.1891,  0.0341, -0.1632, -0.0868, -0.0316,\n",
       "          0.0915, -0.0590, -0.1406,  0.0160,  0.1820,  0.0954, -0.1862, -0.1228,\n",
       "         -0.1228],\n",
       "        [-0.0943,  0.0558, -0.0489,  0.0376, -0.1099,  0.0665,  0.0269, -0.0133,\n",
       "          0.1513,  0.0870,  0.1621,  0.0557,  0.0745, -0.0250, -0.0027, -0.0676,\n",
       "         -0.1597, -0.1546, -0.1501, -0.1169,  0.1881,  0.1794,  0.1571, -0.1113,\n",
       "         -0.1025],\n",
       "        [-0.1892, -0.1277, -0.0508, -0.1811, -0.1241,  0.1875,  0.0072, -0.1360,\n",
       "         -0.0642,  0.1180,  0.1156, -0.0865, -0.1812, -0.0615,  0.0286, -0.0774,\n",
       "          0.1828, -0.1637,  0.0467,  0.1904,  0.0237,  0.0522, -0.0894, -0.1194,\n",
       "          0.1203]], requires_grad=True)"
      ]
     },
     "execution_count": 98,
     "metadata": {},
     "output_type": "execute_result"
    }
   ],
   "source": [
    "fc.weight"
   ]
  },
  {
   "cell_type": "markdown",
   "metadata": {},
   "source": [
    "We can also view our biases with **bias**:"
   ]
  },
  {
   "cell_type": "code",
   "execution_count": 99,
   "metadata": {},
   "outputs": [
    {
     "data": {
      "text/plain": [
       "Parameter containing:\n",
       "tensor([-0.0425,  0.0014, -0.1513,  0.1394, -0.1527,  0.0771,  0.1685,  0.1041,\n",
       "        -0.0579, -0.1194], requires_grad=True)"
      ]
     },
     "execution_count": 99,
     "metadata": {},
     "output_type": "execute_result"
    }
   ],
   "source": [
    "fc.bias"
   ]
  },
  {
   "cell_type": "markdown",
   "metadata": {},
   "source": [
    "Cool, now let's construct our network the way it's supposed to be constructed. We define a class **Net** that inherits the properties of **nn.Module**. From the PyTorch documentation, nn.Module is the \"base class for all neural network modules.\" When we build a neural network, we construct a subclass of this class. We start by defining the class and our **init** constructor, then add our fc layer as a method of **self**:"
   ]
  },
  {
   "cell_type": "code",
   "execution_count": 100,
   "metadata": {},
   "outputs": [],
   "source": [
    "class Net(nn.Module):\n",
    "    def __init__(self):\n",
    "        super(Net, self).__init__()\n",
    "        self.fc = nn.Linear(25, 10)"
   ]
  },
  {
   "cell_type": "markdown",
   "metadata": {},
   "source": [
    "We also need to define how our input will **forward propagate** through the network. By convention, we define another class method **forward** that takes our randomly-initialized weights and biases from self and an input vector (or matrix of concatenated input vectors, but we'll get there eventually!) and produces our network output (from which we can then apply cross-entropy loss and update our weights and biases). We just need to pass our input through our fc layer and return the output (we'll add other stuff later):"
   ]
  },
  {
   "cell_type": "code",
   "execution_count": 101,
   "metadata": {},
   "outputs": [],
   "source": [
    "class Net(nn.Module):\n",
    "    def __init__(self):\n",
    "        super(Net, self).__init__()\n",
    "        self.fc = nn.Linear(25, 10)\n",
    "    def forward(self, x):\n",
    "        return self.fc(x)"
   ]
  },
  {
   "cell_type": "markdown",
   "metadata": {},
   "source": [
    "We can view our network architecture by calling **net** as an instance of **Net()**. Not much to see here! Don't worry, we're still just getting started:"
   ]
  },
  {
   "cell_type": "code",
   "execution_count": 102,
   "metadata": {},
   "outputs": [
    {
     "data": {
      "text/plain": [
       "Net(\n",
       "  (fc): Linear(in_features=25, out_features=10, bias=True)\n",
       ")"
      ]
     },
     "execution_count": 102,
     "metadata": {},
     "output_type": "execute_result"
    }
   ],
   "source": [
    "net = Net()\n",
    "net"
   ]
  },
  {
   "cell_type": "markdown",
   "metadata": {},
   "source": [
    "Think of **Net** as an **architecture** that generates randomly-initialized untrained models (here, **net**). We then use instances such as net to train neural networks on data. We can now pass our input __x__ through the net instance of Net() to generate a predicted model output **Y**. \n",
    "\n",
    "However, we need to do two things to our input tensor **x** first: change it from a (25, 1) column vector to a (1, 25) row vector using **view(1, -1)**, and cast it from a double to a float using **float**:"
   ]
  },
  {
   "cell_type": "code",
   "execution_count": 103,
   "metadata": {},
   "outputs": [],
   "source": [
    "x = x.view(1, -1)\n",
    "x = x.float()"
   ]
  },
  {
   "cell_type": "markdown",
   "metadata": {},
   "source": [
    "Now we're good to go!"
   ]
  },
  {
   "cell_type": "code",
   "execution_count": 104,
   "metadata": {},
   "outputs": [
    {
     "data": {
      "text/plain": [
       "tensor([[-0.1989, -0.1975, -1.0371, -0.4360,  0.4425, -0.9348,  0.7727, -0.2210,\n",
       "         -0.3380, -0.1035]], grad_fn=<AddmmBackward>)"
      ]
     },
     "execution_count": 104,
     "metadata": {},
     "output_type": "execute_result"
    }
   ],
   "source": [
    "Y = net(x)\n",
    "Y"
   ]
  },
  {
   "cell_type": "code",
   "execution_count": 105,
   "metadata": {},
   "outputs": [
    {
     "data": {
      "text/plain": [
       "tensor([[-0.1989, -0.1975, -1.0371, -0.4360,  0.4425, -0.9348,  0.7727, -0.2210,\n",
       "         -0.3380, -0.1035]], grad_fn=<AddmmBackward>)"
      ]
     },
     "execution_count": 105,
     "metadata": {},
     "output_type": "execute_result"
    }
   ],
   "source": [
    "Y"
   ]
  },
  {
   "cell_type": "code",
   "execution_count": 106,
   "metadata": {},
   "outputs": [
    {
     "data": {
      "text/plain": [
       "tensor([0])"
      ]
     },
     "execution_count": 106,
     "metadata": {},
     "output_type": "execute_result"
    }
   ],
   "source": [
    "y"
   ]
  },
  {
   "cell_type": "markdown",
   "metadata": {},
   "source": [
    "Let's now apply cross-entropy loss to our model output **Y** and our label __y__: "
   ]
  },
  {
   "cell_type": "code",
   "execution_count": 107,
   "metadata": {},
   "outputs": [
    {
     "data": {
      "text/plain": [
       "tensor(2.4151, grad_fn=<NllLossBackward>)"
      ]
     },
     "execution_count": 107,
     "metadata": {},
     "output_type": "execute_result"
    }
   ],
   "source": [
    "E = F.cross_entropy(Y, y)\n",
    "E"
   ]
  },
  {
   "cell_type": "markdown",
   "metadata": {},
   "source": [
    "And finally, let's update our weights and biases:"
   ]
  },
  {
   "cell_type": "code",
   "execution_count": 108,
   "metadata": {},
   "outputs": [],
   "source": [
    "E.backward()"
   ]
  },
  {
   "cell_type": "markdown",
   "metadata": {},
   "source": [
    "We can loop over the **parameters** method of our **net** instance and print **param.data** to view our updated weights and biases:"
   ]
  },
  {
   "cell_type": "code",
   "execution_count": 109,
   "metadata": {},
   "outputs": [
    {
     "name": "stdout",
     "output_type": "stream",
     "text": [
      "tensor([[-0.1052,  0.0340,  0.1929,  0.1192,  0.0366,  0.1331,  0.1856,  0.1043,\n",
      "         -0.0272,  0.0219, -0.0825, -0.1591,  0.0448,  0.1333, -0.1520, -0.1559,\n",
      "         -0.1844,  0.0597, -0.1468, -0.1740,  0.0111, -0.0203, -0.1116, -0.1550,\n",
      "          0.0894],\n",
      "        [ 0.0851,  0.0192,  0.0460, -0.0129,  0.1088, -0.0316, -0.0332, -0.0686,\n",
      "          0.1717, -0.0994,  0.1389,  0.0543, -0.0445,  0.0266, -0.1635, -0.0592,\n",
      "         -0.0364,  0.1967,  0.1799, -0.1273,  0.0477,  0.1396, -0.0599, -0.0994,\n",
      "          0.1555],\n",
      "        [-0.1086,  0.0455, -0.0836, -0.0403,  0.0881, -0.0655,  0.0113, -0.0503,\n",
      "         -0.1492, -0.1440, -0.1581,  0.1543,  0.0303, -0.1917, -0.1606, -0.1388,\n",
      "         -0.0675, -0.1702,  0.1115, -0.1311, -0.0372,  0.0334, -0.1511,  0.1138,\n",
      "         -0.0513],\n",
      "        [ 0.0556,  0.0102, -0.1451, -0.0829, -0.0153, -0.1316, -0.1943, -0.0123,\n",
      "         -0.1096, -0.1966, -0.0063,  0.1679, -0.0720,  0.0521,  0.1108, -0.0243,\n",
      "          0.0019, -0.1688,  0.1405,  0.0695, -0.0307, -0.1238,  0.1207, -0.0473,\n",
      "         -0.1347],\n",
      "        [ 0.0965, -0.0490, -0.0930,  0.1395, -0.0626,  0.1491, -0.1314, -0.0619,\n",
      "         -0.1062,  0.1169, -0.1632,  0.1268,  0.1115, -0.0062,  0.1034,  0.1778,\n",
      "         -0.1383, -0.0720, -0.0826,  0.0183,  0.0247,  0.0022,  0.1838, -0.0401,\n",
      "         -0.1211],\n",
      "        [ 0.0818, -0.1153, -0.1263,  0.1263,  0.1134, -0.1538,  0.1984, -0.1459,\n",
      "         -0.1169, -0.0547, -0.1805,  0.0508, -0.0356,  0.1179, -0.0912, -0.1524,\n",
      "          0.1025, -0.0560, -0.1245,  0.1137, -0.0825,  0.1861, -0.1684, -0.1617,\n",
      "         -0.1431],\n",
      "        [ 0.0575,  0.0188,  0.1841, -0.1594, -0.0249,  0.1886,  0.1637, -0.1033,\n",
      "          0.1780,  0.1742,  0.1107, -0.0640, -0.0707, -0.0666,  0.1188,  0.0155,\n",
      "         -0.1355,  0.1096,  0.0575,  0.1895, -0.1127, -0.1779,  0.0751,  0.1170,\n",
      "         -0.0755],\n",
      "        [ 0.1113, -0.1591, -0.0521, -0.0471, -0.0584,  0.0871, -0.0034,  0.1655,\n",
      "          0.1841, -0.1216, -0.0728,  0.0821,  0.0770,  0.0499,  0.1981, -0.0435,\n",
      "          0.1954, -0.1712, -0.1163,  0.1584,  0.1692, -0.0962, -0.1253,  0.0075,\n",
      "         -0.0126],\n",
      "        [-0.0988, -0.1542,  0.0890,  0.1859, -0.1666, -0.1258,  0.0077, -0.0841,\n",
      "         -0.0727, -0.1245,  0.1630,  0.0949, -0.0699,  0.0292, -0.0500,  0.1910,\n",
      "          0.1643, -0.0731,  0.0670, -0.1924, -0.0945, -0.0523,  0.0645, -0.1385,\n",
      "          0.0792],\n",
      "        [-0.1118, -0.1813,  0.0020, -0.0863, -0.0694,  0.0703, -0.1246, -0.1299,\n",
      "          0.1163, -0.0296,  0.1131, -0.0427, -0.0530,  0.0100,  0.0626,  0.1527,\n",
      "          0.1666, -0.1442,  0.0945, -0.1232,  0.1702, -0.1945,  0.1290, -0.0432,\n",
      "          0.0331]])\n",
      "tensor([ 0.1512,  0.1120, -0.1568,  0.0106, -0.1033, -0.1567, -0.0823,  0.0457,\n",
      "        -0.1937,  0.0250])\n"
     ]
    }
   ],
   "source": [
    "for param in net.parameters(): print(param.data)"
   ]
  },
  {
   "cell_type": "markdown",
   "metadata": {},
   "source": [
    "Wow, we've done a lot already, and we haven't even passed more than TWO points of data through our (absurdly simple) network. However, before we move on to lots of observations with real image data(!!!!) we're going to introduce a few more operations that we'll perform on our data to obtain more accurate classification results with greater computational efficiency.\n",
    "\n",
    "Let's think about how we're approaching the problem of image classification. Right now we're assuming that the way to go is to treat each pixel as an input, and to learn each connection between pixel and output class. Since we're dealing with a ridiculously small \"image\" (25 1-bit pixels), we don't have to learn too many parameters: 10x25 weights + 10 biases = 250 + 10 = 260 parameters.\n",
    "\n",
    "Now if we're dealing with a \"standard\" RGB image, we have to ingest a ton more pixels: 256 x 256 x 3 = 196,608 8-bit pixels in our input layer, each taking a value between 0 and 255 (and this is a \"small\" datum compared to a video or a genome, among other data). Even if we just apply a single matrix multiplication and addition to transform our data from a vector of length 196,608 to a vector of length 10, we still need to learn 196,608 x 10 weights + 10 biases = 1,966,090 parameters. That's a lot of parameters for a single linear transformation! Especially since it's completely insufficient for image classification. No wonder no one used neural networks for so long...\n",
    "\n",
    "This brings us to our second issue: a \"vanilla\" matrix multiplication and addition isn't the best way to extract information from an image, whether it be for the purposes of classification, object detection (drawing bounding boxes around objects of interest in an image), or semantic segmentation (coloring the pixels of objects of interest in an image).\n",
    "\n",
    "It turns out we can solve both of these issues with an operation called a **convolution**. We'll use our sample 5x5 \"zero array\" of one-bit pixels to demonstrate how this works:"
   ]
  },
  {
   "cell_type": "code",
   "execution_count": 110,
   "metadata": {},
   "outputs": [
    {
     "data": {
      "text/plain": [
       "array([[0, 1, 1, 1, 0],\n",
       "       [1, 0, 0, 0, 1],\n",
       "       [1, 0, 0, 0, 1],\n",
       "       [1, 0, 0, 0, 1],\n",
       "       [0, 1, 1, 1, 0]])"
      ]
     },
     "execution_count": 110,
     "metadata": {},
     "output_type": "execute_result"
    }
   ],
   "source": [
    "a_zero_array"
   ]
  },
  {
   "cell_type": "markdown",
   "metadata": {},
   "source": [
    "Recall that we want to learn a set of weights and biases that'll connect our input pixels with our output. The output is a one-hot encoded vector corresponding to the \"zero\" label:"
   ]
  },
  {
   "cell_type": "code",
   "execution_count": 111,
   "metadata": {},
   "outputs": [
    {
     "data": {
      "text/plain": [
       "array([1, 0, 0, 0, 0, 0, 0, 0, 0, 0])"
      ]
     },
     "execution_count": 111,
     "metadata": {},
     "output_type": "execute_result"
    }
   ],
   "source": [
    "numpy_zero_encoding"
   ]
  },
  {
   "cell_type": "markdown",
   "metadata": {},
   "source": [
    "Our weights and biases are learned (respectively) from a randomly-initialized 10x25 matrix and 10x1 vector:"
   ]
  },
  {
   "cell_type": "code",
   "execution_count": 112,
   "metadata": {},
   "outputs": [
    {
     "data": {
      "text/plain": [
       "tensor([[-1.3903, -0.6796, -2.4157, -1.2723,  1.7471,  0.7175,  2.3130, -0.1700,\n",
       "         -1.9526, -0.8426,  1.3254, -0.2998,  0.4883, -0.5919,  0.8243, -0.4103,\n",
       "         -0.9805, -0.8046, -0.6094,  1.5053, -0.8765,  0.0547,  0.2026,  1.0696,\n",
       "          1.6348],\n",
       "        [-0.5452,  0.3376, -0.7189,  1.1540, -0.0566, -0.5955, -1.3257,  0.2473,\n",
       "          0.5634, -0.8262,  0.7447, -0.9525,  1.5944, -0.8206, -1.1494,  0.6296,\n",
       "          0.1526,  0.0753,  2.7486,  1.1408, -0.6293,  0.7142, -1.3760, -0.2710,\n",
       "         -0.2594],\n",
       "        [-0.9239, -0.1817, -1.3678,  0.0260,  0.1842, -0.7128,  1.1728,  0.6434,\n",
       "         -0.4269, -0.1612, -1.4616,  0.1687,  0.8087,  1.7602,  1.7681, -0.2952,\n",
       "         -1.1399,  1.8924, -1.4791,  0.8446,  1.2179,  1.1281,  2.4295, -0.3161,\n",
       "          0.7522],\n",
       "        [-0.1024, -0.7344, -1.1862, -0.0510, -1.7027,  0.7821,  0.4882,  1.5052,\n",
       "          1.1138,  0.5781,  0.2602, -0.9316, -0.6233,  0.0535, -1.5679, -0.4758,\n",
       "          0.8934,  1.2310, -1.2436, -0.0880,  0.4825, -0.3220, -1.5079, -2.8725,\n",
       "          0.0557],\n",
       "        [-0.2251,  1.2393,  0.1844,  0.3594, -1.8100, -0.3136, -0.1866, -1.2646,\n",
       "         -0.7152,  1.0510,  0.0190, -0.0313, -0.8250,  1.2256, -0.0485, -0.5109,\n",
       "          0.6046,  0.4115, -0.4444, -1.7151, -0.7948,  0.5165, -1.8935, -0.3050,\n",
       "          0.2677],\n",
       "        [ 0.3473,  0.8598, -0.2272, -0.1891,  0.8750, -0.6445,  0.4786, -0.4815,\n",
       "         -2.1261, -0.7051, -1.0236, -0.2178,  0.7513, -0.0066,  0.0782, -0.1158,\n",
       "         -1.0838, -1.5580,  0.5837, -0.2434, -0.7209,  0.2567,  1.2019, -1.0184,\n",
       "          1.7248],\n",
       "        [ 1.9700, -0.5197, -0.4628, -0.9301,  1.3772, -1.2897, -0.8539, -0.9418,\n",
       "         -0.3143, -0.4237,  0.0672,  1.4959, -1.8200,  2.0175, -0.0455, -0.9860,\n",
       "          0.4913,  1.5388,  1.0338,  1.4008,  0.9926,  0.1112, -0.2418,  0.2533,\n",
       "         -0.6363],\n",
       "        [-0.3432,  1.0335,  0.7074, -0.7809,  1.1991, -0.1840,  0.4547, -0.0685,\n",
       "         -0.6315,  0.2963, -0.5406, -2.0165,  1.6052, -1.3704, -0.3815,  1.8256,\n",
       "         -0.2669, -0.8854, -0.7827,  0.3550,  0.3358,  0.6223, -0.4839,  0.8249,\n",
       "         -0.3841],\n",
       "        [-2.6804, -0.8380,  0.9476, -0.5938,  0.2016,  0.5711, -0.5710,  1.3783,\n",
       "          0.9600, -0.9897, -1.3398,  1.1595,  0.8093, -0.8167, -1.3333,  0.8354,\n",
       "          0.2554, -1.7978, -2.0768,  0.2668, -0.4167,  2.3416, -0.0132, -1.4772,\n",
       "          0.5047],\n",
       "        [-1.8677, -0.7350, -0.0851, -1.9203, -1.1075,  0.0390, -0.7216, -1.2537,\n",
       "         -0.7216,  0.8120, -0.8884,  1.4610,  1.1015, -1.5707,  0.2256, -0.5794,\n",
       "         -0.3716, -1.4816, -1.0937,  1.9113, -0.2629,  0.0294, -0.6867,  1.7880,\n",
       "         -1.2612]], dtype=torch.float64, requires_grad=True)"
      ]
     },
     "execution_count": 112,
     "metadata": {},
     "output_type": "execute_result"
    }
   ],
   "source": [
    "W"
   ]
  },
  {
   "cell_type": "code",
   "execution_count": 113,
   "metadata": {},
   "outputs": [
    {
     "data": {
      "text/plain": [
       "tensor([[ 0.7434],\n",
       "        [ 2.2441],\n",
       "        [ 0.1945],\n",
       "        [ 0.2300],\n",
       "        [-0.6950],\n",
       "        [ 0.8867],\n",
       "        [-0.9328],\n",
       "        [-0.5355],\n",
       "        [-0.7184],\n",
       "        [ 1.4789]], dtype=torch.float64, requires_grad=True)"
      ]
     },
     "execution_count": 113,
     "metadata": {},
     "output_type": "execute_result"
    }
   ],
   "source": [
    "b"
   ]
  },
  {
   "cell_type": "markdown",
   "metadata": {},
   "source": [
    "The assumption here is that each class is best learned (in terms of accuracy and computational efficiency) by summing up weighted values associated with each pixel for that class. Is this really optimal? An alternative is to use a **convolutional neural network** that learns sets of shared weights called **filters**, **kernels**, or **receptive fields** (do we really need four names for the same thing?) These shared weights take a particular **shape** (typically square or more generally rectangular). Let's start with the example of the smallest possible (1x1) filter. First we need to decide how many filters to learn. We call this our output or **volume**. Let's stick with volume since output can refer to other things. What if we only learned one filter? Let's randomly initialize our filter. We'll initialize it as an array even though it's just a single value. We'll stick with $w$ to denote our weight:"
   ]
  },
  {
   "cell_type": "code",
   "execution_count": 114,
   "metadata": {},
   "outputs": [
    {
     "data": {
      "text/plain": [
       "array([0.58121898])"
      ]
     },
     "execution_count": 114,
     "metadata": {},
     "output_type": "execute_result"
    }
   ],
   "source": [
    "w = np.random.randn(1)\n",
    "w"
   ]
  },
  {
   "cell_type": "markdown",
   "metadata": {},
   "source": [
    "Now we need to **stride** the filter across our \"image.\" At each point, we take the dot product of our (1x1) filter and the corresponding array of pixels of the same size (also 1x1). Let's start with a stride of 1! Our single volume $V$ is the (25x1) output of a for loop over the pixel vector. We can define a function that takes an input pixel vector $X$, randomly initializes a 1x1 filter, strides the filter one pixel at a time across the image, and outputs a volume $V$:"
   ]
  },
  {
   "cell_type": "code",
   "execution_count": 115,
   "metadata": {},
   "outputs": [],
   "source": [
    "def conv_1x1_stride1(X):\n",
    "    w = np.random.randn(1)\n",
    "    return X[0:len(X)]*w"
   ]
  },
  {
   "cell_type": "markdown",
   "metadata": {},
   "source": [
    "Now let's pass our specific input vector **a_zero_vector** to the function and store the result as $V$:"
   ]
  },
  {
   "cell_type": "code",
   "execution_count": 116,
   "metadata": {},
   "outputs": [
    {
     "data": {
      "text/plain": [
       "array([-0.        , -1.06440134, -1.06440134, -1.06440134, -0.        ,\n",
       "       -1.06440134, -0.        , -0.        , -0.        , -1.06440134,\n",
       "       -1.06440134, -0.        , -0.        , -0.        , -1.06440134,\n",
       "       -1.06440134, -0.        , -0.        , -0.        , -1.06440134,\n",
       "       -0.        , -1.06440134, -1.06440134, -1.06440134, -0.        ])"
      ]
     },
     "execution_count": 116,
     "metadata": {},
     "output_type": "execute_result"
    }
   ],
   "source": [
    "V = conv_1x1_stride1(X=a_zero_vector)\n",
    "V"
   ]
  },
  {
   "cell_type": "markdown",
   "metadata": {},
   "source": [
    "How would we change the function for a stride of 2? We can just add a second colon and \"2\" to tell Python (NumPy?) to select every other entry beginning with index 0 (0, 2, 4, etc.):"
   ]
  },
  {
   "cell_type": "code",
   "execution_count": 117,
   "metadata": {},
   "outputs": [],
   "source": [
    "def conv_1x1_stride2(X):\n",
    "    w = np.random.randn(1)\n",
    "    return X[0:len(X):2]*w"
   ]
  },
  {
   "cell_type": "code",
   "execution_count": 118,
   "metadata": {},
   "outputs": [
    {
     "data": {
      "text/plain": [
       "array([0.        , 1.29070474, 0.        , 0.        , 0.        ,\n",
       "       1.29070474, 0.        , 1.29070474, 0.        , 0.        ,\n",
       "       0.        , 1.29070474, 0.        ])"
      ]
     },
     "execution_count": 118,
     "metadata": {},
     "output_type": "execute_result"
    }
   ],
   "source": [
    "conv_1x1_stride2(X=a_zero_vector)"
   ]
  },
  {
   "cell_type": "markdown",
   "metadata": {},
   "source": [
    "Generalizing to a stride $s$ is as simple as indexing the array by every **s**th entry. Of course we can't stride the kernel by zero or a negative value:"
   ]
  },
  {
   "cell_type": "code",
   "execution_count": 119,
   "metadata": {},
   "outputs": [],
   "source": [
    "def conv_1x1(X, s):\n",
    "    if s > 0:\n",
    "        w = np.random.randn(1)\n",
    "        return X[0:len(X):s]*w\n",
    "    return \"you can't do that\""
   ]
  },
  {
   "cell_type": "code",
   "execution_count": 120,
   "metadata": {},
   "outputs": [
    {
     "data": {
      "text/plain": [
       "array([0.        , 0.15376901, 0.15376901, 0.15376901, 0.        ])"
      ]
     },
     "execution_count": 120,
     "metadata": {},
     "output_type": "execute_result"
    }
   ],
   "source": [
    "conv_1x1(X=a_zero_vector, s=5)"
   ]
  },
  {
   "cell_type": "markdown",
   "metadata": {},
   "source": [
    "We can also learn multiple volumes by generating a two-dimensional weight matrix $W$. The first dimension is the kernel size (in this case just 1), and the second dimension is our number of output volumes $K$, which we loop over to generate multiple outputs. I stored the result as a list of arrays; don't know if that's kosher."
   ]
  },
  {
   "cell_type": "code",
   "execution_count": 121,
   "metadata": {},
   "outputs": [],
   "source": [
    "def conv_1x1(X, s, k):\n",
    "    V = []\n",
    "    if s > 0:\n",
    "        W = np.random.randn(1,k)\n",
    "        [V.append(X[0:len(X):s]*W[0][i]) for i in range(k)]\n",
    "        return V\n",
    "    return \"you can't do that\""
   ]
  },
  {
   "cell_type": "code",
   "execution_count": 122,
   "metadata": {},
   "outputs": [
    {
     "data": {
      "text/plain": [
       "[array([0.        , 0.98806101, 0.98806101, 0.98806101, 0.        ]),\n",
       " array([0.        , 0.36338326, 0.36338326, 0.36338326, 0.        ]),\n",
       " array([0.        , 1.91527939, 1.91527939, 1.91527939, 0.        ]),\n",
       " array([0.       , 0.4125248, 0.4125248, 0.4125248, 0.       ])]"
      ]
     },
     "execution_count": 122,
     "metadata": {},
     "output_type": "execute_result"
    }
   ],
   "source": [
    "conv_1x1(X=a_zero_vector, s=5, k=4)"
   ]
  },
  {
   "cell_type": "markdown",
   "metadata": {},
   "source": [
    "How might we define a 2x2 convolution? We first need to initialize a filter with random values. We'll call this weight matrix $W$:"
   ]
  },
  {
   "cell_type": "code",
   "execution_count": 123,
   "metadata": {},
   "outputs": [
    {
     "data": {
      "text/plain": [
       "array([[-0.23887352,  2.17587707],\n",
       "       [-0.12903503, -0.89955081]])"
      ]
     },
     "execution_count": 123,
     "metadata": {},
     "output_type": "execute_result"
    }
   ],
   "source": [
    "W = np.random.randn(2,2)\n",
    "W"
   ]
  },
  {
   "cell_type": "markdown",
   "metadata": {},
   "source": [
    "Now we need to define the region over which we'll stride. Let's view the \"image\" as a 5x5 array:"
   ]
  },
  {
   "cell_type": "code",
   "execution_count": 124,
   "metadata": {},
   "outputs": [
    {
     "data": {
      "text/plain": [
       "array([[0, 1, 1, 1, 0],\n",
       "       [1, 0, 0, 0, 1],\n",
       "       [1, 0, 0, 0, 1],\n",
       "       [1, 0, 0, 0, 1],\n",
       "       [0, 1, 1, 1, 0]])"
      ]
     },
     "execution_count": 124,
     "metadata": {},
     "output_type": "execute_result"
    }
   ],
   "source": [
    "X = a_zero_array\n",
    "X"
   ]
  },
  {
   "cell_type": "code",
   "execution_count": 125,
   "metadata": {},
   "outputs": [
    {
     "data": {
      "text/plain": [
       "1"
      ]
     },
     "execution_count": 125,
     "metadata": {},
     "output_type": "execute_result"
    }
   ],
   "source": [
    "a_zero_array[0][1]"
   ]
  },
  {
   "cell_type": "markdown",
   "metadata": {},
   "source": [
    "The convolution is first applied to indices (0,0),(0,1),(1,0),(1,1). We then stride horizontally by $s$ steps. Let's start with a stride of one $(s=1)$ and a volume of one. We'll add 1 to each $y$, yielding indices (0,1),(0,2),(1,1),(1,2).\n",
    "\n",
    "Note that $x$ is the vertical index (from the top) and $y$ is the horizontal index (also from the top). This is kinda weird from a Cartesian perspective but makes sense in terms of how we define NumPy arrays.\n",
    "\n",
    "What are the dimensions of our volume matrix? \n",
    "\n",
    "Our width, $W_{2}$ is $(W_{1}-F+2P)/S) + 1$\n",
    "\n",
    "Our height, $H_{2}$ is $(H_{1}-F+2P)/S) + 1$\n",
    "\n",
    "and our depth, $D_{2}$ is $K$\n",
    "\n",
    "where $W_{1}$ and $H_{1}$ are the respective width and height of the input \"image.\" In this particular case, $W_{1} = H_{1} = 5$\n",
    "\n",
    "$F$ is the width and height of our filter(s). Here we assume that our filter(s) are square. $S$ is our stride. For our example, $F=2$ and $S=1$\n",
    "\n",
    "$D$ is the number of filters in our output volume, $V$. This is explicitly defined as a parameter (we're not going to do this in our first example (where $D=1$) but we will need to account for this in our generic convolution function).\n",
    "\n",
    "$P$ is something called **zero padding**. This adds $P$ layers of zeros to the border of our input image. Padding is useful when we want to use all the information provided by the image but the image and kernel size don't neatly align. For instance, we might want to use a 3x3 kernel on our 5x5 image with a stride of 3, but we would be unable to compute the dot product on the fourth and fifth rows or columns without striding across the border of the image. However, with one layer of zero padding we can now compute the first dot product on a row and column of zeros, plus the entries corresponding to the first and second row and column. Our second dot product will now use the top row of padding in addition to the intersection of the top two rows and rightmost three columns. We then use the zero padding for the first column of our third dot product. The fourth dot product is computed on the bottom 3x3 of the image (without padding). We're not going to use padding in our first example, but we want to make sure to include it when we build our more general function.\n",
    "\n",
    "Source: http://cs231n.github.io/convolutional-networks/\n",
    "\n",
    "So for our volume matrix of size $(W_{2},H_{2})$ (an instance of a volume tensor of size $(W_{2},H_{2},K_{2})$),\n",
    "\n",
    "$W_{2} = (W_{1}-F+2P)/S) + 1 = (5 - 2 + 2(0))/1 + 1 = 3/1 + 1 = 4$\n",
    "\n",
    "$H_{2} = (H_{1}-F+2P)/S) + 1 = (5 - 2 + 2(0))/1 + 1 = 3/1 + 1 = 4$"
   ]
  },
  {
   "cell_type": "markdown",
   "metadata": {},
   "source": [
    "Let's do our first convolution. We can do this by indexing the top 2x2 slice of X and multiplying by W. Interestingly, this produces the elementwise product of two matrices, whereas **numpy.dot** is equivalent to **numpy.matmul** for matrices. Weird, huh:"
   ]
  },
  {
   "cell_type": "code",
   "execution_count": 126,
   "metadata": {},
   "outputs": [
    {
     "data": {
      "text/plain": [
       "array([[-0.        ,  2.17587707],\n",
       "       [-0.12903503, -0.        ]])"
      ]
     },
     "execution_count": 126,
     "metadata": {},
     "output_type": "execute_result"
    }
   ],
   "source": [
    "W*X[0:2,0:2]"
   ]
  },
  {
   "cell_type": "markdown",
   "metadata": {},
   "source": [
    "**sum** sums up over each of the columns:"
   ]
  },
  {
   "cell_type": "code",
   "execution_count": 127,
   "metadata": {},
   "outputs": [
    {
     "data": {
      "text/plain": [
       "array([-0.12903503,  2.17587707])"
      ]
     },
     "execution_count": 127,
     "metadata": {},
     "output_type": "execute_result"
    }
   ],
   "source": [
    "sum(W*X[0:2,0:2])"
   ]
  },
  {
   "cell_type": "markdown",
   "metadata": {},
   "source": [
    "If we do another **sum**, we get the desired output of our convolution. Sum of elementwise product, dot product, or both? I'm not sure. I got my PhD in political science."
   ]
  },
  {
   "cell_type": "code",
   "execution_count": 128,
   "metadata": {},
   "outputs": [
    {
     "data": {
      "text/plain": [
       "2.0468420372669924"
      ]
     },
     "execution_count": 128,
     "metadata": {},
     "output_type": "execute_result"
    }
   ],
   "source": [
    "sum(sum(W*X[0:2,0:2]))"
   ]
  },
  {
   "cell_type": "markdown",
   "metadata": {},
   "source": [
    "Now we need to stride this thing. What's our next slice of the \"image\"? We just add one to the \"second\" dimension of our slice:"
   ]
  },
  {
   "cell_type": "code",
   "execution_count": 129,
   "metadata": {},
   "outputs": [
    {
     "data": {
      "text/plain": [
       "array([[1, 1],\n",
       "       [0, 0]])"
      ]
     },
     "execution_count": 129,
     "metadata": {},
     "output_type": "execute_result"
    }
   ],
   "source": [
    "X[0:2,0+1:2+1]"
   ]
  },
  {
   "cell_type": "markdown",
   "metadata": {},
   "source": [
    "We'll continue to do this until we stride horizontally across the entire array. Then we'll stride vertically until we do the same in both dimensions. We can start again with a blank output list $V$. As we stride, we append our \"dot product\" (or whatever it is) to $V$:"
   ]
  },
  {
   "cell_type": "code",
   "execution_count": 130,
   "metadata": {},
   "outputs": [
    {
     "name": "stdout",
     "output_type": "stream",
     "text": [
      "[2.0468420372669924]\n",
      "[2.0468420372669924, 1.9370035419595601]\n",
      "[2.0468420372669924, 1.9370035419595601, 1.9370035419595601]\n"
     ]
    }
   ],
   "source": [
    "V=[]\n",
    "V.append(sum(sum(W*X[0:2,0:2])))\n",
    "print(V)\n",
    "V.append(sum(sum(W*X[0:2,0+1:2+1])))\n",
    "print(V)\n",
    "V.append(sum(sum(W*X[0:2,0+1+1:2+1+1])))\n",
    "print(V)"
   ]
  },
  {
   "cell_type": "markdown",
   "metadata": {},
   "source": [
    "Ok, I think I get what's going on:"
   ]
  },
  {
   "cell_type": "code",
   "execution_count": 131,
   "metadata": {},
   "outputs": [
    {
     "name": "stdout",
     "output_type": "stream",
     "text": [
      "[2.0468420372669924]\n",
      "[2.0468420372669924, 1.9370035419595601]\n",
      "[2.0468420372669924, 1.9370035419595601, 1.9370035419595601]\n"
     ]
    }
   ],
   "source": [
    "V=[]\n",
    "m=0\n",
    "n=2\n",
    "V.append(sum(sum(W*X[0:2,m:n])))\n",
    "print(V)\n",
    "m+=1\n",
    "n+=1\n",
    "V.append(sum(sum(W*X[0:2,m:n])))\n",
    "print(V)\n",
    "m+=1\n",
    "n+=1\n",
    "V.append(sum(sum(W*X[0:2,m:n])))\n",
    "print(V)"
   ]
  },
  {
   "cell_type": "markdown",
   "metadata": {},
   "source": [
    "Let's turn our first horizontal stride into a for loop:"
   ]
  },
  {
   "cell_type": "code",
   "execution_count": 132,
   "metadata": {},
   "outputs": [
    {
     "name": "stdout",
     "output_type": "stream",
     "text": [
      "[2.0468420372669924, 1.9370035419595601, 1.9370035419595601, -1.1384243307573705, -1.028585835449938]\n"
     ]
    }
   ],
   "source": [
    "V=[]\n",
    "m=0\n",
    "n=2\n",
    "for i in range(5):\n",
    "    V.append(sum(sum(W*X[0:2,m:n])))\n",
    "    m+=1\n",
    "    n+=1\n",
    "print(V)"
   ]
  },
  {
   "cell_type": "markdown",
   "metadata": {},
   "source": [
    "Good stuff. Now we can stride vertically:"
   ]
  },
  {
   "cell_type": "code",
   "execution_count": 133,
   "metadata": {},
   "outputs": [
    {
     "name": "stdout",
     "output_type": "stream",
     "text": [
      "[-0.3679085514543796]\n",
      "[-0.3679085514543796, 0.0]\n",
      "[-0.3679085514543796, 0.0, 0.0]\n"
     ]
    }
   ],
   "source": [
    "V=[]\n",
    "V.append(sum(sum(W*X[1:3,0:2])))\n",
    "print(V)\n",
    "V.append(sum(sum(W*X[1:3,1:3])))\n",
    "print(V)\n",
    "V.append(sum(sum(W*X[1:3,2:4])))\n",
    "print(V)"
   ]
  },
  {
   "cell_type": "markdown",
   "metadata": {},
   "source": [
    "And so on... We're doing the same operation over again, this time starting with 1:3 instead of 0:2. Another loop?"
   ]
  },
  {
   "cell_type": "code",
   "execution_count": 134,
   "metadata": {},
   "outputs": [
    {
     "name": "stdout",
     "output_type": "stream",
     "text": [
      "[[ 2.04684204  1.93700354  1.93700354 -1.13842433 -1.02858584]\n",
      " [-0.36790855  0.          0.          1.27632626  0.90841771]\n",
      " [-0.36790855  0.          0.          1.27632626  0.90841771]\n",
      " [-1.13842433 -1.02858584 -1.02858584  2.04684204  1.93700354]\n",
      " [ 1.27632626  0.90841771  0.90841771 -0.36790855  0.        ]]\n"
     ]
    }
   ],
   "source": [
    "V=[]\n",
    "h=0\n",
    "k=2\n",
    "m=0\n",
    "n=2\n",
    "for i in range(5):\n",
    "    for j in range(5):\n",
    "        V.append(sum(sum(W*X[h:k,m:n])))\n",
    "        m+=1\n",
    "        n+=1\n",
    "    h+=1\n",
    "    k+=1\n",
    "    m=0\n",
    "    n=2\n",
    "V=np.asarray(V)\n",
    "V=V.reshape(5,5)\n",
    "print(V)"
   ]
  },
  {
   "cell_type": "markdown",
   "metadata": {},
   "source": [
    "Sweet! How about we turn this into a function?"
   ]
  },
  {
   "cell_type": "code",
   "execution_count": 135,
   "metadata": {},
   "outputs": [],
   "source": [
    "def conv_2x2(X):\n",
    "    W=np.random.randn(2,2)\n",
    "    V=[]\n",
    "    h=0\n",
    "    k=2\n",
    "    m=0\n",
    "    n=2\n",
    "    for i in range(5):\n",
    "        for j in range(5):\n",
    "            V.append(sum(sum(W*X[h:k,m:n])))\n",
    "            m+=1\n",
    "            n+=1\n",
    "        h+=1\n",
    "        k+=1\n",
    "        m=0\n",
    "        n=2\n",
    "    V=np.asarray(V)\n",
    "    V=V.reshape(5,5)\n",
    "    return V"
   ]
  },
  {
   "cell_type": "markdown",
   "metadata": {},
   "source": [
    "Let's pass our \"image\" through the function:"
   ]
  },
  {
   "cell_type": "code",
   "execution_count": 136,
   "metadata": {},
   "outputs": [
    {
     "data": {
      "text/plain": [
       "array([[ 0.6844121 ,  1.20586293,  1.20586293, -0.63082359, -1.15227442],\n",
       "       [ 0.13268082,  0.        ,  0.        , -0.07909231,  0.05358851],\n",
       "       [ 0.13268082,  0.        ,  0.        , -0.07909231,  0.05358851],\n",
       "       [-0.63082359, -1.15227442, -1.15227442,  0.6844121 ,  1.20586293],\n",
       "       [-0.07909231,  0.05358851,  0.05358851,  0.13268082,  0.        ]])"
      ]
     },
     "execution_count": 136,
     "metadata": {},
     "output_type": "execute_result"
    }
   ],
   "source": [
    "conv_2x2(X=X)"
   ]
  },
  {
   "cell_type": "markdown",
   "metadata": {},
   "source": [
    "What if we want to change the stride? That's just how much we're updating m and n in the inner loop and h and k in the outer loop. (You can also see how we might generalize to different horizontal and vertical strides, but we're not going to worry about that; no one really does that I don't think.) We'll go with a stride of 3, since that works for our 5x5 image with 2x2 filters (even though we'll lose information about the middle of our image - oh no! But then, we shouldn't be using a one-layer neural network to classify a single 5x5 array of 1-bit pixels, so no need to hand out the speeding ticket when there's a murder weapon in the trunk).\n",
    "\n",
    "Note that our horizontal and vertical ranges are simply the formulas for computing the volume of a convolution layer (or area of a single filter applied to the input image). We assume $F=2$, since we're applying a 2x2 filter; and $P=0$, since we're not applying any padding. We already know that $W_{1} = W_{2} = 5$. Thus, $i$ and $j$ loop over range $(5-2)/3 + 1 = 3/3 + 1 = 1 + 1 = 2$. We'll also need to convert the output of our division from float to integer with **int** (can't loop over a float)."
   ]
  },
  {
   "cell_type": "code",
   "execution_count": 137,
   "metadata": {},
   "outputs": [],
   "source": [
    "def conv_2x2(X,s):\n",
    "    W=np.random.randn(2,2)\n",
    "    f=int((5-2)/s)+1\n",
    "    V=[]\n",
    "    h=0\n",
    "    k=2\n",
    "    m=0\n",
    "    n=2\n",
    "    for i in range(f):\n",
    "        for j in range(f):\n",
    "            V.append(sum(sum(W*X[h:k,m:n])))\n",
    "            m+=s\n",
    "            n+=s\n",
    "        h+=s\n",
    "        k+=s\n",
    "        m=0\n",
    "        n=2\n",
    "    V=np.asarray(V)\n",
    "    V=V.reshape(f,f)\n",
    "    return V"
   ]
  },
  {
   "cell_type": "code",
   "execution_count": 138,
   "metadata": {},
   "outputs": [
    {
     "data": {
      "text/plain": [
       "array([[-0.80601396, -0.09687722],\n",
       "       [-0.09687722, -0.80601396]])"
      ]
     },
     "execution_count": 138,
     "metadata": {},
     "output_type": "execute_result"
    }
   ],
   "source": [
    "conv_2x2(X,3)"
   ]
  },
  {
   "cell_type": "markdown",
   "metadata": {},
   "source": [
    "Great! How about we add padding? There's actually a built-in function called **np.pad** that'll add zeros (by default) to an array. We can do this with **mode='constant'** and **pad_width=1** and store the result to X to update our input array (image) with zero padding of 1. We can thus set pad_width=p for generic zero padding:"
   ]
  },
  {
   "cell_type": "code",
   "execution_count": 139,
   "metadata": {},
   "outputs": [],
   "source": [
    "def conv_2x2(X,s,p):\n",
    "    X=np.pad(X, mode='constant', pad_width=p)\n",
    "    W=np.random.randn(2,2)\n",
    "    f=int((5-2+2*p)/s)+1\n",
    "    V=[]\n",
    "    h=0\n",
    "    k=2\n",
    "    m=0\n",
    "    n=2\n",
    "    for i in range(f):\n",
    "        for j in range(f):\n",
    "            V.append(sum(sum(W*X[h:k,m:n])))\n",
    "            m+=s\n",
    "            n+=s\n",
    "        h+=s\n",
    "        k+=s\n",
    "        m=0\n",
    "        n=2\n",
    "    V=np.asarray(V)\n",
    "    V=V.reshape(f,f)\n",
    "    return V"
   ]
  },
  {
   "cell_type": "markdown",
   "metadata": {},
   "source": [
    "Now let's try a 2x2 convolution with our input array $X$, stride of 1, and one \"layer\" of zero padding:"
   ]
  },
  {
   "cell_type": "code",
   "execution_count": 140,
   "metadata": {},
   "outputs": [
    {
     "data": {
      "text/plain": [
       "array([[ 0.        , -2.0166297 , -0.84565856, -0.84565856,  1.17097115,\n",
       "         0.        ],\n",
       "       [-2.0166297 ,  0.4191121 ,  0.07575712,  0.07575712, -1.18901353,\n",
       "         1.17097115],\n",
       "       [-2.76848875,  1.99858732,  0.        ,  0.        , -2.76848875,\n",
       "         1.99858732],\n",
       "       [-2.76848875,  1.99858732,  0.        ,  0.        , -2.76848875,\n",
       "         1.99858732],\n",
       "       [-0.75185905, -1.18901353, -0.84565856, -0.84565856,  0.4191121 ,\n",
       "         0.82761617],\n",
       "       [ 0.        , -0.75185905,  0.07575712,  0.07575712,  0.82761617,\n",
       "         0.        ]])"
      ]
     },
     "execution_count": 140,
     "metadata": {},
     "output_type": "execute_result"
    }
   ],
   "source": [
    "conv_2x2(X=X,s=1,p=1)"
   ]
  },
  {
   "cell_type": "markdown",
   "metadata": {},
   "source": [
    "We can also do the same thing we did with our 1x1 convolution: repeat this operation $K$ times for a volume of $K$ outputs. This means we'll need $K$ filters ${W_{1}, ... , W_{K}}$. We'll use big $K$ this time since little $k$ is being used to index our array:"
   ]
  },
  {
   "cell_type": "code",
   "execution_count": 141,
   "metadata": {},
   "outputs": [],
   "source": [
    "def conv_1x1(X, s, k):\n",
    "    V = []\n",
    "    if s > 0:\n",
    "        w = np.random.randn(1,k)\n",
    "        [V.append(X[0:len(X):s]*w[0][i]) for i in range(k)]\n",
    "        return V\n",
    "    else: \n",
    "        return \"you can't do that\""
   ]
  },
  {
   "cell_type": "code",
   "execution_count": 142,
   "metadata": {},
   "outputs": [],
   "source": [
    "W=np.random.randn(2,2,4)"
   ]
  },
  {
   "cell_type": "code",
   "execution_count": 143,
   "metadata": {},
   "outputs": [],
   "source": [
    "def conv_2x2(X,s,p,K):\n",
    "    X=np.pad(X, mode='constant', pad_width=p)\n",
    "    W=np.random.randn(K,2,2)\n",
    "    f=int((5-2+2*p)/s)+1\n",
    "    V=[]\n",
    "    h=0\n",
    "    k=2\n",
    "    m=0\n",
    "    n=2\n",
    "    for i in range(f):\n",
    "        for j in range(f):\n",
    "            [V.append(sum(sum(W[0]*X[h:k,m:n]))) for q in range(K)]\n",
    "            m+=s\n",
    "            n+=s\n",
    "        h+=s\n",
    "        k+=s\n",
    "        m=0\n",
    "        n=2\n",
    "    V=np.asarray(V)\n",
    "    V=V.reshape(K,f,f)\n",
    "    return V"
   ]
  },
  {
   "cell_type": "markdown",
   "metadata": {},
   "source": [
    "Let's try this with four outputs, $K=4$:"
   ]
  },
  {
   "cell_type": "code",
   "execution_count": 144,
   "metadata": {},
   "outputs": [
    {
     "data": {
      "text/plain": [
       "array([[[ 0.        ,  0.        ,  0.        ,  0.        ,\n",
       "         -0.68637164, -0.68637164],\n",
       "        [-0.68637164, -0.68637164, -0.85744957, -0.85744957,\n",
       "         -0.85744957, -0.85744957],\n",
       "        [-0.85744957, -0.85744957, -0.85744957, -0.85744957,\n",
       "         -0.17107792, -0.17107792],\n",
       "        [-0.17107792, -0.17107792,  0.        ,  0.        ,\n",
       "          0.        ,  0.        ],\n",
       "        [-0.68637164, -0.68637164, -0.68637164, -0.68637164,\n",
       "         -2.15561087, -2.15561087],\n",
       "        [-2.15561087, -2.15561087, -2.4652948 , -2.4652948 ,\n",
       "         -2.4652948 , -2.4652948 ]],\n",
       "\n",
       "       [[-2.4652948 , -2.4652948 , -2.4652948 , -2.4652948 ,\n",
       "         -1.1671335 , -1.1671335 ],\n",
       "        [-1.1671335 , -1.1671335 , -0.17107792, -0.17107792,\n",
       "         -0.17107792, -0.17107792],\n",
       "        [-2.67090459, -2.67090459, -2.67090459, -2.67090459,\n",
       "         -0.65183978, -0.65183978],\n",
       "        [-0.65183978, -0.65183978,  0.        ,  0.        ,\n",
       "          0.        ,  0.        ],\n",
       "        [ 0.        ,  0.        ,  0.        ,  0.        ,\n",
       "         -2.67090459, -2.67090459],\n",
       "        [-2.67090459, -2.67090459, -0.65183978, -0.65183978,\n",
       "         -0.65183978, -0.65183978]],\n",
       "\n",
       "       [[-2.67090459, -2.67090459, -2.67090459, -2.67090459,\n",
       "         -0.65183978, -0.65183978],\n",
       "        [-0.65183978, -0.65183978,  0.        ,  0.        ,\n",
       "          0.        ,  0.        ],\n",
       "        [ 0.        ,  0.        ,  0.        ,  0.        ,\n",
       "         -2.67090459, -2.67090459],\n",
       "        [-2.67090459, -2.67090459, -0.65183978, -0.65183978,\n",
       "         -0.65183978, -0.65183978],\n",
       "        [-1.98453295, -1.98453295, -1.98453295, -1.98453295,\n",
       "         -1.1671335 , -1.1671335 ],\n",
       "        [-1.1671335 , -1.1671335 , -0.85744957, -0.85744957,\n",
       "         -0.85744957, -0.85744957]],\n",
       "\n",
       "       [[-0.85744957, -0.85744957, -0.85744957, -0.85744957,\n",
       "         -2.15561087, -2.15561087],\n",
       "        [-2.15561087, -2.15561087, -0.48076186, -0.48076186,\n",
       "         -0.48076186, -0.48076186],\n",
       "        [ 0.        ,  0.        ,  0.        ,  0.        ,\n",
       "         -1.98453295, -1.98453295],\n",
       "        [-1.98453295, -1.98453295, -2.4652948 , -2.4652948 ,\n",
       "         -2.4652948 , -2.4652948 ],\n",
       "        [-2.4652948 , -2.4652948 , -2.4652948 , -2.4652948 ,\n",
       "         -0.48076186, -0.48076186],\n",
       "        [-0.48076186, -0.48076186,  0.        ,  0.        ,\n",
       "          0.        ,  0.        ]]])"
      ]
     },
     "execution_count": 144,
     "metadata": {},
     "output_type": "execute_result"
    }
   ],
   "source": [
    "conv_2x2(X,s=1,p=1,K=4)"
   ]
  },
  {
   "cell_type": "markdown",
   "metadata": {},
   "source": [
    "Last step! We want to generalize to any square convolution. We'll use $H$ to denote the height (and width, but $W$ is already our weights matrix). Furthermore, we'll replace that hard-coded 5 so that we can convolve on images of other sizes. We won't even assume they're square images!"
   ]
  },
  {
   "cell_type": "code",
   "execution_count": 145,
   "metadata": {},
   "outputs": [],
   "source": [
    "def conv_2x2(X,s,p,K):\n",
    "    X=np.pad(X, mode='constant', pad_width=p)\n",
    "    W=np.random.randn(K,2,2)\n",
    "    f=int((5-2+2*p)/s)+1\n",
    "    V=[]\n",
    "    h=0\n",
    "    k=2\n",
    "    m=0\n",
    "    n=2\n",
    "    for i in range(f):\n",
    "        for j in range(f):\n",
    "            [V.append(sum(sum(W[0]*X[h:k,m:n]))) for q in range(K)]\n",
    "            m+=s\n",
    "            n+=s\n",
    "        h+=s\n",
    "        k+=s\n",
    "        m=0\n",
    "        n=2\n",
    "    V=np.asarray(V)\n",
    "    V=V.reshape(K,f,f)\n",
    "    return V"
   ]
  },
  {
   "cell_type": "code",
   "execution_count": 146,
   "metadata": {},
   "outputs": [],
   "source": [
    "def conv_2d(X,H,s,p,K):\n",
    "    F=X.shape[1]\n",
    "    G=X.shape[0]\n",
    "    X=np.pad(X, mode='constant', pad_width=p)\n",
    "    W=np.random.randn(K,H,H)\n",
    "    f=int((F-H+2*p)/s)+1\n",
    "    g=int((G-H+2*p)/s)+1\n",
    "    V=[]\n",
    "    h=0\n",
    "    k=H\n",
    "    m=0\n",
    "    n=H\n",
    "    for i in range(g):\n",
    "        for j in range(f):\n",
    "            [V.append(sum(sum(W[0]*X[h:k,m:n]))) for q in range(K)]\n",
    "            m+=s\n",
    "            n+=s\n",
    "        h+=s\n",
    "        k+=s\n",
    "        m=0\n",
    "        n=H\n",
    "    V=np.asarray(V)\n",
    "    V=V.reshape(K,f,g)\n",
    "    return V"
   ]
  },
  {
   "cell_type": "markdown",
   "metadata": {},
   "source": [
    "I'm sure this code can be cleaner, but let's just see if it works on a random 6x8 image with 2-bit pixels. **np.random.randint** is our friend here. First we'll generate our image. We'll call it $X$ again:"
   ]
  },
  {
   "cell_type": "code",
   "execution_count": 147,
   "metadata": {},
   "outputs": [
    {
     "data": {
      "text/plain": [
       "array([[1, 3, 2, 3, 2, 2, 3, 1],\n",
       "       [1, 1, 2, 3, 3, 0, 3, 0],\n",
       "       [0, 2, 2, 2, 2, 1, 1, 2],\n",
       "       [3, 0, 1, 0, 3, 2, 2, 1],\n",
       "       [2, 2, 0, 0, 1, 1, 1, 1],\n",
       "       [1, 0, 0, 0, 2, 1, 1, 3]])"
      ]
     },
     "execution_count": 147,
     "metadata": {},
     "output_type": "execute_result"
    }
   ],
   "source": [
    "X = np.random.randint(0,4,48)\n",
    "X = X.reshape(6,8)\n",
    "X"
   ]
  },
  {
   "cell_type": "markdown",
   "metadata": {},
   "source": [
    "We'll use a 2x2 kernel with stride of 1 and padding of 1. Don't ask why we're adding padding with a stride of 1 lol. Actually, do ask: it means you get what's going on! We'll generate 4 output volumes:"
   ]
  },
  {
   "cell_type": "code",
   "execution_count": 148,
   "metadata": {},
   "outputs": [
    {
     "data": {
      "text/plain": [
       "array([[[-0.19382205, -0.19382205, -0.19382205, -0.19382205,\n",
       "          0.47011017,  0.47011017,  0.47011017],\n",
       "        [ 0.47011017,  2.76708487,  2.76708487,  2.76708487,\n",
       "          2.76708487,  1.52168649,  1.52168649],\n",
       "        [ 1.52168649,  1.52168649,  2.76708487,  2.76708487,\n",
       "          2.76708487,  2.76708487,  1.71550855],\n",
       "        [ 1.71550855,  1.71550855,  1.71550855,  1.52168649,\n",
       "          1.52168649,  1.52168649,  1.52168649],\n",
       "        [ 2.96090693,  2.96090693,  2.96090693,  2.96090693,\n",
       "          1.05157633,  1.05157633,  1.05157633],\n",
       "        [ 1.05157633, -1.52215599, -1.52215599, -1.52215599,\n",
       "         -1.52215599, -4.37270499, -4.37270499],\n",
       "        [-4.37270499, -4.37270499, -5.72910801, -5.72910801,\n",
       "         -5.72910801, -5.72910801, -4.95423022],\n",
       "        [-4.95423022, -4.95423022, -4.95423022, -3.81977741,\n",
       "         -3.81977741, -3.81977741, -3.81977741],\n",
       "        [-1.9928538 , -1.9928538 , -1.9928538 , -1.9928538 ,\n",
       "         -7.05738288, -7.05738288, -7.05738288]],\n",
       "\n",
       "       [[-7.05738288, -1.90997731, -1.90997731, -1.90997731,\n",
       "         -1.90997731, -1.24545745, -1.24545745],\n",
       "        [-1.24545745, -1.24545745, -1.32833394, -1.32833394,\n",
       "         -1.32833394, -1.32833394, -2.9614355 ],\n",
       "        [-2.9614355 , -2.9614355 , -2.9614355 , -2.18661678,\n",
       "         -2.18661678, -2.18661678, -2.18661678],\n",
       "        [-4.76040817, -4.76040817, -4.76040817, -4.76040817,\n",
       "         -6.00586562, -6.00586562, -6.00586562],\n",
       "        [-6.00586562, -1.82704175, -1.82704175, -1.82704175,\n",
       "         -1.82704175, -3.12724754, -3.12724754],\n",
       "        [-3.12724754, -3.12724754, -3.07244013, -3.07244013,\n",
       "         -3.07244013, -3.07244013,  2.10315265],\n",
       "        [ 2.10315265,  2.10315265,  2.10315265, -0.58146616,\n",
       "         -0.58146616, -0.58146616, -0.58146616],\n",
       "        [ 0.4980611 ,  0.4980611 ,  0.4980611 ,  0.4980611 ,\n",
       "         -5.34140483, -5.34140483, -5.34140483],\n",
       "        [-5.34140483, -4.09600645, -4.09600645, -4.09600645,\n",
       "         -4.09600645, -5.72904894, -5.72904894]],\n",
       "\n",
       "       [[-5.72904894, -5.72904894, -1.05216397, -1.05216397,\n",
       "         -1.05216397, -1.05216397, -0.85828284],\n",
       "        [-0.85828284, -0.85828284, -0.85828284, -1.99279473,\n",
       "         -1.99279473, -1.99279473, -1.99279473],\n",
       "        [-1.43933857, -1.43933857, -1.43933857, -1.43933857,\n",
       "         -4.37264592, -4.37264592, -4.37264592],\n",
       "        [-4.37264592, -2.02086381, -2.02086381, -2.02086381,\n",
       "         -2.02086381,  0.77481872,  0.77481872],\n",
       "        [ 0.77481872,  0.77481872, -1.24545745, -1.24545745,\n",
       "         -1.24545745, -1.24545745, -4.17882387],\n",
       "        [-4.17882387, -4.17882387, -4.17882387, -5.53528596,\n",
       "         -5.53528596, -5.53528596, -5.53528596],\n",
       "        [-4.28982851, -4.28982851, -4.28982851, -4.28982851,\n",
       "         -2.96149457, -2.96149457, -2.96149457],\n",
       "        [-2.96149457, -0.19388112, -0.19388112, -0.19388112,\n",
       "         -0.19388112, -2.85048993, -2.85048993],\n",
       "        [-2.85048993, -2.85048993, -4.09600645, -4.09600645,\n",
       "         -4.09600645, -4.09600645, -2.4909149 ]],\n",
       "\n",
       "       [[-2.4909149 , -2.4909149 , -2.4909149 ,  0.        ,\n",
       "          0.        ,  0.        ,  0.        ],\n",
       "        [-1.71597805, -1.71597805, -1.71597805, -1.71597805,\n",
       "         -0.66446079, -0.66446079, -0.66446079],\n",
       "        [-0.66446079, -1.71603712, -1.71603712, -1.71603712,\n",
       "         -1.71603712, -2.10368122, -2.10368122],\n",
       "        [-2.10368122, -2.10368122,  1.90927153,  1.90927153,\n",
       "          1.90927153,  1.90927153, -1.32833394],\n",
       "        [-1.32833394, -1.32833394, -1.32833394, -1.24545745,\n",
       "         -1.24545745, -1.24545745, -1.24545745],\n",
       "        [ 0.        ,  0.        ,  0.        ,  0.        ,\n",
       "          0.        ,  0.        ,  0.        ],\n",
       "        [ 0.        , -2.65666788, -2.65666788, -2.65666788,\n",
       "         -2.65666788, -3.81924884, -3.81924884],\n",
       "        [-3.81924884, -3.81924884, -2.57379139, -2.57379139,\n",
       "         -2.57379139, -2.57379139, -5.23045927],\n",
       "        [-5.23045927, -5.23045927, -5.23045927, -3.73637235,\n",
       "         -3.73637235, -3.73637235, -3.73637235]]])"
      ]
     },
     "execution_count": 148,
     "metadata": {},
     "output_type": "execute_result"
    }
   ],
   "source": [
    "conv_2d(X=X,H=2,s=1,p=1,K=4)"
   ]
  },
  {
   "cell_type": "markdown",
   "metadata": {},
   "source": [
    "Yes! We got something that resembles a convolution. Now let's go back to our 5x5 1-bit image example. Suppose we were to classify our image by applying a 2x2 convolution with stride of 1 and zero padding (zero zero padding?) Remember padding doesn't make too much sense with a stride of 1. We'll always apply our convolution to every pixel with a stride of 1. Let's also learn eight sets of shared weights (that's our \"output\" or \"volume\"). How many parameters do we learn?\n",
    "\n",
    "Let's see. It's 2x2=4 parameters for each filter/kernel/weight matrix, and we're going to learn 8 of those. So 2x2x8=32 parameters. That's not that many compared to what we had before (10x25+10=250+10=260 parameters for a 10x25 weight matrix and a bias vector of length 10). We could optionally add a bias to our convolutional layer (I'll leave this as an exercise for the reader. It's not too hard!) On the other hand, we've done a bit more work to compute our output for each filter, since we've had to stride the kernel across the entire array of pixels. \n",
    "\n",
    "But we can't possibly be done. We still need to output a probability vector, or at the very least some vector of length 10. We could simply use a fully-connected layer, or linear transformation to do this: flatten the output of our convolutional layer into a vector of length 32, multiply a 10x32 matrix by the vector, and we'll have our output vector of length 10! Pass that through a softmax and we're good to go (still need to backprop, but that's just calculus).\n",
    "\n",
    "However, there's another thing that the geniuses behind deep learning came up with, and it's called **\"max pooling\"**. How this works is you just take the maximum value for a specified area (receptive field) of each volume produced by a particular dot product of kernel and input, and then stride over the volume. As you stride horizontally, you output the maximum value into the first row of a new **downsampled** matrix. Once you reach the end of the input **feature map** (the output volumes of our convolutional layer are input feature maps to our pooling layer), you then stride vertically. Just like you're doing a convolution! I think this will make a lot more sense with an example.\n",
    "\n",
    "Let's take our 5x5 \"zero array\" image and apply our 2x2 convolution with stride 1 and output 4: "
   ]
  },
  {
   "cell_type": "code",
   "execution_count": 149,
   "metadata": {},
   "outputs": [
    {
     "data": {
      "text/plain": [
       "array([[[ 0.07867873,  0.07867873,  0.07867873,  0.07867873],\n",
       "        [-1.78995218, -1.78995218, -1.78995218, -1.78995218],\n",
       "        [-1.78995218, -1.78995218, -1.78995218, -1.78995218],\n",
       "        [-2.4322784 , -2.4322784 , -2.4322784 , -2.4322784 ]],\n",
       "\n",
       "       [[-1.83231047, -1.83231047, -1.83231047, -1.83231047],\n",
       "        [ 0.        ,  0.        ,  0.        ,  0.        ],\n",
       "        [ 0.        ,  0.        ,  0.        ,  0.        ],\n",
       "        [-0.5212892 , -0.5212892 , -0.5212892 , -0.5212892 ]],\n",
       "\n",
       "       [[-1.83231047, -1.83231047, -1.83231047, -1.83231047],\n",
       "        [ 0.        ,  0.        ,  0.        ,  0.        ],\n",
       "        [ 0.        ,  0.        ,  0.        ,  0.        ],\n",
       "        [-0.5212892 , -0.5212892 , -0.5212892 , -0.5212892 ]],\n",
       "\n",
       "       [[-2.4322784 , -2.4322784 , -2.4322784 , -2.4322784 ],\n",
       "        [-0.56364749, -0.56364749, -0.56364749, -0.56364749],\n",
       "        [-0.56364749, -0.56364749, -0.56364749, -0.56364749],\n",
       "        [ 0.07867873,  0.07867873,  0.07867873,  0.07867873]]])"
      ]
     },
     "execution_count": 149,
     "metadata": {},
     "output_type": "execute_result"
    }
   ],
   "source": [
    "conv_output = conv_2d(X=a_zero_array,H=2,s=1,p=0,K=4)\n",
    "conv_output"
   ]
  },
  {
   "cell_type": "markdown",
   "metadata": {},
   "source": [
    "Let's take a look at how our convolutional layer changed the dimensions of our input image:"
   ]
  },
  {
   "cell_type": "code",
   "execution_count": 150,
   "metadata": {},
   "outputs": [
    {
     "name": "stdout",
     "output_type": "stream",
     "text": [
      "(5, 5)\n",
      "(4, 4, 4)\n"
     ]
    }
   ],
   "source": [
    "print(a_zero_array.shape)\n",
    "print(conv_output.shape)"
   ]
  },
  {
   "cell_type": "markdown",
   "metadata": {},
   "source": [
    "Wow, we barely downsampled our image! That makes sense: we're applying small (2x2) filters, and we're only striding one pixel at a time, so we're reusing each pixel multiple times. With larger filter sizes, typically used on \"real\" images with many more pixels, we tend to downsample our images a good deal. Even with 3x3 filters and a stride of 2 (a common operation), you can imagine how this would work. Actually, we can try this out on our 5x5 image. Let's output four filters:"
   ]
  },
  {
   "cell_type": "code",
   "execution_count": 151,
   "metadata": {},
   "outputs": [
    {
     "data": {
      "text/plain": [
       "(5, 5)"
      ]
     },
     "execution_count": 151,
     "metadata": {},
     "output_type": "execute_result"
    }
   ],
   "source": [
    "a_zero_array.shape"
   ]
  },
  {
   "cell_type": "code",
   "execution_count": 152,
   "metadata": {},
   "outputs": [
    {
     "name": "stdout",
     "output_type": "stream",
     "text": [
      "[[[ 1.33249621  1.33249621]\n",
      "  [ 1.33249621  1.33249621]]\n",
      "\n",
      " [[ 1.93347484  1.93347484]\n",
      "  [ 1.93347484  1.93347484]]\n",
      "\n",
      " [[ 3.17620547  3.17620547]\n",
      "  [ 3.17620547  3.17620547]]\n",
      "\n",
      " [[-0.07098341 -0.07098341]\n",
      "  [-0.07098341 -0.07098341]]]\n",
      "(4, 2, 2)\n"
     ]
    }
   ],
   "source": [
    "conv_output2 = conv_2d(X=a_zero_array,H=3,s=2,p=0,K=4)\n",
    "print(conv_output2)\n",
    "print(conv_output2.shape)"
   ]
  },
  {
   "cell_type": "markdown",
   "metadata": {},
   "source": [
    "I've been listing our output first, which is kinda unconventional, but you get the idea what's going on here. We downsample the area of the input array from 5x5 to 2x2. At the same time, we increase the depth of our image from 1 to 4. In total, we go from 5x5=25 pixels to 2x2x4=16 weights.\n",
    "\n",
    "Now let's return to our 5x5 array. Here we went from 5x5=25 pixels to 4x4x4=64 weights! How do we downsample? Let's try pooling. Our first dimension is the output volume. We can extract a single volume:"
   ]
  },
  {
   "cell_type": "code",
   "execution_count": 153,
   "metadata": {},
   "outputs": [
    {
     "data": {
      "text/plain": [
       "array([[ 0.07867873,  0.07867873,  0.07867873,  0.07867873],\n",
       "       [-1.78995218, -1.78995218, -1.78995218, -1.78995218],\n",
       "       [-1.78995218, -1.78995218, -1.78995218, -1.78995218],\n",
       "       [-2.4322784 , -2.4322784 , -2.4322784 , -2.4322784 ]])"
      ]
     },
     "execution_count": 153,
     "metadata": {},
     "output_type": "execute_result"
    }
   ],
   "source": [
    "conv_output[0]"
   ]
  },
  {
   "cell_type": "code",
   "execution_count": 154,
   "metadata": {},
   "outputs": [],
   "source": [
    "def conv_2x2(X,s,p,K):\n",
    "    X=np.pad(X, mode='constant', pad_width=p)\n",
    "    W=np.random.randn(K,2,2)\n",
    "    f=int((5-2+2*p)/s)+1\n",
    "    V=[]\n",
    "    h=0\n",
    "    k=2\n",
    "    m=0\n",
    "    n=2\n",
    "    for i in range(f):\n",
    "        for j in range(f):\n",
    "            [V.append(sum(sum(W[0]*X[h:k,m:n]))) for q in range(K)]\n",
    "            m+=s\n",
    "            n+=s\n",
    "        h+=s\n",
    "        k+=s\n",
    "        m=0\n",
    "        n=2\n",
    "    V=np.asarray(V)\n",
    "    V=V.reshape(K,f,f)\n",
    "    return V"
   ]
  },
  {
   "cell_type": "markdown",
   "metadata": {},
   "source": [
    "Now we can define our pooling operation. It's the same as our convolution: we have a (typically square) shape (let's say 2x2) and a stride (let's say 2). Let $C$ be the output of our convolutional layer, $H$ be the height and width of the pooling region, and $s$ be our stride.\n",
    "\n",
    "For a square pooling region accepting a volume with equal width and height $W_{2} = H_{2}$, the pooling width and height $W_{3} = H_{3} = (W_{2} - F)/s + 1$, where $F$ is the width and height of the pooling region and $s$ is the pooling stride. The pooling depth $D_{3}$ is equal to the volume depth $D_{2}$.\n",
    "\n",
    "NumPy has an operation **np.amax** that returns the maximum value of an ndarray. "
   ]
  },
  {
   "cell_type": "code",
   "execution_count": 155,
   "metadata": {},
   "outputs": [],
   "source": [
    "def pool_2x2(C,F,s):\n",
    "    H=int((C.shape[1]-F)/2+1)\n",
    "    P=[]\n",
    "    h=0\n",
    "    k=F\n",
    "    m=0\n",
    "    n=F\n",
    "    for q in range(C.shape[0]):\n",
    "        for i in range(H):\n",
    "            for j in range(H):\n",
    "                P.append(np.amax(C[q][h:k,m:n]))\n",
    "                m+=s\n",
    "                n+=s\n",
    "            h+=s\n",
    "            k+=s\n",
    "            m=0\n",
    "            n=2\n",
    "        h=0\n",
    "        k=F\n",
    "        m=0\n",
    "        n=F\n",
    "    P=np.asarray(P)\n",
    "    P=P.reshape(C.shape[0],F,F)\n",
    "    return P"
   ]
  },
  {
   "cell_type": "markdown",
   "metadata": {},
   "source": [
    "Now let's examine the output of our pooling operation:"
   ]
  },
  {
   "cell_type": "code",
   "execution_count": 156,
   "metadata": {},
   "outputs": [
    {
     "data": {
      "text/plain": [
       "array([[[ 0.07867873,  0.07867873],\n",
       "        [-1.78995218, -1.78995218]],\n",
       "\n",
       "       [[ 0.        ,  0.        ],\n",
       "        [ 0.        ,  0.        ]],\n",
       "\n",
       "       [[ 0.        ,  0.        ],\n",
       "        [ 0.        ,  0.        ]],\n",
       "\n",
       "       [[-0.56364749, -0.56364749],\n",
       "        [ 0.07867873,  0.07867873]]])"
      ]
     },
     "execution_count": 156,
     "metadata": {},
     "output_type": "execute_result"
    }
   ],
   "source": [
    "P = pool_2x2(C=conv_output,F=2,s=2)\n",
    "P"
   ]
  },
  {
   "cell_type": "markdown",
   "metadata": {},
   "source": [
    "We've also downsampled further, cutting our width and height in half while retaining a depth of 4. Again, it's not conventional to list the depth first, but it prints nice and works out well with the list comprehension in the convolutional layer (okay, I could have just added a third for loop like I did with the pooling layer):"
   ]
  },
  {
   "cell_type": "code",
   "execution_count": 157,
   "metadata": {},
   "outputs": [
    {
     "name": "stdout",
     "output_type": "stream",
     "text": [
      "(4, 2, 2)\n"
     ]
    }
   ],
   "source": [
    "print(P.shape)"
   ]
  },
  {
   "cell_type": "markdown",
   "metadata": {},
   "source": [
    "We still need to get from our pooling layer to our output layer, and finally to our softmax layer. Really at any time we can just flatten our output into a vector of length $m$ and multiply an $nxm$ matrix by this vector to get a vector of length $n$. That's essentially what we'll do, but we still have one more operation to add. We'll get to it soon.\n",
    "\n",
    "All we've covered so far should also make us appreciate how easy it is to construct convolutional and pooling layers in PyTorch. Recall our old neural network:"
   ]
  },
  {
   "cell_type": "code",
   "execution_count": 158,
   "metadata": {},
   "outputs": [],
   "source": [
    "import torch\n",
    "import torch.nn as nn"
   ]
  },
  {
   "cell_type": "code",
   "execution_count": 159,
   "metadata": {},
   "outputs": [],
   "source": [
    "class Net(nn.Module):\n",
    "    def __init__(self):\n",
    "        super(Net, self).__init__()\n",
    "        self.fc1 = nn.Linear(25, 10)\n",
    "    def forward(self, x):\n",
    "        return self.fc1(x)"
   ]
  },
  {
   "cell_type": "markdown",
   "metadata": {},
   "source": [
    "We can now replace our fully-connected (or **dense**) layer for our 2x2 convolutional layer with stride of 1 and volume of 4! PyTorch's nn module makes this super easy with **nn.conv2d**. **2d** refers to the dimensions of the kernel We don't even have to define the kernel size and stride (though we can). We simply pass our number of input channels **in_channels** (we only have 1 channel for our single image of 1-bit pixels), **out_channels** (our volume of 4), **kernel_size** (2, PyTorch assumes square kernels by default) and **stride** (2, with horizontal and vertical stride equal by default). By convention, we call our first convolutional layer **conv**:"
   ]
  },
  {
   "cell_type": "code",
   "execution_count": 160,
   "metadata": {},
   "outputs": [],
   "source": [
    "conv = nn.Conv2d(in_channels=1,out_channels=4,kernel_size=2,stride=2)"
   ]
  },
  {
   "cell_type": "markdown",
   "metadata": {},
   "source": [
    "Alternatively, we can just pass the values of the arguments:"
   ]
  },
  {
   "cell_type": "code",
   "execution_count": 161,
   "metadata": {},
   "outputs": [
    {
     "name": "stdout",
     "output_type": "stream",
     "text": [
      "Conv2d(1, 4, kernel_size=(2, 2), stride=(2, 2))\n",
      "Conv2d(1, 4, kernel_size=(2, 2), stride=(2, 2))\n"
     ]
    }
   ],
   "source": [
    "conv = nn.Conv2d(in_channels=1,out_channels=4,kernel_size=2,stride=2)\n",
    "print(conv)\n",
    "conv2 = nn.Conv2d(1,4,2,2)\n",
    "print(conv)"
   ]
  },
  {
   "cell_type": "code",
   "execution_count": 162,
   "metadata": {},
   "outputs": [
    {
     "data": {
      "text/plain": [
       "Parameter containing:\n",
       "tensor([[[[ 0.0965, -0.3337],\n",
       "          [ 0.0859, -0.4582]]],\n",
       "\n",
       "\n",
       "        [[[ 0.1960,  0.3469],\n",
       "          [-0.0839, -0.2464]]],\n",
       "\n",
       "\n",
       "        [[[ 0.3484, -0.0939],\n",
       "          [ 0.4719,  0.3612]]],\n",
       "\n",
       "\n",
       "        [[[-0.0447, -0.4299],\n",
       "          [ 0.0039,  0.3738]]]], requires_grad=True)"
      ]
     },
     "execution_count": 162,
     "metadata": {},
     "output_type": "execute_result"
    }
   ],
   "source": [
    "conv.weight"
   ]
  },
  {
   "cell_type": "markdown",
   "metadata": {},
   "source": [
    "PyTorch also adds a bias by default. You can specify **bias=false** if you don't want this, but why not add a bias? Biases are computationally cheap (if that matters when doing matrix math on a 5x5 image of one-bit pixels):"
   ]
  },
  {
   "cell_type": "code",
   "execution_count": 163,
   "metadata": {},
   "outputs": [
    {
     "data": {
      "text/plain": [
       "Parameter containing:\n",
       "tensor([-0.1999,  0.3466,  0.0297,  0.1149], requires_grad=True)"
      ]
     },
     "execution_count": 163,
     "metadata": {},
     "output_type": "execute_result"
    }
   ],
   "source": [
    "conv.bias"
   ]
  },
  {
   "cell_type": "markdown",
   "metadata": {},
   "source": [
    "Now we can swap in our conv for fc in our **init** and **forward** modules:"
   ]
  },
  {
   "cell_type": "code",
   "execution_count": 164,
   "metadata": {},
   "outputs": [],
   "source": [
    "class Net(nn.Module):\n",
    "    def __init__(self):\n",
    "        super(Net, self).__init__()\n",
    "        self.conv = nn.Conv2d(1,4,2,2)\n",
    "    def forward(self, x):\n",
    "        return self.conv(x)"
   ]
  },
  {
   "cell_type": "markdown",
   "metadata": {},
   "source": [
    "Examining a **net** instance of our **Net()**, we see that we have one two-dimensional convolution layer with a batch size of 1, output volume of 4, and 5x5 kernels with a stride of 2 in both directions:"
   ]
  },
  {
   "cell_type": "code",
   "execution_count": 165,
   "metadata": {},
   "outputs": [
    {
     "data": {
      "text/plain": [
       "Net(\n",
       "  (conv): Conv2d(1, 4, kernel_size=(2, 2), stride=(2, 2))\n",
       ")"
      ]
     },
     "execution_count": 165,
     "metadata": {},
     "output_type": "execute_result"
    }
   ],
   "source": [
    "net = Net()\n",
    "net"
   ]
  },
  {
   "cell_type": "markdown",
   "metadata": {},
   "source": [
    "Now let's add our pooling layer **nn.MaxPool2d**. We pass (2,2) for the size and stride of our receptive field. By convention, we'll call this **pool**:"
   ]
  },
  {
   "cell_type": "code",
   "execution_count": 166,
   "metadata": {},
   "outputs": [],
   "source": [
    "class Net(nn.Module):\n",
    "    def __init__(self):\n",
    "        super(Net, self).__init__()\n",
    "        self.conv = nn.Conv2d(1,4,2,2)\n",
    "        self.pool = nn.MaxPool2d(2,2)\n",
    "    def forward(self, x):\n",
    "        return self.pool(self.conv(x))"
   ]
  },
  {
   "cell_type": "markdown",
   "metadata": {},
   "source": [
    "Let's check out our new **multilayer** (deep??) neural network:"
   ]
  },
  {
   "cell_type": "code",
   "execution_count": 167,
   "metadata": {},
   "outputs": [
    {
     "data": {
      "text/plain": [
       "Net(\n",
       "  (conv): Conv2d(1, 4, kernel_size=(2, 2), stride=(2, 2))\n",
       "  (pool): MaxPool2d(kernel_size=2, stride=2, padding=0, dilation=1, ceil_mode=False)\n",
       ")"
      ]
     },
     "execution_count": 167,
     "metadata": {},
     "output_type": "execute_result"
    }
   ],
   "source": [
    "net = Net()\n",
    "net"
   ]
  },
  {
   "cell_type": "markdown",
   "metadata": {},
   "source": [
    "Looks like **MaxPool2d** has a few other default parameters. You might recognize **padding** from our convolution operation. We can also pad our input with zeros for pooling. For **padding=N**, **N** is just the size of the padding (how many zero cells extending horizontally or vertically from the original border of the image).\n",
    "\n",
    "**dilation** refers to spacing between values in a convolutional or padding kernel. For instance, if we applied our 2x2 kernel with a **dilation rate** of 2, we would end up applying our operation over a 3x3 field but only performing elementwise multiplication on every other row or column.\n",
    "\n",
    "A visualization DEFINITELY helps to explain dilation (and other convolutional operations!) https://towardsdatascience.com/types-of-convolutions-in-deep-learning-717013397f4d\n",
    "\n",
    "What about **ceil_mode**? Remember when we computed the dimensions of the output of our convolutional layer? We can do the same for the output of our pooling layer. We don't need to go over the details of the operation (see https://pytorch.org/docs/stable/\\_modules/torch/nn/modules/pooling.html if you're curious). The point is that our dimensions must be (positive) integers, and thus if the operation produces a non-integer output, we'll either need to round down (floor) or up (ceiling). When **ceil_mode=False** (by default), PyTorch uses the floor of the operation rather than the ceiling to compute the dimensions of the pooling output.\n",
    "\n",
    "Before we add our fully connected and softmax layers, we're going to introduce one final operation. When we \"do\" \"**deep learning\"** (deep learn?), we're stacking multiple layers of (frequently) linear operations. But we also want to introduce nonlinear operations so that our neural network \"function\" can better approximate nonlinear relationships between our inputs and outputs. There are other good reasons for introducing nonlinearities, but let's save the theory for another time.\n",
    "\n",
    "The particular class of nonlinear operations we'll examine here are called **activation functions**. If we think back to our conceptualization of a neural network as a set of nodes organized into layers and connected via (fully connected, convolutional, and other) operations, we're (crudely) modeling a neurological process whereby input data (axons) are transmitted into outputs. But what tells us whether (or how) our neuron will \"fire\" or \"activate\"? Here's where activation functions come in.\n",
    "\n",
    "Technically, activations don't need to be nonlinear. Let's define a random input to our activation function (a vector of length 8):"
   ]
  },
  {
   "cell_type": "code",
   "execution_count": 168,
   "metadata": {},
   "outputs": [
    {
     "data": {
      "text/plain": [
       "array([ 0.96111905,  1.25822022, -1.54427963,  0.59962017,  0.0702229 ,\n",
       "       -0.16828295, -0.74831657, -0.84788605])"
      ]
     },
     "execution_count": 168,
     "metadata": {},
     "output_type": "execute_result"
    }
   ],
   "source": [
    "X = np.random.randn(8)\n",
    "X"
   ]
  },
  {
   "cell_type": "markdown",
   "metadata": {},
   "source": [
    "We'll now define a simple (hypothetical, pointless) activation function **identity** that returns its input. For all three activation functions, we'll make a copy $Y$ of $X$ and perform all operations in each function on it so that we can reuse our input $X$:"
   ]
  },
  {
   "cell_type": "code",
   "execution_count": 169,
   "metadata": {},
   "outputs": [],
   "source": [
    "def identity(X):\n",
    "    return X"
   ]
  },
  {
   "cell_type": "markdown",
   "metadata": {},
   "source": [
    "It should be pretty obvious what's going to happen if we pass $X$ to the function:"
   ]
  },
  {
   "cell_type": "code",
   "execution_count": 170,
   "metadata": {},
   "outputs": [
    {
     "data": {
      "text/plain": [
       "array([ 0.96111905,  1.25822022, -1.54427963,  0.59962017,  0.0702229 ,\n",
       "       -0.16828295, -0.74831657, -0.84788605])"
      ]
     },
     "execution_count": 170,
     "metadata": {},
     "output_type": "execute_result"
    }
   ],
   "source": [
    "identity(X)"
   ]
  },
  {
   "cell_type": "markdown",
   "metadata": {},
   "source": [
    "Let's say we want to go a \"step\" further and return 0 if $x_{i}$ is below a certain threshold (say, 0) and 1 if $x_{i}$ is at or above the threshold, for each $x_{i}$ in vector $X$. For fun, you could generalize this to a generic tensor."
   ]
  },
  {
   "cell_type": "code",
   "execution_count": 171,
   "metadata": {},
   "outputs": [],
   "source": [
    "def step(X):\n",
    "    for i in range(len(X)):\n",
    "        if X[i] < 0:\n",
    "            X[i] = 0\n",
    "        else:\n",
    "            X[i] = 1\n",
    "    return X"
   ]
  },
  {
   "cell_type": "code",
   "execution_count": 172,
   "metadata": {},
   "outputs": [
    {
     "data": {
      "text/plain": [
       "array([-2.12318097, -0.15131504,  2.09349127, -0.41301175, -0.59571265,\n",
       "       -0.89290773, -0.64120063, -0.43276425])"
      ]
     },
     "execution_count": 172,
     "metadata": {},
     "output_type": "execute_result"
    }
   ],
   "source": [
    "X = np.random.randn(8)\n",
    "X"
   ]
  },
  {
   "cell_type": "code",
   "execution_count": 173,
   "metadata": {},
   "outputs": [
    {
     "data": {
      "text/plain": [
       "array([0., 0., 1., 0., 0., 0., 0., 0.])"
      ]
     },
     "execution_count": 173,
     "metadata": {},
     "output_type": "execute_result"
    }
   ],
   "source": [
    "step(X)"
   ]
  },
  {
   "cell_type": "markdown",
   "metadata": {},
   "source": [
    "However, we've got a few issues with our step function. It's not smooth, it's coarse, and most problematically it's derivative is zero at all points. That means when we backprop we're going to kill all the gradients. No good.\n",
    "\n",
    "But what if we combine these two completely useless activation functions: the one (identity function) that doesn't update outputs during the forward pass with the one (step function) that doesn't update weights during the backward pass? Now we have the (no joke) go-to activation function for convolutional neural networks: the **rectified linear unit (ReLU)**, or less pretentiously, the \"thing that sets our negative values to zero\":"
   ]
  },
  {
   "cell_type": "code",
   "execution_count": 174,
   "metadata": {},
   "outputs": [],
   "source": [
    "def ReLU(X):\n",
    "    for i in range(len(X)):\n",
    "        if X[i] < 0:\n",
    "            X[i] = 0\n",
    "        else:\n",
    "            X[i] = X[i]\n",
    "    return X"
   ]
  },
  {
   "cell_type": "code",
   "execution_count": 175,
   "metadata": {},
   "outputs": [
    {
     "data": {
      "text/plain": [
       "array([-2.36744038,  0.29453515,  0.39768781, -2.31496632,  1.19924262,\n",
       "        1.27534617, -1.24034107,  1.82669629])"
      ]
     },
     "execution_count": 175,
     "metadata": {},
     "output_type": "execute_result"
    }
   ],
   "source": [
    "X = np.random.randn(8)\n",
    "X"
   ]
  },
  {
   "cell_type": "code",
   "execution_count": 176,
   "metadata": {},
   "outputs": [
    {
     "data": {
      "text/plain": [
       "array([0.        , 0.29453515, 0.39768781, 0.        , 1.19924262,\n",
       "       1.27534617, 0.        , 1.82669629])"
      ]
     },
     "execution_count": 176,
     "metadata": {},
     "output_type": "execute_result"
    }
   ],
   "source": [
    "ReLU(X)"
   ]
  },
  {
   "cell_type": "markdown",
   "metadata": {},
   "source": [
    "Nice! Let's add this to our network architecture. Of course PyTorch's functional API, **F** has a built-in function for ReLU, __F.ReLU__.\n",
    "\n",
    "Let's add it to our **Net()**:"
   ]
  },
  {
   "cell_type": "code",
   "execution_count": 177,
   "metadata": {},
   "outputs": [],
   "source": [
    "class Net(nn.Module):\n",
    "    def __init__(self):\n",
    "        super(Net, self).__init__()\n",
    "        self.conv = nn.Conv2d(1,4,2,2)\n",
    "        self.pool = nn.MaxPool2d(2,2)\n",
    "    def forward(self, x):\n",
    "        return self.pool(F.relu(self.conv(x)))"
   ]
  },
  {
   "cell_type": "markdown",
   "metadata": {},
   "source": [
    "Before we add our softmax and loss function and define our backpropagation, we still need a fully-connected layer to transform the output of **self.pool(F.relu(self.conv(x)))** to a vector of length 10 (again, the number of classes).\n",
    "\n",
    "Let's review how the dimensions of our image have changed as the image is passed through the network. We begin with a 5x5 image of 1-bit pixels and convert it to a PyTorch tensor $X$. We'll call the **float()** method on the model to convert the model to a float."
   ]
  },
  {
   "cell_type": "code",
   "execution_count": 178,
   "metadata": {},
   "outputs": [
    {
     "name": "stdout",
     "output_type": "stream",
     "text": [
      "(5, 5)\n"
     ]
    },
    {
     "data": {
      "text/plain": [
       "array([[0, 1, 1, 1, 0],\n",
       "       [1, 0, 0, 0, 1],\n",
       "       [1, 0, 0, 0, 1],\n",
       "       [1, 0, 0, 0, 1],\n",
       "       [0, 1, 1, 1, 0]])"
      ]
     },
     "execution_count": 178,
     "metadata": {},
     "output_type": "execute_result"
    }
   ],
   "source": [
    "print(a_zero_array.shape)\n",
    "a_zero_array"
   ]
  },
  {
   "cell_type": "code",
   "execution_count": 179,
   "metadata": {},
   "outputs": [
    {
     "name": "stdout",
     "output_type": "stream",
     "text": [
      "torch.Size([5, 5])\n"
     ]
    },
    {
     "data": {
      "text/plain": [
       "tensor([[0., 1., 1., 1., 0.],\n",
       "        [1., 0., 0., 0., 1.],\n",
       "        [1., 0., 0., 0., 1.],\n",
       "        [1., 0., 0., 0., 1.],\n",
       "        [0., 1., 1., 1., 0.]])"
      ]
     },
     "execution_count": 179,
     "metadata": {},
     "output_type": "execute_result"
    }
   ],
   "source": [
    "X = torch.tensor(a_zero_array, requires_grad=False).float()\n",
    "print(X.shape)\n",
    "X"
   ]
  },
  {
   "cell_type": "markdown",
   "metadata": {},
   "source": [
    "Next we apply four 2x2 convolutions with stride of 1. Before we pass $X$ to **Conv2d**, we need to convert the tensor to size \\[batch_size, channels, height, width\\]. Right now it's of size \\[5,5\\]. **x.view** does the trick, adding dimensions for batch_size (just our 1 image) and input_channels (the one \"color channel\" of 1-bit pixels):"
   ]
  },
  {
   "cell_type": "code",
   "execution_count": 180,
   "metadata": {},
   "outputs": [
    {
     "name": "stdout",
     "output_type": "stream",
     "text": [
      "torch.Size([1, 1, 5, 5])\n"
     ]
    },
    {
     "data": {
      "text/plain": [
       "tensor([[[[0., 1., 1., 1., 0.],\n",
       "          [1., 0., 0., 0., 1.],\n",
       "          [1., 0., 0., 0., 1.],\n",
       "          [1., 0., 0., 0., 1.],\n",
       "          [0., 1., 1., 1., 0.]]]])"
      ]
     },
     "execution_count": 180,
     "metadata": {},
     "output_type": "execute_result"
    }
   ],
   "source": [
    "X = X.view(1, 1, 5, 5)\n",
    "print(X.shape)\n",
    "X"
   ]
  },
  {
   "cell_type": "code",
   "execution_count": 181,
   "metadata": {},
   "outputs": [
    {
     "name": "stdout",
     "output_type": "stream",
     "text": [
      "torch.Size([1, 4, 2, 2])\n"
     ]
    },
    {
     "data": {
      "text/plain": [
       "tensor([[[[ 0.3170, -0.1926],\n",
       "          [-0.3174, -0.3749]],\n",
       "\n",
       "         [[-0.4671,  0.3493],\n",
       "          [ 0.1501, -0.0210]],\n",
       "\n",
       "         [[-1.0374, -0.4540],\n",
       "          [-0.3605, -0.2536]],\n",
       "\n",
       "         [[-0.4015, -0.4471],\n",
       "          [-0.7474, -0.2381]]]], grad_fn=<MkldnnConvolutionBackward>)"
      ]
     },
     "execution_count": 181,
     "metadata": {},
     "output_type": "execute_result"
    }
   ],
   "source": [
    "conv = nn.Conv2d(1,4,2,2)\n",
    "C = conv(X)\n",
    "print(C.shape)\n",
    "C"
   ]
  },
  {
   "cell_type": "markdown",
   "metadata": {},
   "source": [
    "How does our pooling operation change the shape?"
   ]
  },
  {
   "cell_type": "code",
   "execution_count": 182,
   "metadata": {},
   "outputs": [
    {
     "name": "stdout",
     "output_type": "stream",
     "text": [
      "torch.Size([1, 4, 1, 1])\n"
     ]
    },
    {
     "data": {
      "text/plain": [
       "tensor([[[[ 0.3170]],\n",
       "\n",
       "         [[ 0.3493]],\n",
       "\n",
       "         [[-0.2536]],\n",
       "\n",
       "         [[-0.2381]]]], grad_fn=<MaxPool2DWithIndicesBackward>)"
      ]
     },
     "execution_count": 182,
     "metadata": {},
     "output_type": "execute_result"
    }
   ],
   "source": [
    "pool = nn.MaxPool2d(2,2)\n",
    "P = pool(C)\n",
    "print(P.shape)\n",
    "P"
   ]
  },
  {
   "cell_type": "markdown",
   "metadata": {},
   "source": [
    "We see now that we've downsampled our input so much that we actually have **fewer** nodes than classes! We need a linear transformation that'll get us from four nodes to 10. Sounds like a job for a 10x4 matrix, with a(n optional) 10x1 vector!\n",
    "\n",
    "Before we do this, we need to **flatten** the output of our pooling operation using **view** . We can hard code this as **P.view(4)**, since the number of total features should be clear:"
   ]
  },
  {
   "cell_type": "code",
   "execution_count": 183,
   "metadata": {},
   "outputs": [
    {
     "data": {
      "text/plain": [
       "tensor([ 0.3170,  0.3493, -0.2536, -0.2381], grad_fn=<ViewBackward>)"
      ]
     },
     "execution_count": 183,
     "metadata": {},
     "output_type": "execute_result"
    }
   ],
   "source": [
    "P = P.view(4)\n",
    "P.shape\n",
    "P"
   ]
  },
  {
   "cell_type": "markdown",
   "metadata": {},
   "source": [
    "Remember in PyTorch, we don't need to specify the dimensions of a weights matrix and bias vector. We can just call **nn.linear** with **use_bias=True** and specify our number of input nodes (4) and output nodes (10). We apply this to the reshaped output of the the convolution, relu, and pooling operation. Since we're already passing the output of our fully-connected (**dense**) layer through a softmax function, we don't need an additional ReLU activation. Here's our updated network:"
   ]
  },
  {
   "cell_type": "code",
   "execution_count": 184,
   "metadata": {},
   "outputs": [],
   "source": [
    "class Net(nn.Module):\n",
    "    def __init__(self):\n",
    "        super(Net, self).__init__()\n",
    "        self.conv = nn.Conv2d(1,4,2,2)\n",
    "        self.pool = nn.MaxPool2d(2,2)\n",
    "        self.fc = nn.Linear(4,10)\n",
    "    def forward(self, x):\n",
    "        x = self.pool(F.relu(self.conv(x)))\n",
    "        x = x.view(-1, 4)\n",
    "        x = self.fc(x)\n",
    "        return x"
   ]
  },
  {
   "cell_type": "markdown",
   "metadata": {},
   "source": [
    "As you may have noticed, printing our **net** instance of __Net()__ only displays the layers defined in our **init** constructor:"
   ]
  },
  {
   "cell_type": "code",
   "execution_count": 185,
   "metadata": {},
   "outputs": [
    {
     "name": "stdout",
     "output_type": "stream",
     "text": [
      "Net(\n",
      "  (conv): Conv2d(1, 4, kernel_size=(2, 2), stride=(2, 2))\n",
      "  (pool): MaxPool2d(kernel_size=2, stride=2, padding=0, dilation=1, ceil_mode=False)\n",
      "  (fc): Linear(in_features=4, out_features=10, bias=True)\n",
      ")\n"
     ]
    }
   ],
   "source": [
    "net = Net()\n",
    "print(net)"
   ]
  },
  {
   "cell_type": "markdown",
   "metadata": {},
   "source": [
    "Remember, we don't need to apply our cross-entropy loss to a softmax transformation of our output. __F.cross_entropy__ will take care of the softmax for you. Since we're working in **nn** (and I'm using this as a reference: https://pytorch.org/tutorials/beginner/blitz/cifar10_tutorial.html), we'll use the __nn__ implementation of cross-entropy: **nn.CrossEntropyLoss()**:"
   ]
  },
  {
   "cell_type": "code",
   "execution_count": 186,
   "metadata": {},
   "outputs": [],
   "source": [
    "ce_loss = nn.CrossEntropyLoss()"
   ]
  },
  {
   "cell_type": "markdown",
   "metadata": {},
   "source": [
    "We also need an **optimizer**. It turns out that \"vanilla\" gradient descent (where we subtract the scaled partial derivatives of our loss function with respect to each of our weights and biases) for each of our training samples isn't usually implemented in practice (horror face emoji). Instead, we use something called **stochastic gradient descent (SGD)**. Unlike \"vanilla\" or **batch gradient descent**, which calculates the gradient using the entire training dataset before updating weights, stochastic gradient descent updates the gradient using data from one observation at a time. Each observation is randomly selected from the dataset, hence \"stochastic.\"\n",
    "\n",
    "Of course, none of this matters when we're feeding a single observation through the network. But we'll use SGD because it tends to work better than batch gradient descent for large datasets. Hey if we were selecting an optimal algorithm for classifying a single 5x5 image of one-bit pixels, we probably wouldn't use a neural network. (We'd probably just give up...)\n",
    "\n",
    "PyTorch has an optimizer package called **torch.optim**. If you really want to nerd out on this stuff, there are a ton of optimizers, and many of them are in this package. If you know one that isn't, you could contribute it to PyTorch! A lot of these optimizers add some form of momentum to prevent the network from getting stuck in a local minimum. We won't worry about that for now. Let's import our optimizer package:"
   ]
  },
  {
   "cell_type": "code",
   "execution_count": 187,
   "metadata": {},
   "outputs": [],
   "source": [
    "import torch.optim as optim"
   ]
  },
  {
   "cell_type": "markdown",
   "metadata": {},
   "source": [
    "Now let's define our **optimzer** using **optim.SGD**. First we'll need to pass our **net.parameters()** to the optimizer. This is just our weights and biases (prior to updating):"
   ]
  },
  {
   "cell_type": "code",
   "execution_count": 188,
   "metadata": {},
   "outputs": [
    {
     "data": {
      "text/plain": [
       "<generator object Module.parameters at 0x126516a20>"
      ]
     },
     "execution_count": 188,
     "metadata": {},
     "output_type": "execute_result"
    }
   ],
   "source": [
    "net.parameters()"
   ]
  },
  {
   "cell_type": "markdown",
   "metadata": {},
   "source": [
    "Next, we'll add our learning rate, **lr**. We can stick with **lr=0.1**. We'll leave out **momentum** for now, but you can experiment with adding this argument.\n",
    "\n",
    "PyTorch classifier tutorial: https://pytorch.org/tutorials/beginner/blitz/cifar10_tutorial.html#sphx-glr-beginner-blitz-cifar10-tutorial-py\n",
    "\n",
    "torch.optim.sgd source code: https://pytorch.org/docs/stable/\\_modules/torch/optim/sgd.html\n",
    "\n",
    "An incredible (and comprehensive) summary of optimization algorithms: http://ruder.io/optimizing-gradient-descent/\n",
    "\n",
    "Let's define our optimizer!"
   ]
  },
  {
   "cell_type": "code",
   "execution_count": 189,
   "metadata": {},
   "outputs": [],
   "source": [
    "optimizer = optim.SGD(net.parameters(), lr=0.1)"
   ]
  },
  {
   "cell_type": "markdown",
   "metadata": {},
   "source": [
    "Now let's feed our 5x5 \"zero\" image **X** into the network: "
   ]
  },
  {
   "cell_type": "code",
   "execution_count": 190,
   "metadata": {},
   "outputs": [
    {
     "data": {
      "text/plain": [
       "tensor([[[[0., 1., 1., 1., 0.],\n",
       "          [1., 0., 0., 0., 1.],\n",
       "          [1., 0., 0., 0., 1.],\n",
       "          [1., 0., 0., 0., 1.],\n",
       "          [0., 1., 1., 1., 0.]]]])"
      ]
     },
     "execution_count": 190,
     "metadata": {},
     "output_type": "execute_result"
    }
   ],
   "source": [
    "X"
   ]
  },
  {
   "cell_type": "code",
   "execution_count": 191,
   "metadata": {},
   "outputs": [
    {
     "data": {
      "text/plain": [
       "tensor([[-0.4364, -0.3683, -0.1238, -0.2239,  0.0834, -0.4050, -0.3297, -0.2226,\n",
       "          0.4894, -0.1396]], grad_fn=<AddmmBackward>)"
      ]
     },
     "execution_count": 191,
     "metadata": {},
     "output_type": "execute_result"
    }
   ],
   "source": [
    "output = net(X)\n",
    "output"
   ]
  },
  {
   "cell_type": "markdown",
   "metadata": {},
   "source": [
    "Remember, we apply cross-entropy loss on our \"raw\" output (not passed through the softmax function). However, we can still apply **F.softmax** to our raw output to view our probability vector (tensor):"
   ]
  },
  {
   "cell_type": "code",
   "execution_count": 192,
   "metadata": {},
   "outputs": [
    {
     "name": "stderr",
     "output_type": "stream",
     "text": [
      "/Users/patrickdonnelly/anaconda3/lib/python3.7/site-packages/ipykernel_launcher.py:1: UserWarning: Implicit dimension choice for softmax has been deprecated. Change the call to include dim=X as an argument.\n",
      "  \"\"\"Entry point for launching an IPython kernel.\n"
     ]
    },
    {
     "data": {
      "text/plain": [
       "tensor([[0.0735, 0.0787, 0.1004, 0.0909, 0.1236, 0.0758, 0.0818, 0.0910, 0.1855,\n",
       "         0.0989]], grad_fn=<SoftmaxBackward>)"
      ]
     },
     "execution_count": 192,
     "metadata": {},
     "output_type": "execute_result"
    }
   ],
   "source": [
    "predictions = F.softmax(output)\n",
    "predictions"
   ]
  },
  {
   "cell_type": "markdown",
   "metadata": {},
   "source": [
    "In our example, the index will be equivalent to the value of the digit, so we can just apply **torch.argmax** (which gives us the index of our maximum value) to our \"probability tensor\":"
   ]
  },
  {
   "cell_type": "code",
   "execution_count": 193,
   "metadata": {},
   "outputs": [
    {
     "data": {
      "text/plain": [
       "tensor(8)"
      ]
     },
     "execution_count": 193,
     "metadata": {},
     "output_type": "execute_result"
    }
   ],
   "source": [
    "torch.argmax(predictions)"
   ]
  },
  {
   "cell_type": "markdown",
   "metadata": {},
   "source": [
    "We see that the network predicts a \"5.\" Remember, our ground truth is a \"0.\" This isn't a big deal. We haven't updated our weights and biases yet, so this is entirely random. Before we update our parameters (using this one example!), let's compute our loss (on our **output**, prior to applying softmax):"
   ]
  },
  {
   "cell_type": "code",
   "execution_count": 194,
   "metadata": {},
   "outputs": [
    {
     "data": {
      "text/plain": [
       "tensor(2.6107, grad_fn=<NllLossBackward>)"
      ]
     },
     "execution_count": 194,
     "metadata": {},
     "output_type": "execute_result"
    }
   ],
   "source": [
    "loss = ce_loss(output, y)\n",
    "loss"
   ]
  },
  {
   "cell_type": "markdown",
   "metadata": {},
   "source": [
    "We can confirm that this is the negative natural logarithm of the predicted output for the zero index. As with other NumPy operations, we can just swap **torch.log** for **np.log**:"
   ]
  },
  {
   "cell_type": "code",
   "execution_count": 195,
   "metadata": {},
   "outputs": [
    {
     "data": {
      "text/plain": [
       "tensor(2.6107, grad_fn=<NegBackward>)"
      ]
     },
     "execution_count": 195,
     "metadata": {},
     "output_type": "execute_result"
    }
   ],
   "source": [
    "-torch.log(predictions[0][0])"
   ]
  },
  {
   "cell_type": "markdown",
   "metadata": {},
   "source": [
    "Let's compute our gradients. We pass the argument **retain_graph=True** so that we can reuse this method:"
   ]
  },
  {
   "cell_type": "code",
   "execution_count": 196,
   "metadata": {},
   "outputs": [],
   "source": [
    "loss.backward(retain_graph=True)"
   ]
  },
  {
   "cell_type": "markdown",
   "metadata": {},
   "source": [
    "We update parameters by passing the **step()** method to our **optimizer**:"
   ]
  },
  {
   "cell_type": "code",
   "execution_count": 197,
   "metadata": {},
   "outputs": [],
   "source": [
    "optimizer.step()"
   ]
  },
  {
   "cell_type": "markdown",
   "metadata": {},
   "source": [
    "Let's do another **forward pass** of our \"data\":"
   ]
  },
  {
   "cell_type": "code",
   "execution_count": 198,
   "metadata": {},
   "outputs": [
    {
     "data": {
      "text/plain": [
       "tensor([[-0.3418, -0.3765, -0.1344, -0.2329,  0.0702, -0.4127, -0.3384, -0.2318,\n",
       "          0.4704, -0.1491]], grad_fn=<AddmmBackward>)"
      ]
     },
     "execution_count": 198,
     "metadata": {},
     "output_type": "execute_result"
    }
   ],
   "source": [
    "output = net(X)\n",
    "output"
   ]
  },
  {
   "cell_type": "markdown",
   "metadata": {},
   "source": [
    "We can see that our loss has decreased..."
   ]
  },
  {
   "cell_type": "code",
   "execution_count": 199,
   "metadata": {},
   "outputs": [
    {
     "data": {
      "text/plain": [
       "tensor(2.5127, grad_fn=<NllLossBackward>)"
      ]
     },
     "execution_count": 199,
     "metadata": {},
     "output_type": "execute_result"
    }
   ],
   "source": [
    "loss = ce_loss(output, y)\n",
    "loss"
   ]
  },
  {
   "cell_type": "markdown",
   "metadata": {},
   "source": [
    "...even though the prediction is still incorrect:"
   ]
  },
  {
   "cell_type": "code",
   "execution_count": 200,
   "metadata": {},
   "outputs": [
    {
     "data": {
      "text/plain": [
       "tensor(8)"
      ]
     },
     "execution_count": 200,
     "metadata": {},
     "output_type": "execute_result"
    }
   ],
   "source": [
    "torch.argmax(predictions)"
   ]
  },
  {
   "cell_type": "markdown",
   "metadata": {},
   "source": [
    "Of course in the \"real world\" we train neural networks with many more parameters, on observations with many more features, on datasets with many more observations. \n",
    "\n",
    "Hopefully what our example has done is to enable you to learn the **mechanics** of training a neural network. With a single 5x5 array (or tensor) of binary pixels, it is easier to wrap one's head around the process of learning weights and biases through matrix multiplications and additions, convolutions, activations, and softmax functions.\n",
    "\n",
    "Nevertheless, there's a lot that we haven't covered. We didn't really go over the practical issues involved in training a neural network with real data: stuff like data ingestion, resizing and augmenting data, partitioning our data into training and test sets, and even simple things like writing print statements to record our loss or outputting our trained model files at different checkpoints.\n",
    "\n",
    "Let's recap what we've learned!\n",
    "\n",
    "We began by exploring the simple case of linear regression, first with a single weight, and then with a weight and a bias. While we can use a neural network to learn these parameters, it usually makes more sense to solve for our parameters analytically.\n",
    "\n",
    "From linear regression, we moved to using a **fully-connected** network (matrix multiplication and addition) to transform our input into output. We examined the logic of **forward propagation** (computing output and loss) and **backward propagation** (or **backpropagation**: updating weights and biases) using NumPy.\n",
    "\n",
    "Although NumPy operations are great for learning the logic of training a neural network, we can save a lot of time by using PyTorch. Let's conclude by reviewing the simple network we constructed. \n",
    "\n",
    "We define a **Net** class comprised of a **network architecture** (**\\_\\_init__**) and our forward propagation, or **forward pass** (**forward**):"
   ]
  },
  {
   "cell_type": "code",
   "execution_count": 201,
   "metadata": {},
   "outputs": [],
   "source": [
    "class Net(nn.Module):\n",
    "    def __init__(self):\n",
    "        super(Net, self).__init__()\n",
    "        self.conv = nn.Conv2d(1,4,2,2)\n",
    "        self.pool = nn.MaxPool2d(2,2)\n",
    "        self.fc = nn.Linear(4,10)\n",
    "    def forward(self, x):\n",
    "        x = self.pool(F.relu(self.conv(x)))\n",
    "        x = x.view(-1, 4)\n",
    "        x = self.fc(x)\n",
    "        return x"
   ]
  },
  {
   "cell_type": "markdown",
   "metadata": {},
   "source": [
    "Our architecture consists of three **layers**:\n",
    "\n",
    "1) A **convolutional layer**, which slides a matrix (filter) of shared weights across the input, computes the dot product at each point, and repeats the operation for an arbitrary number of filters.\n",
    "\n",
    "2) A **pooling layer**, which computes the maximum value of each input over a specified region.\n",
    "\n",
    "3) A **fully-connected (dense) layer**, which performs a linear transformation (matrix multiplication and addition) on the input.\n",
    "\n",
    "We then define three operations in our **forward** pass:\n",
    "\n",
    "1) A \"conv-relu-pool\" triple whammy, whereby we pass **x** through the convolutional layer, apply our **ReLU** activation, and max pool the output.\n",
    "\n",
    "2) A \"flatten\" operation, **x.view**, whereby we reshape our output into a one-dimensional tensor (vector?) or length 4.\n",
    "\n",
    "3) A \"linear\" operation, whereby we \"upsample\" from our flattened output to a \"class vector\" of length 10.\n",
    "\n",
    "Now we can compute our output... , calculate our loss, and backpropagate:"
   ]
  },
  {
   "cell_type": "code",
   "execution_count": 202,
   "metadata": {},
   "outputs": [
    {
     "name": "stdout",
     "output_type": "stream",
     "text": [
      "Net(\n",
      "  (conv): Conv2d(1, 4, kernel_size=(2, 2), stride=(2, 2))\n",
      "  (pool): MaxPool2d(kernel_size=2, stride=2, padding=0, dilation=1, ceil_mode=False)\n",
      "  (fc): Linear(in_features=4, out_features=10, bias=True)\n",
      ")\n",
      "tensor([[ 0.4110, -0.0782,  0.3040, -0.4929, -0.6955,  0.7336,  0.0337,  0.5236,\n",
      "         -0.2690, -0.5772]], grad_fn=<AddmmBackward>)\n"
     ]
    }
   ],
   "source": [
    "net = Net()\n",
    "print(net)\n",
    "output = net(X)\n",
    "print(output)"
   ]
  },
  {
   "cell_type": "markdown",
   "metadata": {},
   "source": [
    "...display our predicted probabilities and predicted class"
   ]
  },
  {
   "cell_type": "code",
   "execution_count": 203,
   "metadata": {},
   "outputs": [
    {
     "name": "stdout",
     "output_type": "stream",
     "text": [
      "tensor([[0.1368, 0.0839, 0.1229, 0.0554, 0.0452, 0.1888, 0.0938, 0.1531, 0.0693,\n",
      "         0.0509]], grad_fn=<SoftmaxBackward>)\n",
      "tensor(5)\n"
     ]
    },
    {
     "name": "stderr",
     "output_type": "stream",
     "text": [
      "/Users/patrickdonnelly/anaconda3/lib/python3.7/site-packages/ipykernel_launcher.py:1: UserWarning: Implicit dimension choice for softmax has been deprecated. Change the call to include dim=X as an argument.\n",
      "  \"\"\"Entry point for launching an IPython kernel.\n"
     ]
    }
   ],
   "source": [
    "predictions = F.softmax(output)\n",
    "print(predictions)\n",
    "prediction = torch.argmax(predictions)\n",
    "print(prediction)"
   ]
  },
  {
   "cell_type": "markdown",
   "metadata": {},
   "source": [
    "...calculate our loss"
   ]
  },
  {
   "cell_type": "code",
   "execution_count": 204,
   "metadata": {},
   "outputs": [],
   "source": [
    "optimizer = optim.SGD(net.parameters(), lr=0.1)\n",
    "ce_loss = nn.CrossEntropyLoss()\n",
    "loss = ce_loss(output, y)\n",
    "loss.backward()"
   ]
  },
  {
   "cell_type": "markdown",
   "metadata": {},
   "source": [
    "..and backpropagate"
   ]
  },
  {
   "cell_type": "code",
   "execution_count": 205,
   "metadata": {},
   "outputs": [],
   "source": [
    "optimizer.step()"
   ]
  },
  {
   "cell_type": "markdown",
   "metadata": {},
   "source": [
    "We've covered a lot for an eight-hour session. Hopefully you now understand a bit more about what's going on when you train a neural network. Once you get the logic behind the training process, the rest is just engineering...\n",
    "\n",
    "Please send feedback to pdonnelly@groupwaretech.com!"
   ]
  }
 ],
 "metadata": {
  "kernelspec": {
   "display_name": "Python 3",
   "language": "python",
   "name": "python3"
  },
  "language_info": {
   "codemirror_mode": {
    "name": "ipython",
    "version": 3
   },
   "file_extension": ".py",
   "mimetype": "text/x-python",
   "name": "python",
   "nbconvert_exporter": "python",
   "pygments_lexer": "ipython3",
   "version": "3.7.3"
  }
 },
 "nbformat": 4,
 "nbformat_minor": 2
}
